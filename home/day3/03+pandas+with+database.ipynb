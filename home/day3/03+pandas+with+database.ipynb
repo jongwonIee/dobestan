{
 "cells": [
  {
   "cell_type": "code",
   "execution_count": 1,
   "metadata": {
    "collapsed": true
   },
   "outputs": [],
   "source": [
    "import pandas as pd\n",
    "import MySQLdb\n",
    "\n",
    "\n",
    "db = MySQLdb.connect(\n",
    "    \"db.fastcamp.us\",  # DATABASE_HOST\n",
    "    \"root\",            # DATABASE_USERNAME\n",
    "    \"dkstncks\",        # DATABASE_PASSWORD\n",
    "    \"sakila\",          # DATABASE_NAME\n",
    "    charset='utf8',\n",
    ")# \n",
    "\n",
    "# SQL_QUERY = \"\"\"\n",
    "#     SELECT\n",
    "#     FROM\n",
    "#     ;\n",
    "# \"\"\"\n",
    "\n",
    "# pd.read_sql(SQL_QUERY, db)"
   ]
  },
  {
   "cell_type": "code",
   "execution_count": 4,
   "metadata": {
    "collapsed": false
   },
   "outputs": [],
   "source": [
    "# SQL_QUERY = \"SELECT * FROM customer;\"\n",
    "# pd.read_sql(SQL_QUERY, db)\n",
    "\n",
    "# 데이터베이스 vs Pandas\n",
    "# 병목 :: 연산 << 네트워크"
   ]
  },
  {
   "cell_type": "code",
   "execution_count": 5,
   "metadata": {
    "collapsed": true
   },
   "outputs": [],
   "source": [
    "# 모든 테이블 => DF"
   ]
  },
  {
   "cell_type": "code",
   "execution_count": 6,
   "metadata": {
    "collapsed": true
   },
   "outputs": [],
   "source": [
    "SQL_QUERY = \"SHOW Tables;\""
   ]
  },
  {
   "cell_type": "code",
   "execution_count": 13,
   "metadata": {
    "collapsed": false
   },
   "outputs": [],
   "source": [
    "tables_df = pd.read_sql(SQL_QUERY, db)\n",
    "\n",
    "# 어떻게 하면, 모든 테이블들을 일괄적으로, + 쉽게 한번에 DataFrame 으로 만들 수 있을까?\n",
    "# 함수\n",
    "# input: \"데이터베이스 명\", output: \"새로운 폴더\"(데이터베이스명), 테이블.csv\n",
    "#                       sakila/customer.csv, payment.csv, .....\n",
    "#                       world/country.csv, city.csv, ..."
   ]
  },
  {
   "cell_type": "code",
   "execution_count": null,
   "metadata": {
    "collapsed": true
   },
   "outputs": [],
   "source": []
  },
  {
   "cell_type": "code",
   "execution_count": 9,
   "metadata": {
    "collapsed": true
   },
   "outputs": [],
   "source": [
    "import os\n",
    "import shutil"
   ]
  },
  {
   "cell_type": "code",
   "execution_count": 18,
   "metadata": {
    "collapsed": false
   },
   "outputs": [
    {
     "data": {
      "text/html": [
       "<div>\n",
       "<table border=\"1\" class=\"dataframe\">\n",
       "  <thead>\n",
       "    <tr style=\"text-align: right;\">\n",
       "      <th></th>\n",
       "      <th>Tables_in_sakila</th>\n",
       "    </tr>\n",
       "  </thead>\n",
       "  <tbody>\n",
       "    <tr>\n",
       "      <th>0</th>\n",
       "      <td>actor</td>\n",
       "    </tr>\n",
       "    <tr>\n",
       "      <th>1</th>\n",
       "      <td>actor_info</td>\n",
       "    </tr>\n",
       "    <tr>\n",
       "      <th>2</th>\n",
       "      <td>address</td>\n",
       "    </tr>\n",
       "    <tr>\n",
       "      <th>3</th>\n",
       "      <td>category</td>\n",
       "    </tr>\n",
       "    <tr>\n",
       "      <th>4</th>\n",
       "      <td>city</td>\n",
       "    </tr>\n",
       "    <tr>\n",
       "      <th>5</th>\n",
       "      <td>country</td>\n",
       "    </tr>\n",
       "    <tr>\n",
       "      <th>6</th>\n",
       "      <td>customer</td>\n",
       "    </tr>\n",
       "    <tr>\n",
       "      <th>7</th>\n",
       "      <td>customer_list</td>\n",
       "    </tr>\n",
       "    <tr>\n",
       "      <th>8</th>\n",
       "      <td>film</td>\n",
       "    </tr>\n",
       "    <tr>\n",
       "      <th>9</th>\n",
       "      <td>film_actor</td>\n",
       "    </tr>\n",
       "    <tr>\n",
       "      <th>10</th>\n",
       "      <td>film_category</td>\n",
       "    </tr>\n",
       "    <tr>\n",
       "      <th>11</th>\n",
       "      <td>film_list</td>\n",
       "    </tr>\n",
       "    <tr>\n",
       "      <th>12</th>\n",
       "      <td>film_text</td>\n",
       "    </tr>\n",
       "    <tr>\n",
       "      <th>13</th>\n",
       "      <td>inventory</td>\n",
       "    </tr>\n",
       "    <tr>\n",
       "      <th>14</th>\n",
       "      <td>language</td>\n",
       "    </tr>\n",
       "    <tr>\n",
       "      <th>15</th>\n",
       "      <td>nicer_but_slower_film_list</td>\n",
       "    </tr>\n",
       "    <tr>\n",
       "      <th>16</th>\n",
       "      <td>payment</td>\n",
       "    </tr>\n",
       "    <tr>\n",
       "      <th>17</th>\n",
       "      <td>rental</td>\n",
       "    </tr>\n",
       "    <tr>\n",
       "      <th>18</th>\n",
       "      <td>sales_by_film_category</td>\n",
       "    </tr>\n",
       "    <tr>\n",
       "      <th>19</th>\n",
       "      <td>sales_by_store</td>\n",
       "    </tr>\n",
       "    <tr>\n",
       "      <th>20</th>\n",
       "      <td>staff</td>\n",
       "    </tr>\n",
       "    <tr>\n",
       "      <th>21</th>\n",
       "      <td>staff_list</td>\n",
       "    </tr>\n",
       "    <tr>\n",
       "      <th>22</th>\n",
       "      <td>store</td>\n",
       "    </tr>\n",
       "  </tbody>\n",
       "</table>\n",
       "</div>"
      ],
      "text/plain": [
       "              Tables_in_sakila\n",
       "0                        actor\n",
       "1                   actor_info\n",
       "2                      address\n",
       "3                     category\n",
       "4                         city\n",
       "5                      country\n",
       "6                     customer\n",
       "7                customer_list\n",
       "8                         film\n",
       "9                   film_actor\n",
       "10               film_category\n",
       "11                   film_list\n",
       "12                   film_text\n",
       "13                   inventory\n",
       "14                    language\n",
       "15  nicer_but_slower_film_list\n",
       "16                     payment\n",
       "17                      rental\n",
       "18      sales_by_film_category\n",
       "19              sales_by_store\n",
       "20                       staff\n",
       "21                  staff_list\n",
       "22                       store"
      ]
     },
     "execution_count": 18,
     "metadata": {},
     "output_type": "execute_result"
    }
   ],
   "source": [
    "# 데이터베이스 연결은 되어있는 상태\n",
    "\n",
    "def table_to_csv(database, table):\n",
    "    SQL_QUERY = \"SELECT * FROM {table};\".format(table=table)\n",
    "    df = pd.read_sql(SQL_QUERY, db)\n",
    "    df.to_csv(\n",
    "        os.path.join(database, table + \".csv\")\n",
    "    )\n",
    "    \n",
    "def database_to_csv(database):\n",
    "    if database in os.listdir():         # 데이터베이스 명으로 폴더 생성하기\n",
    "        shutil.rmtree(database)\n",
    "    os.makedirs(database)\n",
    "    \n",
    "    tables_df = pd.read_sql(\"SHOW Tables;\", db)  # \"Tables_in_sakila\"\n",
    "    tables_df.iloc[:, 0].apply(lambda table: table_to_csv(database, table))\n",
    "    # pandas 데이터 분석 ( 기능적으로 사용할 수 있는 부분도 많다! )\n",
    "    \n",
    "    return tables_df\n",
    "\n",
    "    \n",
    "database_to_csv(\"sakila\")"
   ]
  },
  {
   "cell_type": "code",
   "execution_count": 16,
   "metadata": {
    "collapsed": false
   },
   "outputs": [
    {
     "data": {
      "text/plain": [
       "0                          SELECT * FROM actor;\n",
       "1                     SELECT * FROM actor_info;\n",
       "2                        SELECT * FROM address;\n",
       "3                       SELECT * FROM category;\n",
       "4                           SELECT * FROM city;\n",
       "5                        SELECT * FROM country;\n",
       "6                       SELECT * FROM customer;\n",
       "7                  SELECT * FROM customer_list;\n",
       "8                           SELECT * FROM film;\n",
       "9                     SELECT * FROM film_actor;\n",
       "10                 SELECT * FROM film_category;\n",
       "11                     SELECT * FROM film_list;\n",
       "12                     SELECT * FROM film_text;\n",
       "13                     SELECT * FROM inventory;\n",
       "14                      SELECT * FROM language;\n",
       "15    SELECT * FROM nicer_but_slower_film_list;\n",
       "16                       SELECT * FROM payment;\n",
       "17                        SELECT * FROM rental;\n",
       "18        SELECT * FROM sales_by_film_category;\n",
       "19                SELECT * FROM sales_by_store;\n",
       "20                         SELECT * FROM staff;\n",
       "21                    SELECT * FROM staff_list;\n",
       "22                         SELECT * FROM store;\n",
       "Name: Tables_in_sakila, dtype: object"
      ]
     },
     "execution_count": 16,
     "metadata": {},
     "output_type": "execute_result"
    }
   ],
   "source": [
    "tables_df.iloc[:, 0].apply(\n",
    "    lambda table_name: \"SELECT * FROM {table_name};\".format(\n",
    "        table_name=table_name,\n",
    "    )\n",
    ")"
   ]
  },
  {
   "cell_type": "code",
   "execution_count": null,
   "metadata": {
    "collapsed": true
   },
   "outputs": [],
   "source": []
  },
  {
   "cell_type": "code",
   "execution_count": null,
   "metadata": {
    "collapsed": true
   },
   "outputs": [],
   "source": []
  },
  {
   "cell_type": "code",
   "execution_count": null,
   "metadata": {
    "collapsed": true
   },
   "outputs": [],
   "source": []
  }
 ],
 "metadata": {
  "kernelspec": {
   "display_name": "Python 3",
   "language": "python",
   "name": "python3"
  },
  "language_info": {
   "codemirror_mode": {
    "name": "ipython",
    "version": 3
   },
   "file_extension": ".py",
   "mimetype": "text/x-python",
   "name": "python",
   "nbconvert_exporter": "python",
   "pygments_lexer": "ipython3",
   "version": "3.4.3"
  }
 },
 "nbformat": 4,
 "nbformat_minor": 1
}
