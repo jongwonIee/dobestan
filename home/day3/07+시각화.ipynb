{
 "cells": [
  {
   "cell_type": "code",
   "execution_count": 1,
   "metadata": {
    "collapsed": true
   },
   "outputs": [],
   "source": [
    "# 파이썬 ( Matplotlib , Seaborn, Bokeh )\n",
    "# 파이썬 분석 + API , ====> D3.js Highchart.js"
   ]
  },
  {
   "cell_type": "code",
   "execution_count": 2,
   "metadata": {
    "collapsed": true
   },
   "outputs": [],
   "source": [
    "# Matplotlib"
   ]
  },
  {
   "cell_type": "code",
   "execution_count": 3,
   "metadata": {
    "collapsed": true
   },
   "outputs": [],
   "source": [
    "# 시각화 : PIL(Python Image Library), Pillow\n",
    "# 시각화 ( x축, y축, z축 ) => plot, bar. histogram, scatter"
   ]
  },
  {
   "cell_type": "code",
   "execution_count": 4,
   "metadata": {
    "collapsed": true
   },
   "outputs": [],
   "source": [
    "# 어느정도 자동화\n",
    "# 그림 주석. 텍스트... ( x=100, y=50 \"코스피 변화량\" )"
   ]
  },
  {
   "cell_type": "code",
   "execution_count": 1,
   "metadata": {
    "collapsed": true
   },
   "outputs": [],
   "source": [
    "# 할 수 있는 방법 +++\n",
    "# list, numpy.ndarray, pandas,Series, pandas,DataFrame\n",
    "#                      (index, values) (pd.Series N)\n",
    "\n",
    "# 1. Matplotlib API ( 가장 정석적인 방법 ) (*)\n",
    "# 2. Pandas API ( Series, DataFrame 쉽게 그리기 쉬운 방법 )"
   ]
  },
  {
   "cell_type": "code",
   "execution_count": 2,
   "metadata": {
    "collapsed": true
   },
   "outputs": [],
   "source": [
    "# Matplotlib backend\n",
    "# \"inline\", \"nbagg\" ( \"inline\" )"
   ]
  },
  {
   "cell_type": "code",
   "execution_count": 3,
   "metadata": {
    "collapsed": true
   },
   "outputs": [],
   "source": [
    "%matplotlib inline"
   ]
  },
  {
   "cell_type": "code",
   "execution_count": 13,
   "metadata": {
    "collapsed": true
   },
   "outputs": [],
   "source": [
    "import matplotlib\n",
    "import matplotlib.pyplot as plt           # Matlab ( Pythonic X )"
   ]
  },
  {
   "cell_type": "code",
   "execution_count": 7,
   "metadata": {
    "collapsed": false
   },
   "outputs": [
    {
     "data": {
      "text/plain": [
       "<matplotlib.text.Text at 0x7fade4849eb8>"
      ]
     },
     "execution_count": 7,
     "metadata": {},
     "output_type": "execute_result"
    },
    {
     "data": {
      "image/png": "[encoded data removed]",
      "text/plain": [
       "<matplotlib.figure.Figure at 0x7fade4889668>"
      ]
     },
     "metadata": {},
     "output_type": "display_data"
    }
   ],
   "source": [
    "plt.plot(\n",
    "    [1, 2, 3, 4, 5],\n",
    "    [1, 2, 3, 4, 5],  # y = x\n",
    ")\n",
    "plt.title(\"My First Title\")\n",
    "\n",
    "# 이미지는 어디에 저장되나? (\"df\", \"customer_df\", \"a\" )\n",
    "# matplotlib.pyplot ( `plt` ) ( matplotlib api )\n",
    "# plt.title\n",
    "# plt._______ ( => 마지막 가리키고 있는 이미지를 수정 )"
   ]
  },
  {
   "cell_type": "code",
   "execution_count": 8,
   "metadata": {
    "collapsed": false
   },
   "outputs": [
    {
     "data": {
      "text/plain": [
       "[<matplotlib.lines.Line2D at 0x7fade476eeb8>]"
      ]
     },
     "execution_count": 8,
     "metadata": {},
     "output_type": "execute_result"
    },
    {
     "data": {
      "image/png": "[encoded data removed]",
      "text/plain": [
       "<matplotlib.figure.Figure at 0x7fade47fa7f0>"
      ]
     },
     "metadata": {},
     "output_type": "display_data"
    }
   ],
   "source": [
    "plt.plot(\n",
    "    [1, 2, 3, 4, 5],\n",
    "    [1, 2, 3, 4, 5],  # y = x\n",
    ")\n",
    "# plt.title(\"My First Title\")\n",
    "\n",
    "# 이미지는 어디에 저장되나? (\"df\", \"customer_df\", \"a\" )\n",
    "# matplotlib.pyplot ( `plt` ) ( matplotlib api )\n",
    "# plt.title\n",
    "# plt._______ ( => 마지막 가리키고 있는 이미지를 수정 )"
   ]
  },
  {
   "cell_type": "code",
   "execution_count": 9,
   "metadata": {
    "collapsed": false
   },
   "outputs": [
    {
     "data": {
      "text/plain": [
       "<matplotlib.text.Text at 0x7fade46b9b00>"
      ]
     },
     "execution_count": 9,
     "metadata": {},
     "output_type": "execute_result"
    },
    {
     "data": {
      "image/png": "[encoded data removed]",
      "text/plain": [
       "<matplotlib.figure.Figure at 0x7fade4703748>"
      ]
     },
     "metadata": {},
     "output_type": "display_data"
    }
   ],
   "source": [
    "# plt.plot(\n",
    "#     [1, 2, 3, 4, 5],\n",
    "#     [1, 2, 3, 4, 5],  # y = x\n",
    "# )\n",
    "plt.title(\"My First Title\")\n",
    "\n",
    "# 이미지는 어디에 저장되나? (\"df\", \"customer_df\", \"a\" )\n",
    "# matplotlib.pyplot ( `plt` ) ( matplotlib api )\n",
    "# plt.title\n",
    "# plt._______ ( => 마지막 가리키고 있는 이미지를 수정 )"
   ]
  },
  {
   "cell_type": "code",
   "execution_count": null,
   "metadata": {
    "collapsed": true
   },
   "outputs": [],
   "source": []
  },
  {
   "cell_type": "code",
   "execution_count": 14,
   "metadata": {
    "collapsed": true
   },
   "outputs": [],
   "source": [
    "# 좋지 못한 방법 ( nbagg )\n",
    "%matplotlib nbagg\n",
    "\n",
    "# 다른 사람들이 재현 X ( x축 range, y 축 range )\n",
    "# 코드로만 재현 "
   ]
  },
  {
   "cell_type": "code",
   "execution_count": 16,
   "metadata": {
    "collapsed": false
   },
   "outputs": [
    {
     "data": {
      "application/javascript": [
       "/* Put everything inside the global mpl namespace */\n",
       "window.mpl = {};\n",
       "\n",
       "mpl.get_websocket_type = function() {\n",
       "    if (typeof(WebSocket) !== 'undefined') {\n",
       "        return WebSocket;\n",
       "    } else if (typeof(MozWebSocket) !== 'undefined') {\n",
       "        return MozWebSocket;\n",
       "    } else {\n",
       "        alert('Your browser does not have WebSocket support.' +\n",
       "              'Please try Chrome, Safari or Firefox ≥ 6. ' +\n",
       "              'Firefox 4 and 5 are also supported but you ' +\n",
       "              'have to enable WebSockets in about:config.');\n",
       "    };\n",
       "}\n",
       "\n",
       "mpl.figure = function(figure_id, websocket, ondownload, parent_element) {\n",
       "    this.id = figure_id;\n",
       "\n",
       "    this.ws = websocket;\n",
       "\n",
       "    this.supports_binary = (this.ws.binaryType != undefined);\n",
       "\n",
       "    if (!this.supports_binary) {\n",
       "        var warnings = document.getElementById(\"mpl-warnings\");\n",
       "        if (warnings) {\n",
       "            warnings.style.display = 'block';\n",
       "            warnings.textContent = (\n",
       "                \"This browser does not support binary websocket messages. \" +\n",
       "                    \"Performance may be slow.\");\n",
       "        }\n",
       "    }\n",
       "\n",
       "    this.imageObj = new Image();\n",
       "\n",
       "    this.context = undefined;\n",
       "    this.message = undefined;\n",
       "    this.canvas = undefined;\n",
       "    this.rubberband_canvas = undefined;\n",
       "    this.rubberband_context = undefined;\n",
       "    this.format_dropdown = undefined;\n",
       "\n",
       "    this.image_mode = 'full';\n",
       "\n",
       "    this.root = $('<div/>');\n",
       "    this._root_extra_style(this.root)\n",
       "    this.root.attr('style', 'display: inline-block');\n",
       "\n",
       "    $(parent_element).append(this.root);\n",
       "\n",
       "    this._init_header(this);\n",
       "    this._init_canvas(this);\n",
       "    this._init_toolbar(this);\n",
       "\n",
       "    var fig = this;\n",
       "\n",
       "    this.waiting = false;\n",
       "\n",
       "    this.ws.onopen =  function () {\n",
       "            fig.send_message(\"supports_binary\", {value: fig.supports_binary});\n",
       "            fig.send_message(\"send_image_mode\", {});\n",
       "            fig.send_message(\"refresh\", {});\n",
       "        }\n",
       "\n",
       "    this.imageObj.onload = function() {\n",
       "            if (fig.image_mode == 'full') {\n",
       "                // Full images could contain transparency (where diff images\n",
       "                // almost always do), so we need to clear the canvas so that\n",
       "                // there is no ghosting.\n",
       "                fig.context.clearRect(0, 0, fig.canvas.width, fig.canvas.height);\n",
       "            }\n",
       "            fig.context.drawImage(fig.imageObj, 0, 0);\n",
       "        };\n",
       "\n",
       "    this.imageObj.onunload = function() {\n",
       "        this.ws.close();\n",
       "    }\n",
       "\n",
       "    this.ws.onmessage = this._make_on_message_function(this);\n",
       "\n",
       "    this.ondownload = ondownload;\n",
       "}\n",
       "\n",
       "mpl.figure.prototype._init_header = function() {\n",
       "    var titlebar = $(\n",
       "        '<div class=\"ui-dialog-titlebar ui-widget-header ui-corner-all ' +\n",
       "        'ui-helper-clearfix\"/>');\n",
       "    var titletext = $(\n",
       "        '<div class=\"ui-dialog-title\" style=\"width: 100%; ' +\n",
       "        'text-align: center; padding: 3px;\"/>');\n",
       "    titlebar.append(titletext)\n",
       "    this.root.append(titlebar);\n",
       "    this.header = titletext[0];\n",
       "}\n",
       "\n",
       "\n",
       "\n",
       "mpl.figure.prototype._canvas_extra_style = function(canvas_div) {\n",
       "\n",
       "}\n",
       "\n",
       "\n",
       "mpl.figure.prototype._root_extra_style = function(canvas_div) {\n",
       "\n",
       "}\n",
       "\n",
       "mpl.figure.prototype._init_canvas = function() {\n",
       "    var fig = this;\n",
       "\n",
       "    var canvas_div = $('<div/>');\n",
       "\n",
       "    canvas_div.attr('style', 'position: relative; clear: both; outline: 0');\n",
       "\n",
       "    function canvas_keyboard_event(event) {\n",
       "        return fig.key_event(event, event['data']);\n",
       "    }\n",
       "\n",
       "    canvas_div.keydown('key_press', canvas_keyboard_event);\n",
       "    canvas_div.keyup('key_release', canvas_keyboard_event);\n",
       "    this.canvas_div = canvas_div\n",
       "    this._canvas_extra_style(canvas_div)\n",
       "    this.root.append(canvas_div);\n",
       "\n",
       "    var canvas = $('<canvas/>');\n",
       "    canvas.addClass('mpl-canvas');\n",
       "    canvas.attr('style', \"left: 0; top: 0; z-index: 0; outline: 0\")\n",
       "\n",
       "    this.canvas = canvas[0];\n",
       "    this.context = canvas[0].getContext(\"2d\");\n",
       "\n",
       "    var rubberband = $('<canvas/>');\n",
       "    rubberband.attr('style', \"position: absolute; left: 0; top: 0; z-index: 1;\")\n",
       "\n",
       "    var pass_mouse_events = true;\n",
       "\n",
       "    canvas_div.resizable({\n",
       "        start: function(event, ui) {\n",
       "            pass_mouse_events = false;\n",
       "        },\n",
       "        resize: function(event, ui) {\n",
       "            fig.request_resize(ui.size.width, ui.size.height);\n",
       "        },\n",
       "        stop: function(event, ui) {\n",
       "            pass_mouse_events = true;\n",
       "            fig.request_resize(ui.size.width, ui.size.height);\n",
       "        },\n",
       "    });\n",
       "\n",
       "    function mouse_event_fn(event) {\n",
       "        if (pass_mouse_events)\n",
       "            return fig.mouse_event(event, event['data']);\n",
       "    }\n",
       "\n",
       "    rubberband.mousedown('button_press', mouse_event_fn);\n",
       "    rubberband.mouseup('button_release', mouse_event_fn);\n",
       "    // Throttle sequential mouse events to 1 every 20ms.\n",
       "    rubberband.mousemove('motion_notify', mouse_event_fn);\n",
       "\n",
       "    rubberband.mouseenter('figure_enter', mouse_event_fn);\n",
       "    rubberband.mouseleave('figure_leave', mouse_event_fn);\n",
       "\n",
       "    canvas_div.on(\"wheel\", function (event) {\n",
       "        event = event.originalEvent;\n",
       "        event['data'] = 'scroll'\n",
       "        if (event.deltaY < 0) {\n",
       "            event.step = 1;\n",
       "        } else {\n",
       "            event.step = -1;\n",
       "        }\n",
       "        mouse_event_fn(event);\n",
       "    });\n",
       "\n",
       "    canvas_div.append(canvas);\n",
       "    canvas_div.append(rubberband);\n",
       "\n",
       "    this.rubberband = rubberband;\n",
       "    this.rubberband_canvas = rubberband[0];\n",
       "    this.rubberband_context = rubberband[0].getContext(\"2d\");\n",
       "    this.rubberband_context.strokeStyle = \"#000000\";\n",
       "\n",
       "    this._resize_canvas = function(width, height) {\n",
       "        // Keep the size of the canvas, canvas container, and rubber band\n",
       "        // canvas in synch.\n",
       "        canvas_div.css('width', width)\n",
       "        canvas_div.css('height', height)\n",
       "\n",
       "        canvas.attr('width', width);\n",
       "        canvas.attr('height', height);\n",
       "\n",
       "        rubberband.attr('width', width);\n",
       "        rubberband.attr('height', height);\n",
       "    }\n",
       "\n",
       "    // Set the figure to an initial 600x600px, this will subsequently be updated\n",
       "    // upon first draw.\n",
       "    this._resize_canvas(600, 600);\n",
       "\n",
       "    // Disable right mouse context menu.\n",
       "    $(this.rubberband_canvas).bind(\"contextmenu\",function(e){\n",
       "        return false;\n",
       "    });\n",
       "\n",
       "    function set_focus () {\n",
       "        canvas.focus();\n",
       "        canvas_div.focus();\n",
       "    }\n",
       "\n",
       "    window.setTimeout(set_focus, 100);\n",
       "}\n",
       "\n",
       "mpl.figure.prototype._init_toolbar = function() {\n",
       "    var fig = this;\n",
       "\n",
       "    var nav_element = $('<div/>')\n",
       "    nav_element.attr('style', 'width: 100%');\n",
       "    this.root.append(nav_element);\n",
       "\n",
       "    // Define a callback function for later on.\n",
       "    function toolbar_event(event) {\n",
       "        return fig.toolbar_button_onclick(event['data']);\n",
       "    }\n",
       "    function toolbar_mouse_event(event) {\n",
       "        return fig.toolbar_button_onmouseover(event['data']);\n",
       "    }\n",
       "\n",
       "    for(var toolbar_ind in mpl.toolbar_items) {\n",
       "        var name = mpl.toolbar_items[toolbar_ind][0];\n",
       "        var tooltip = mpl.toolbar_items[toolbar_ind][1];\n",
       "        var image = mpl.toolbar_items[toolbar_ind][2];\n",
       "        var method_name = mpl.toolbar_items[toolbar_ind][3];\n",
       "\n",
       "        if (!name) {\n",
       "            // put a spacer in here.\n",
       "            continue;\n",
       "        }\n",
       "        var button = $('<button/>');\n",
       "        button.addClass('ui-button ui-widget ui-state-default ui-corner-all ' +\n",
       "                        'ui-button-icon-only');\n",
       "        button.attr('role', 'button');\n",
       "        button.attr('aria-disabled', 'false');\n",
       "        button.click(method_name, toolbar_event);\n",
       "        button.mouseover(tooltip, toolbar_mouse_event);\n",
       "\n",
       "        var icon_img = $('<span/>');\n",
       "        icon_img.addClass('ui-button-icon-primary ui-icon');\n",
       "        icon_img.addClass(image);\n",
       "        icon_img.addClass('ui-corner-all');\n",
       "\n",
       "        var tooltip_span = $('<span/>');\n",
       "        tooltip_span.addClass('ui-button-text');\n",
       "        tooltip_span.html(tooltip);\n",
       "\n",
       "        button.append(icon_img);\n",
       "        button.append(tooltip_span);\n",
       "\n",
       "        nav_element.append(button);\n",
       "    }\n",
       "\n",
       "    var fmt_picker_span = $('<span/>');\n",
       "\n",
       "    var fmt_picker = $('<select/>');\n",
       "    fmt_picker.addClass('mpl-toolbar-option ui-widget ui-widget-content');\n",
       "    fmt_picker_span.append(fmt_picker);\n",
       "    nav_element.append(fmt_picker_span);\n",
       "    this.format_dropdown = fmt_picker[0];\n",
       "\n",
       "    for (var ind in mpl.extensions) {\n",
       "        var fmt = mpl.extensions[ind];\n",
       "        var option = $(\n",
       "            '<option/>', {selected: fmt === mpl.default_extension}).html(fmt);\n",
       "        fmt_picker.append(option)\n",
       "    }\n",
       "\n",
       "    // Add hover states to the ui-buttons\n",
       "    $( \".ui-button\" ).hover(\n",
       "        function() { $(this).addClass(\"ui-state-hover\");},\n",
       "        function() { $(this).removeClass(\"ui-state-hover\");}\n",
       "    );\n",
       "\n",
       "    var status_bar = $('<span class=\"mpl-message\"/>');\n",
       "    nav_element.append(status_bar);\n",
       "    this.message = status_bar[0];\n",
       "}\n",
       "\n",
       "mpl.figure.prototype.request_resize = function(x_pixels, y_pixels) {\n",
       "    // Request matplotlib to resize the figure. Matplotlib will then trigger a resize in the client,\n",
       "    // which will in turn request a refresh of the image.\n",
       "    this.send_message('resize', {'width': x_pixels, 'height': y_pixels});\n",
       "}\n",
       "\n",
       "mpl.figure.prototype.send_message = function(type, properties) {\n",
       "    properties['type'] = type;\n",
       "    properties['figure_id'] = this.id;\n",
       "    this.ws.send(JSON.stringify(properties));\n",
       "}\n",
       "\n",
       "mpl.figure.prototype.send_draw_message = function() {\n",
       "    if (!this.waiting) {\n",
       "        this.waiting = true;\n",
       "        this.ws.send(JSON.stringify({type: \"draw\", figure_id: this.id}));\n",
       "    }\n",
       "}\n",
       "\n",
       "\n",
       "mpl.figure.prototype.handle_save = function(fig, msg) {\n",
       "    var format_dropdown = fig.format_dropdown;\n",
       "    var format = format_dropdown.options[format_dropdown.selectedIndex].value;\n",
       "    fig.ondownload(fig, format);\n",
       "}\n",
       "\n",
       "\n",
       "mpl.figure.prototype.handle_resize = function(fig, msg) {\n",
       "    var size = msg['size'];\n",
       "    if (size[0] != fig.canvas.width || size[1] != fig.canvas.height) {\n",
       "        fig._resize_canvas(size[0], size[1]);\n",
       "        fig.send_message(\"refresh\", {});\n",
       "    };\n",
       "}\n",
       "\n",
       "mpl.figure.prototype.handle_rubberband = function(fig, msg) {\n",
       "    var x0 = msg['x0'];\n",
       "    var y0 = fig.canvas.height - msg['y0'];\n",
       "    var x1 = msg['x1'];\n",
       "    var y1 = fig.canvas.height - msg['y1'];\n",
       "    x0 = Math.floor(x0) + 0.5;\n",
       "    y0 = Math.floor(y0) + 0.5;\n",
       "    x1 = Math.floor(x1) + 0.5;\n",
       "    y1 = Math.floor(y1) + 0.5;\n",
       "    var min_x = Math.min(x0, x1);\n",
       "    var min_y = Math.min(y0, y1);\n",
       "    var width = Math.abs(x1 - x0);\n",
       "    var height = Math.abs(y1 - y0);\n",
       "\n",
       "    fig.rubberband_context.clearRect(\n",
       "        0, 0, fig.canvas.width, fig.canvas.height);\n",
       "\n",
       "    fig.rubberband_context.strokeRect(min_x, min_y, width, height);\n",
       "}\n",
       "\n",
       "mpl.figure.prototype.handle_figure_label = function(fig, msg) {\n",
       "    // Updates the figure title.\n",
       "    fig.header.textContent = msg['label'];\n",
       "}\n",
       "\n",
       "mpl.figure.prototype.handle_cursor = function(fig, msg) {\n",
       "    var cursor = msg['cursor'];\n",
       "    switch(cursor)\n",
       "    {\n",
       "    case 0:\n",
       "        cursor = 'pointer';\n",
       "        break;\n",
       "    case 1:\n",
       "        cursor = 'default';\n",
       "        break;\n",
       "    case 2:\n",
       "        cursor = 'crosshair';\n",
       "        break;\n",
       "    case 3:\n",
       "        cursor = 'move';\n",
       "        break;\n",
       "    }\n",
       "    fig.rubberband_canvas.style.cursor = cursor;\n",
       "}\n",
       "\n",
       "mpl.figure.prototype.handle_message = function(fig, msg) {\n",
       "    fig.message.textContent = msg['message'];\n",
       "}\n",
       "\n",
       "mpl.figure.prototype.handle_draw = function(fig, msg) {\n",
       "    // Request the server to send over a new figure.\n",
       "    fig.send_draw_message();\n",
       "}\n",
       "\n",
       "mpl.figure.prototype.handle_image_mode = function(fig, msg) {\n",
       "    fig.image_mode = msg['mode'];\n",
       "}\n",
       "\n",
       "mpl.figure.prototype.updated_canvas_event = function() {\n",
       "    // Called whenever the canvas gets updated.\n",
       "    this.send_message(\"ack\", {});\n",
       "}\n",
       "\n",
       "// A function to construct a web socket function for onmessage handling.\n",
       "// Called in the figure constructor.\n",
       "mpl.figure.prototype._make_on_message_function = function(fig) {\n",
       "    return function socket_on_message(evt) {\n",
       "        if (evt.data instanceof Blob) {\n",
       "            /* FIXME: We get \"Resource interpreted as Image but\n",
       "             * transferred with MIME type text/plain:\" errors on\n",
       "             * Chrome.  But how to set the MIME type?  It doesn't seem\n",
       "             * to be part of the websocket stream */\n",
       "            evt.data.type = \"image/png\";\n",
       "\n",
       "            /* Free the memory for the previous frames */\n",
       "            if (fig.imageObj.src) {\n",
       "                (window.URL || window.webkitURL).revokeObjectURL(\n",
       "                    fig.imageObj.src);\n",
       "            }\n",
       "\n",
       "            fig.imageObj.src = (window.URL || window.webkitURL).createObjectURL(\n",
       "                evt.data);\n",
       "            fig.updated_canvas_event();\n",
       "            fig.waiting = false;\n",
       "            return;\n",
       "        }\n",
       "        else if (typeof evt.data === 'string' && evt.data.slice(0, 21) == \"data:image/png;base64\") {\n",
       "            fig.imageObj.src = evt.data;\n",
       "            fig.updated_canvas_event();\n",
       "            fig.waiting = false;\n",
       "            return;\n",
       "        }\n",
       "\n",
       "        var msg = JSON.parse(evt.data);\n",
       "        var msg_type = msg['type'];\n",
       "\n",
       "        // Call the  \"handle_{type}\" callback, which takes\n",
       "        // the figure and JSON message as its only arguments.\n",
       "        try {\n",
       "            var callback = fig[\"handle_\" + msg_type];\n",
       "        } catch (e) {\n",
       "            console.log(\"No handler for the '\" + msg_type + \"' message type: \", msg);\n",
       "            return;\n",
       "        }\n",
       "\n",
       "        if (callback) {\n",
       "            try {\n",
       "                // console.log(\"Handling '\" + msg_type + \"' message: \", msg);\n",
       "                callback(fig, msg);\n",
       "            } catch (e) {\n",
       "                console.log(\"Exception inside the 'handler_\" + msg_type + \"' callback:\", e, e.stack, msg);\n",
       "            }\n",
       "        }\n",
       "    };\n",
       "}\n",
       "\n",
       "// from http://stackoverflow.com/questions/1114465/getting-mouse-location-in-canvas\n",
       "mpl.findpos = function(e) {\n",
       "    //this section is from http://www.quirksmode.org/js/events_properties.html\n",
       "    var targ;\n",
       "    if (!e)\n",
       "        e = window.event;\n",
       "    if (e.target)\n",
       "        targ = e.target;\n",
       "    else if (e.srcElement)\n",
       "        targ = e.srcElement;\n",
       "    if (targ.nodeType == 3) // defeat Safari bug\n",
       "        targ = targ.parentNode;\n",
       "\n",
       "    // jQuery normalizes the pageX and pageY\n",
       "    // pageX,Y are the mouse positions relative to the document\n",
       "    // offset() returns the position of the element relative to the document\n",
       "    var x = e.pageX - $(targ).offset().left;\n",
       "    var y = e.pageY - $(targ).offset().top;\n",
       "\n",
       "    return {\"x\": x, \"y\": y};\n",
       "};\n",
       "\n",
       "/*\n",
       " * return a copy of an object with only non-object keys\n",
       " * we need this to avoid circular references\n",
       " * http://stackoverflow.com/a/24161582/3208463\n",
       " */\n",
       "function simpleKeys (original) {\n",
       "  return Object.keys(original).reduce(function (obj, key) {\n",
       "    if (typeof original[key] !== 'object')\n",
       "        obj[key] = original[key]\n",
       "    return obj;\n",
       "  }, {});\n",
       "}\n",
       "\n",
       "mpl.figure.prototype.mouse_event = function(event, name) {\n",
       "    var canvas_pos = mpl.findpos(event)\n",
       "\n",
       "    if (name === 'button_press')\n",
       "    {\n",
       "        this.canvas.focus();\n",
       "        this.canvas_div.focus();\n",
       "    }\n",
       "\n",
       "    var x = canvas_pos.x;\n",
       "    var y = canvas_pos.y;\n",
       "\n",
       "    this.send_message(name, {x: x, y: y, button: event.button,\n",
       "                             step: event.step,\n",
       "                             guiEvent: simpleKeys(event)});\n",
       "\n",
       "    /* This prevents the web browser from automatically changing to\n",
       "     * the text insertion cursor when the button is pressed.  We want\n",
       "     * to control all of the cursor setting manually through the\n",
       "     * 'cursor' event from matplotlib */\n",
       "    event.preventDefault();\n",
       "    return false;\n",
       "}\n",
       "\n",
       "mpl.figure.prototype._key_event_extra = function(event, name) {\n",
       "    // Handle any extra behaviour associated with a key event\n",
       "}\n",
       "\n",
       "mpl.figure.prototype.key_event = function(event, name) {\n",
       "\n",
       "    // Prevent repeat events\n",
       "    if (name == 'key_press')\n",
       "    {\n",
       "        if (event.which === this._key)\n",
       "            return;\n",
       "        else\n",
       "            this._key = event.which;\n",
       "    }\n",
       "    if (name == 'key_release')\n",
       "        this._key = null;\n",
       "\n",
       "    var value = '';\n",
       "    if (event.ctrlKey && event.which != 17)\n",
       "        value += \"ctrl+\";\n",
       "    if (event.altKey && event.which != 18)\n",
       "        value += \"alt+\";\n",
       "    if (event.shiftKey && event.which != 16)\n",
       "        value += \"shift+\";\n",
       "\n",
       "    value += 'k';\n",
       "    value += event.which.toString();\n",
       "\n",
       "    this._key_event_extra(event, name);\n",
       "\n",
       "    this.send_message(name, {key: value,\n",
       "                             guiEvent: simpleKeys(event)});\n",
       "    return false;\n",
       "}\n",
       "\n",
       "mpl.figure.prototype.toolbar_button_onclick = function(name) {\n",
       "    if (name == 'download') {\n",
       "        this.handle_save(this, null);\n",
       "    } else {\n",
       "        this.send_message(\"toolbar_button\", {name: name});\n",
       "    }\n",
       "};\n",
       "\n",
       "mpl.figure.prototype.toolbar_button_onmouseover = function(tooltip) {\n",
       "    this.message.textContent = tooltip;\n",
       "};\n",
       "mpl.toolbar_items = [[\"Home\", \"Reset original view\", \"fa fa-home icon-home\", \"home\"], [\"Back\", \"Back to  previous view\", \"fa fa-arrow-left icon-arrow-left\", \"back\"], [\"Forward\", \"Forward to next view\", \"fa fa-arrow-right icon-arrow-right\", \"forward\"], [\"\", \"\", \"\", \"\"], [\"Pan\", \"Pan axes with left mouse, zoom with right\", \"fa fa-arrows icon-move\", \"pan\"], [\"Zoom\", \"Zoom to rectangle\", \"fa fa-square-o icon-check-empty\", \"zoom\"], [\"\", \"\", \"\", \"\"], [\"Download\", \"Download plot\", \"fa fa-floppy-o icon-save\", \"download\"]];\n",
       "\n",
       "mpl.extensions = [\"eps\", \"jpeg\", \"pdf\", \"png\", \"ps\", \"raw\", \"svg\", \"tif\"];\n",
       "\n",
       "mpl.default_extension = \"png\";var comm_websocket_adapter = function(comm) {\n",
       "    // Create a \"websocket\"-like object which calls the given IPython comm\n",
       "    // object with the appropriate methods. Currently this is a non binary\n",
       "    // socket, so there is still some room for performance tuning.\n",
       "    var ws = {};\n",
       "\n",
       "    ws.close = function() {\n",
       "        comm.close()\n",
       "    };\n",
       "    ws.send = function(m) {\n",
       "        //console.log('sending', m);\n",
       "        comm.send(m);\n",
       "    };\n",
       "    // Register the callback with on_msg.\n",
       "    comm.on_msg(function(msg) {\n",
       "        //console.log('receiving', msg['content']['data'], msg);\n",
       "        // Pass the mpl event to the overriden (by mpl) onmessage function.\n",
       "        ws.onmessage(msg['content']['data'])\n",
       "    });\n",
       "    return ws;\n",
       "}\n",
       "\n",
       "mpl.mpl_figure_comm = function(comm, msg) {\n",
       "    // This is the function which gets called when the mpl process\n",
       "    // starts-up an IPython Comm through the \"matplotlib\" channel.\n",
       "\n",
       "    var id = msg.content.data.id;\n",
       "    // Get hold of the div created by the display call when the Comm\n",
       "    // socket was opened in Python.\n",
       "    var element = $(\"#\" + id);\n",
       "    var ws_proxy = comm_websocket_adapter(comm)\n",
       "\n",
       "    function ondownload(figure, format) {\n",
       "        window.open(figure.imageObj.src);\n",
       "    }\n",
       "\n",
       "    var fig = new mpl.figure(id, ws_proxy,\n",
       "                           ondownload,\n",
       "                           element.get(0));\n",
       "\n",
       "    // Call onopen now - mpl needs it, as it is assuming we've passed it a real\n",
       "    // web socket which is closed, not our websocket->open comm proxy.\n",
       "    ws_proxy.onopen();\n",
       "\n",
       "    fig.parent_element = element.get(0);\n",
       "    fig.cell_info = mpl.find_output_cell(\"<div id='\" + id + \"'></div>\");\n",
       "    if (!fig.cell_info) {\n",
       "        console.error(\"Failed to find cell for figure\", id, fig);\n",
       "        return;\n",
       "    }\n",
       "\n",
       "    var output_index = fig.cell_info[2]\n",
       "    var cell = fig.cell_info[0];\n",
       "\n",
       "};\n",
       "\n",
       "mpl.figure.prototype.handle_close = function(fig, msg) {\n",
       "    fig.root.unbind('remove')\n",
       "\n",
       "    // Update the output cell to use the data from the current canvas.\n",
       "    fig.push_to_output();\n",
       "    var dataURL = fig.canvas.toDataURL();\n",
       "    // Re-enable the keyboard manager in IPython - without this line, in FF,\n",
       "    // the notebook keyboard shortcuts fail.\n",
       "    IPython.keyboard_manager.enable()\n",
       "    $(fig.parent_element).html('<img src=\"' + dataURL + '\">');\n",
       "    fig.close_ws(fig, msg);\n",
       "}\n",
       "\n",
       "mpl.figure.prototype.close_ws = function(fig, msg){\n",
       "    fig.send_message('closing', msg);\n",
       "    // fig.ws.close()\n",
       "}\n",
       "\n",
       "mpl.figure.prototype.push_to_output = function(remove_interactive) {\n",
       "    // Turn the data on the canvas into data in the output cell.\n",
       "    var dataURL = this.canvas.toDataURL();\n",
       "    this.cell_info[1]['text/html'] = '<img src=\"' + dataURL + '\">';\n",
       "}\n",
       "\n",
       "mpl.figure.prototype.updated_canvas_event = function() {\n",
       "    // Tell IPython that the notebook contents must change.\n",
       "    IPython.notebook.set_dirty(true);\n",
       "    this.send_message(\"ack\", {});\n",
       "    var fig = this;\n",
       "    // Wait a second, then push the new image to the DOM so\n",
       "    // that it is saved nicely (might be nice to debounce this).\n",
       "    setTimeout(function () { fig.push_to_output() }, 1000);\n",
       "}\n",
       "\n",
       "mpl.figure.prototype._init_toolbar = function() {\n",
       "    var fig = this;\n",
       "\n",
       "    var nav_element = $('<div/>')\n",
       "    nav_element.attr('style', 'width: 100%');\n",
       "    this.root.append(nav_element);\n",
       "\n",
       "    // Define a callback function for later on.\n",
       "    function toolbar_event(event) {\n",
       "        return fig.toolbar_button_onclick(event['data']);\n",
       "    }\n",
       "    function toolbar_mouse_event(event) {\n",
       "        return fig.toolbar_button_onmouseover(event['data']);\n",
       "    }\n",
       "\n",
       "    for(var toolbar_ind in mpl.toolbar_items){\n",
       "        var name = mpl.toolbar_items[toolbar_ind][0];\n",
       "        var tooltip = mpl.toolbar_items[toolbar_ind][1];\n",
       "        var image = mpl.toolbar_items[toolbar_ind][2];\n",
       "        var method_name = mpl.toolbar_items[toolbar_ind][3];\n",
       "\n",
       "        if (!name) { continue; };\n",
       "\n",
       "        var button = $('<button class=\"btn btn-default\" href=\"#\" title=\"' + name + '\"><i class=\"fa ' + image + ' fa-lg\"></i></button>');\n",
       "        button.click(method_name, toolbar_event);\n",
       "        button.mouseover(tooltip, toolbar_mouse_event);\n",
       "        nav_element.append(button);\n",
       "    }\n",
       "\n",
       "    // Add the status bar.\n",
       "    var status_bar = $('<span class=\"mpl-message\" style=\"text-align:right; float: right;\"/>');\n",
       "    nav_element.append(status_bar);\n",
       "    this.message = status_bar[0];\n",
       "\n",
       "    // Add the close button to the window.\n",
       "    var buttongrp = $('<div class=\"btn-group inline pull-right\"></div>');\n",
       "    var button = $('<button class=\"btn btn-mini btn-primary\" href=\"#\" title=\"Stop Interaction\"><i class=\"fa fa-power-off icon-remove icon-large\"></i></button>');\n",
       "    button.click(function (evt) { fig.handle_close(fig, {}); } );\n",
       "    button.mouseover('Stop Interaction', toolbar_mouse_event);\n",
       "    buttongrp.append(button);\n",
       "    var titlebar = this.root.find($('.ui-dialog-titlebar'));\n",
       "    titlebar.prepend(buttongrp);\n",
       "}\n",
       "\n",
       "mpl.figure.prototype._root_extra_style = function(el){\n",
       "    var fig = this\n",
       "    el.on(\"remove\", function(){\n",
       "\tfig.close_ws(fig, {});\n",
       "    });\n",
       "}\n",
       "\n",
       "mpl.figure.prototype._canvas_extra_style = function(el){\n",
       "    // this is important to make the div 'focusable\n",
       "    el.attr('tabindex', 0)\n",
       "    // reach out to IPython and tell the keyboard manager to turn it's self\n",
       "    // off when our div gets focus\n",
       "\n",
       "    // location in version 3\n",
       "    if (IPython.notebook.keyboard_manager) {\n",
       "        IPython.notebook.keyboard_manager.register_events(el);\n",
       "    }\n",
       "    else {\n",
       "        // location in version 2\n",
       "        IPython.keyboard_manager.register_events(el);\n",
       "    }\n",
       "\n",
       "}\n",
       "\n",
       "mpl.figure.prototype._key_event_extra = function(event, name) {\n",
       "    var manager = IPython.notebook.keyboard_manager;\n",
       "    if (!manager)\n",
       "        manager = IPython.keyboard_manager;\n",
       "\n",
       "    // Check for shift+enter\n",
       "    if (event.shiftKey && event.which == 13) {\n",
       "        this.canvas_div.blur();\n",
       "        // select the cell after this one\n",
       "        var index = IPython.notebook.find_cell_index(this.cell_info[0]);\n",
       "        IPython.notebook.select(index + 1);\n",
       "    }\n",
       "}\n",
       "\n",
       "mpl.figure.prototype.handle_save = function(fig, msg) {\n",
       "    fig.ondownload(fig, null);\n",
       "}\n",
       "\n",
       "\n",
       "mpl.find_output_cell = function(html_output) {\n",
       "    // Return the cell and output element which can be found *uniquely* in the notebook.\n",
       "    // Note - this is a bit hacky, but it is done because the \"notebook_saving.Notebook\"\n",
       "    // IPython event is triggered only after the cells have been serialised, which for\n",
       "    // our purposes (turning an active figure into a static one), is too late.\n",
       "    var cells = IPython.notebook.get_cells();\n",
       "    var ncells = cells.length;\n",
       "    for (var i=0; i<ncells; i++) {\n",
       "        var cell = cells[i];\n",
       "        if (cell.cell_type === 'code'){\n",
       "            for (var j=0; j<cell.output_area.outputs.length; j++) {\n",
       "                var data = cell.output_area.outputs[j];\n",
       "                if (data.data) {\n",
       "                    // IPython >= 3 moved mimebundle to data attribute of output\n",
       "                    data = data.data;\n",
       "                }\n",
       "                if (data['text/html'] == html_output) {\n",
       "                    return [cell, data, j];\n",
       "                }\n",
       "            }\n",
       "        }\n",
       "    }\n",
       "}\n",
       "\n",
       "// Register the function which deals with the matplotlib target/channel.\n",
       "// The kernel may be null if the page has been refreshed.\n",
       "if (IPython.notebook.kernel != null) {\n",
       "    IPython.notebook.kernel.comm_manager.register_target('matplotlib', mpl.mpl_figure_comm);\n",
       "}\n"
      ],
      "text/plain": [
       "<IPython.core.display.Javascript object>"
      ]
     },
     "metadata": {},
     "output_type": "display_data"
    },
    {
     "data": {
      "text/html": [
       "<img src=\"data:image/png;base64,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\">"
      ],
      "text/plain": [
       "<IPython.core.display.HTML object>"
      ]
     },
     "metadata": {},
     "output_type": "display_data"
    },
    {
     "data": {
      "text/plain": [
       "[<matplotlib.lines.Line2D at 0x7fade451add8>]"
      ]
     },
     "execution_count": 16,
     "metadata": {},
     "output_type": "execute_result"
    }
   ],
   "source": [
    "plt.plot([1, 2, 3], [1, 2, 3])"
   ]
  },
  {
   "cell_type": "code",
   "execution_count": 17,
   "metadata": {
    "collapsed": false
   },
   "outputs": [
    {
     "data": {
      "text/plain": [
       "<matplotlib.text.Text at 0x7fade44fd6a0>"
      ]
     },
     "execution_count": 17,
     "metadata": {},
     "output_type": "execute_result"
    }
   ],
   "source": [
    "plt.title(\"My New Title\")"
   ]
  },
  {
   "cell_type": "code",
   "execution_count": 18,
   "metadata": {
    "collapsed": true
   },
   "outputs": [],
   "source": [
    "%matplotlib inline"
   ]
  },
  {
   "cell_type": "code",
   "execution_count": 27,
   "metadata": {
    "collapsed": false
   },
   "outputs": [
    {
     "data": {
      "text/plain": [
       "[<matplotlib.lines.Line2D at 0x7fade41f16a0>,\n",
       " <matplotlib.lines.Line2D at 0x7fade41f1828>]"
      ]
     },
     "execution_count": 27,
     "metadata": {},
     "output_type": "execute_result"
    },
    {
     "data": {
      "image/png": "[encoded data removed]",
      "text/plain": [
       "<matplotlib.figure.Figure at 0x7fade42525f8>"
      ]
     },
     "metadata": {},
     "output_type": "display_data"
    }
   ],
   "source": [
    "# y = x         ( 0 < x < 1, 0.1 간격 ) [0.1, 0.2, ...] (X)\n",
    "# y = x ^ 2\n",
    "# y = x ^ 3\n",
    "\n",
    "plt.plot(\n",
    "    [1, 2, 3, 4, 5],\n",
    "    [1, 2, 3, 4, 5],\n",
    "    \"go--\",            # color: k(black), r(red), g(green), b(blue)\n",
    "                       # marker: o, ^, 8, x, +, ...\n",
    "    \n",
    "    [1, 2, 3, 4, 5],\n",
    "    [2, 3, 4, 5, 6],\n",
    "    \"bx--\",\n",
    "#     color=\"red\",\n",
    "#     marker=\"o\",\n",
    "#     linestyle=\"--\",\n",
    "    # color\n",
    "    # marker\n",
    "    # linestyle\n",
    ")"
   ]
  },
  {
   "cell_type": "code",
   "execution_count": 28,
   "metadata": {
    "collapsed": true
   },
   "outputs": [],
   "source": [
    "import numpy as np"
   ]
  },
  {
   "cell_type": "code",
   "execution_count": 29,
   "metadata": {
    "collapsed": true
   },
   "outputs": [],
   "source": [
    "x = np.arange(0, 1, 0.1)"
   ]
  },
  {
   "cell_type": "code",
   "execution_count": 44,
   "metadata": {
    "collapsed": false
   },
   "outputs": [
    {
     "data": {
      "image/png": "[encoded data removed]",
      "text/plain": [
       "<matplotlib.figure.Figure at 0x7fade3d54e48>"
      ]
     },
     "metadata": {},
     "output_type": "display_data"
    }
   ],
   "source": [
    "plt.plot(\n",
    "    x,\n",
    "    x,\n",
    "    \"ko--\",\n",
    "    \n",
    "    x,\n",
    "    x ** 2,\n",
    "    \"bo--\",\n",
    "    \n",
    "    x,\n",
    "    x ** 3,\n",
    "    \"ro--\",\n",
    ")\n",
    "\n",
    "# 옵션 \n",
    "plt.title(\"My Second Plot\")\n",
    "plt.legend(labels=[\"y=x\", \"y=x^2\", \"y=x^3\"], loc=\"best\")\n",
    "\n",
    "plt.xlabel(\"X\")\n",
    "plt.ylabel(\"f(x)\")\n",
    "\n",
    "plt.savefig(\"plot.pdf\")\n",
    "# figure ( == 이미지 1개 ), Figure / Subplot"
   ]
  },
  {
   "cell_type": "code",
   "execution_count": null,
   "metadata": {
    "collapsed": true
   },
   "outputs": [],
   "source": []
  },
  {
   "cell_type": "code",
   "execution_count": null,
   "metadata": {
    "collapsed": true
   },
   "outputs": [],
   "source": []
  },
  {
   "cell_type": "code",
   "execution_count": null,
   "metadata": {
    "collapsed": true
   },
   "outputs": [],
   "source": []
  },
  {
   "cell_type": "code",
   "execution_count": 45,
   "metadata": {
    "collapsed": false
   },
   "outputs": [
    {
     "data": {
      "text/plain": [
       "<matplotlib.figure.Figure at 0x7fade3ccb390>"
      ]
     },
     "metadata": {},
     "output_type": "display_data"
    }
   ],
   "source": [
    "fig = plt.figure()   # figure "
   ]
  },
  {
   "cell_type": "code",
   "execution_count": 46,
   "metadata": {
    "collapsed": true
   },
   "outputs": [],
   "source": [
    "ax1 = fig.add_subplot(2, 2, 1)\n",
    "#                    width height index\n",
    "#                    나는 총 2x2 개의 그래프를 그릴건데, 그 중에서 1번째 graph"
   ]
  },
  {
   "cell_type": "code",
   "execution_count": 48,
   "metadata": {
    "collapsed": false
   },
   "outputs": [],
   "source": [
    "ax2 = fig.add_subplot(2, 2, 4)\n",
    "\n",
    "# Axes, (Ax) ( Subplot ) - axis 축 \n",
    "# Ax => figure 안에 들어가는 이미지 한개  ( x, y )"
   ]
  },
  {
   "cell_type": "code",
   "execution_count": 50,
   "metadata": {
    "collapsed": false
   },
   "outputs": [],
   "source": [
    "# plt => matplotlib api ( state 상태 기반의 그림 그리기 )"
   ]
  },
  {
   "cell_type": "code",
   "execution_count": 53,
   "metadata": {
    "collapsed": false
   },
   "outputs": [
    {
     "data": {
      "text/plain": [
       "<matplotlib.text.Text at 0x7fade3bef1d0>"
      ]
     },
     "execution_count": 53,
     "metadata": {},
     "output_type": "execute_result"
    }
   ],
   "source": [
    "ax1.plot(\n",
    "    np.arange(0, 1, 0.01),\n",
    "    np.arange(0, 1, 0.01) ** 2,\n",
    "    \"b--\",\n",
    ")\n",
    "ax1.set_title(\"y = x^2\")      # plt.title\n",
    "# ax1.get_title\n",
    "# ax.get_속성이름               # plt.___________ ( 속성 이름 )"
   ]
  },
  {
   "cell_type": "code",
   "execution_count": 57,
   "metadata": {
    "collapsed": false
   },
   "outputs": [],
   "source": [
    "# fig = plt.figure()\n",
    "# ax = fig.add_subplot(1, 1, 1)"
   ]
  },
  {
   "cell_type": "code",
   "execution_count": 68,
   "metadata": {
    "collapsed": false
   },
   "outputs": [
    {
     "data": {
      "image/png": "[encoded data removed]",
      "text/plain": [
       "<matplotlib.figure.Figure at 0x7fade37a29e8>"
      ]
     },
     "metadata": {},
     "output_type": "display_data"
    }
   ],
   "source": [
    "# fig, axes = plt.subplots(2, 2)\n",
    "\n",
    "fig, ax = plt.subplots(1, 1)\n",
    "\n",
    "# plt.plot\n",
    "# ax.plot ( add_subplot )\n",
    "# ax.plot ( plt.subplots )"
   ]
  },
  {
   "cell_type": "code",
   "execution_count": 65,
   "metadata": {
    "collapsed": false
   },
   "outputs": [
    {
     "data": {
      "text/plain": [
       "<matplotlib.text.Text at 0x7fade3851748>"
      ]
     },
     "execution_count": 65,
     "metadata": {},
     "output_type": "execute_result"
    }
   ],
   "source": [
    "ax.set_title(\"My First Title\")"
   ]
  },
  {
   "cell_type": "code",
   "execution_count": 66,
   "metadata": {
    "collapsed": false
   },
   "outputs": [
    {
     "data": {
      "image/png": "[encoded data removed]",
      "text/plain": [
       "<matplotlib.figure.Figure at 0x7fade3ceb400>"
      ]
     },
     "execution_count": 66,
     "metadata": {},
     "output_type": "execute_result"
    }
   ],
   "source": [
    "fig"
   ]
  },
  {
   "cell_type": "code",
   "execution_count": null,
   "metadata": {
    "collapsed": true
   },
   "outputs": [],
   "source": []
  },
  {
   "cell_type": "code",
   "execution_count": 75,
   "metadata": {
    "collapsed": false
   },
   "outputs": [
    {
     "data": {
      "text/plain": [
       "<matplotlib.text.Text at 0x7fade32fe390>"
      ]
     },
     "execution_count": 75,
     "metadata": {},
     "output_type": "execute_result"
    },
    {
     "data": {
      "image/png": "[encoded data removed]",
      "text/plain": [
       "<matplotlib.figure.Figure at 0x7fade33365c0>"
      ]
     },
     "metadata": {},
     "output_type": "display_data"
    }
   ],
   "source": [
    "fig, ax = plt.subplots(1, 1)\n",
    "ax.barh(\n",
    "    np.arange(100),\n",
    "    np.random.randn(100).cumsum(),\n",
    "    # kind=\"bar\",\n",
    ")\n",
    "\n",
    "# ax.________________ ( plot, bar, barh, scatter, histogram )\n",
    "\n",
    "ax.set_title(\"Random Walk\")"
   ]
  },
  {
   "cell_type": "code",
   "execution_count": null,
   "metadata": {
    "collapsed": true
   },
   "outputs": [],
   "source": [
    "# API Testing\n",
    "# 1000 Request -> 0.3s, 200 Status OK\n",
    "# 어떤 특정 사이트 ( 제 블로그 ) 100 Request ( 실행 시간을 측정 => DataFrame )\n",
    "# 응답시간에 대한 Histogram\n",
    "\n",
    "import requests\n",
    "import time        # time.time()"
   ]
  },
  {
   "cell_type": "code",
   "execution_count": 82,
   "metadata": {
    "collapsed": true
   },
   "outputs": [],
   "source": [
    "# Plot ( x, y )\n",
    "# Bar, Barh ( x, y )\n",
    "\n",
    "# 히스토그램 ( Y 값들의 갯수; Y의 간격 ; 10칸 ; bins  )"
   ]
  },
  {
   "cell_type": "code",
   "execution_count": 100,
   "metadata": {
    "collapsed": false
   },
   "outputs": [
    {
     "data": {
      "image/png": "[encoded data removed]",
      "text/plain": [
       "<matplotlib.figure.Figure at 0x7faddfd098d0>"
      ]
     },
     "execution_count": 100,
     "metadata": {},
     "output_type": "execute_result"
    },
    {
     "data": {
      "image/png": "[encoded data removed]",
      "text/plain": [
       "<matplotlib.figure.Figure at 0x7faddfd098d0>"
      ]
     },
     "metadata": {},
     "output_type": "display_data"
    }
   ],
   "source": [
    "fig, ax = plt.subplots(1, 1)\n",
    "ax.hist(\n",
    "    np.random.rand\n",
    "    n(1000),\n",
    ")\n",
    "fig"
   ]
  },
  {
   "cell_type": "code",
   "execution_count": null,
   "metadata": {
    "collapsed": true
   },
   "outputs": [],
   "source": []
  },
  {
   "cell_type": "code",
   "execution_count": 86,
   "metadata": {
    "collapsed": true
   },
   "outputs": [],
   "source": [
    "# 특정 사이트에 100번 요청을 보내서, \n",
    "# 응답 시간에 대한 Histogram\n",
    "\n",
    "import requests\n",
    "import time"
   ]
  },
  {
   "cell_type": "code",
   "execution_count": 88,
   "metadata": {
    "collapsed": true
   },
   "outputs": [],
   "source": [
    "def track_response_time(url):\n",
    "    start_time = time.time()\n",
    "    response = requests.get(url)\n",
    "    end_time = time.time()\n",
    "    exec_time = end_time - start_time\n",
    "    return exec_time"
   ]
  },
  {
   "cell_type": "code",
   "execution_count": 90,
   "metadata": {
    "collapsed": false
   },
   "outputs": [],
   "source": [
    "import pandas as pd"
   ]
  },
  {
   "cell_type": "code",
   "execution_count": 94,
   "metadata": {
    "collapsed": false
   },
   "outputs": [],
   "source": [
    "df = pd.DataFrame(\n",
    "    np.zeros(100),\n",
    "    index=np.arange(100),\n",
    "    columns=[[\"Response Time\"]]\n",
    ")"
   ]
  },
  {
   "cell_type": "code",
   "execution_count": 95,
   "metadata": {
    "collapsed": true
   },
   "outputs": [],
   "source": [
    "for i in range(100):\n",
    "    df.loc[i] = [track_response_time(\"https://play.dobest.io\")]"
   ]
  },
  {
   "cell_type": "code",
   "execution_count": 98,
   "metadata": {
    "collapsed": false
   },
   "outputs": [
    {
     "data": {
      "text/plain": [
       "(array([ 18.,  29.,  28.,  22.,   1.,   1.,   0.,   0.,   0.,   1.]),\n",
       " array([ 0.02645326,  0.02764452,  0.02883577,  0.03002703,  0.03121829,\n",
       "         0.03240955,  0.03360081,  0.03479207,  0.03598332,  0.03717458,\n",
       "         0.03836584]),\n",
       " <a list of 10 Patch objects>)"
      ]
     },
     "execution_count": 98,
     "metadata": {},
     "output_type": "execute_result"
    },
    {
     "data": {
      "image/png": "[encoded data removed]",
      "text/plain": [
       "<matplotlib.figure.Figure at 0x7fade0073c50>"
      ]
     },
     "metadata": {},
     "output_type": "display_data"
    }
   ],
   "source": [
    "fig, ax = plt.subplots(1, 1)\n",
    "ax.hist(df[\"Response Time\"])\n",
    "\n",
    "# 1000, 500, headers\n"
   ]
  },
  {
   "cell_type": "code",
   "execution_count": null,
   "metadata": {
    "collapsed": true
   },
   "outputs": [],
   "source": []
  }
 ],
 "metadata": {
  "kernelspec": {
   "display_name": "Python 3",
   "language": "python",
   "name": "python3"
  },
  "language_info": {
   "codemirror_mode": {
    "name": "ipython",
    "version": 3
   },
   "file_extension": ".py",
   "mimetype": "text/x-python",
   "name": "python",
   "nbconvert_exporter": "python",
   "pygments_lexer": "ipython3",
   "version": "3.4.3"
  }
 },
 "nbformat": 4,
 "nbformat_minor": 1
}
