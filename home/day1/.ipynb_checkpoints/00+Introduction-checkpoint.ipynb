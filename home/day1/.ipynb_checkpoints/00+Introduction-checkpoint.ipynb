{
 "cells": [
  {
   "cell_type": "code",
   "execution_count": 16,
   "metadata": {
    "collapsed": false
   },
   "outputs": [],
   "source": [
    "response = requests.get(\"https://api.zigbang.com/v1/items?detail=true&item_ids=6048466&item_ids=5783125&item_ids=6027865&item_ids=5888794&item_ids=5854171&item_ids=6087107&item_ids=5932855&item_ids=6048075&item_ids=6052791&item_ids=5984416&item_ids=5907614&item_ids=6031260&item_ids=5457958&item_ids=6066377&item_ids=5838656&item_ids=6041892&item_ids=6104783&item_ids=6109223&item_ids=5969470&item_ids=5832092&item_ids=5947989&item_ids=5606119&item_ids=5880215&item_ids=5888852&item_ids=6100544&item_ids=6067582&item_ids=5929057&item_ids=6021979&item_ids=5891686&item_ids=6101768&item_ids=6097270&item_ids=5981178&item_ids=5868892&item_ids=5884274&item_ids=6078939&item_ids=5955120&item_ids=6077769&item_ids=5873775&item_ids=5382608&item_ids=6064709&item_ids=6054888&item_ids=6108746&item_ids=5941685&item_ids=6060196&item_ids=6059468&item_ids=6076404&item_ids=5980084&item_ids=5969431&item_ids=5918961&item_ids=6053762&item_ids=6082571&item_ids=6017119&item_ids=6060904&item_ids=6054917&item_ids=6058916&item_ids=6052548&item_ids=6042661&item_ids=6061590&item_ids=6057519&item_ids=5968352\")"
   ]
  },
  {
   "cell_type": "code",
   "execution_count": 17,
   "metadata": {
    "collapsed": false
   },
   "outputs": [],
   "source": [
    "data = [\n",
    "    item.get(\"item\")\n",
    "    for item\n",
    "    in response.json().get(\"items\")\n",
    "]"
   ]
  },
  {
   "cell_type": "code",
   "execution_count": 18,
   "metadata": {
    "collapsed": false
   },
   "outputs": [],
   "source": [
    "import pandas as pd"
   ]
  },
  {
   "cell_type": "code",
   "execution_count": 19,
   "metadata": {
    "collapsed": true
   },
   "outputs": [],
   "source": [
    "df = pd.DataFrame(data)"
   ]
  },
  {
   "cell_type": "code",
   "execution_count": 21,
   "metadata": {
    "collapsed": false
   },
   "outputs": [],
   "source": [
    "df = df[[\"deposit\", \"rent\", \"id\"]]"
   ]
  },
  {
   "cell_type": "code",
   "execution_count": 23,
   "metadata": {
    "collapsed": false
   },
   "outputs": [],
   "source": [
    "%matplotlib inline"
   ]
  },
  {
   "cell_type": "code",
   "execution_count": 25,
   "metadata": {
    "collapsed": false
   },
   "outputs": [
    {
     "data": {
      "text/plain": [
       "<matplotlib.axes._subplots.AxesSubplot at 0x7f7f4a5c6d30>"
      ]
     },
     "execution_count": 25,
     "metadata": {},
     "output_type": "execute_result"
    },
    {
     "data": {
      "image/png": "[encoded data removed]",
      "text/plain": [
       "<matplotlib.figure.Figure at 0x7f7f4a5da898>"
      ]
     },
     "metadata": {},
     "output_type": "display_data"
    }
   ],
   "source": [
    "df.plot.scatter(\n",
    "    x=\"deposit\",\n",
    "    y=\"rent\",\n",
    ")\n",
    "\n",
    "# 엑셀 로 할 수 있는 모든 분석"
   ]
  },
  {
   "cell_type": "code",
   "execution_count": null,
   "metadata": {
    "collapsed": true
   },
   "outputs": [],
   "source": []
  },
  {
   "cell_type": "code",
   "execution_count": null,
   "metadata": {
    "collapsed": true
   },
   "outputs": [],
   "source": []
  },
  {
   "cell_type": "code",
   "execution_count": null,
   "metadata": {
    "collapsed": true
   },
   "outputs": [],
   "source": []
  },
  {
   "cell_type": "code",
   "execution_count": null,
   "metadata": {
    "collapsed": true
   },
   "outputs": [],
   "source": []
  }
 ],
 "metadata": {
  "kernelspec": {
   "display_name": "Python 3",
   "language": "python",
   "name": "python3"
  },
  "language_info": {
   "codemirror_mode": {
    "name": "ipython",
    "version": 3
   },
   "file_extension": ".py",
   "mimetype": "text/x-python",
   "name": "python",
   "nbconvert_exporter": "python",
   "pygments_lexer": "ipython3",
   "version": "3.5.1"
  }
 },
 "nbformat": 4,
 "nbformat_minor": 1
}
