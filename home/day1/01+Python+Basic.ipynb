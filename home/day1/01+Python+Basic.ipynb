{
 "cells": [
  {
   "cell_type": "code",
   "execution_count": 3,
   "metadata": {
    "collapsed": true
   },
   "outputs": [],
   "source": [
    "# python \n",
    "# $ python => REPL ( read-eval-print-loop )\n",
    "# $ ipython => i-shell\n",
    "# $ ipython notebook\n",
    "# --------------------\n",
    "# $ jupyter\n",
    "# $ jupyter notebook\n",
    "# $ jupyterhub ( play.dobest.io )\n",
    "\n",
    "# int\n",
    "# str\n",
    "# Boolean\n",
    "# list, tuple, set, dict\n",
    "# function\n",
    "# class\n",
    "\n",
    "# ---------\n",
    "# numpy.ndarray ( array = 배열 = list )\n",
    "# pandas.Series, pandas.DataFrame\n",
    "# matplotlib.figure (matplotlib.subplot)"
   ]
  },
  {
   "cell_type": "code",
   "execution_count": 6,
   "metadata": {
    "collapsed": true
   },
   "outputs": [],
   "source": [
    "# list, tuple, set, dict\n",
    "# 공통점: elements\n",
    "\n",
    "\n",
    "# 1. list - elements O, order O, duplicate O\n",
    "animals = [\"dog\", \"cat\", \"cow\", \"cat\"]\n",
    "\n",
    "# list\n",
    "# str 의 list\n",
    "# list length 3개 \n",
    "# list 0th: \"dog\", 1st: \"cat\", 2nd: \"cow\" ( ==> 순서가 있는 자료형 )"
   ]
  },
  {
   "cell_type": "code",
   "execution_count": 11,
   "metadata": {
    "collapsed": true
   },
   "outputs": [],
   "source": [
    "# 2. tuple - elements O, order O, duplicate O, 변경될 수 있는가? X\n",
    "# 파이썬 내부적으로, 라이브러리 => dict!\n",
    "animals = (\"dog\", \"cat\", \"cow\", \"cat\")"
   ]
  },
  {
   "cell_type": "code",
   "execution_count": 2,
   "metadata": {
    "collapsed": false
   },
   "outputs": [],
   "source": [
    "# 3. set ( 집합 ) - elements O, order X, duplicate X\n",
    "# animals = {\"dog\", \"dog\", \"cat\"}     # Set\n",
    "animals = set([\"dog\", \"dog\", \"cat\"])\n",
    "\n",
    "# # 1. 생성자/클래스 \n",
    "# animals = list(\"abcdef\")\n",
    "\n",
    "# # 2. 리스트를 표현하기 위해서 미리 약속된 표현 방식 ( List Literal => [] )\n",
    "# animals = [\"a\", \"b\", \"c\", \"d\", \"e\", \"f\"]"
   ]
  },
  {
   "cell_type": "code",
   "execution_count": 4,
   "metadata": {
    "collapsed": false
   },
   "outputs": [],
   "source": [
    "# 리스트를 가지고 있을때, 중복된 elements 를 없애고\n",
    "# 새로운 리스트로 만든다."
   ]
  },
  {
   "cell_type": "code",
   "execution_count": 7,
   "metadata": {
    "collapsed": true
   },
   "outputs": [],
   "source": [
    "data = [\"b\", \"b\", \"a\", \"a\", \"a\", \"c\"]\n",
    "\n",
    "# 순서가 보장이 되는,\n",
    "# 유니크한 값들만 뽑고 싶다."
   ]
  },
  {
   "cell_type": "code",
   "execution_count": 5,
   "metadata": {
    "collapsed": false
   },
   "outputs": [
    {
     "data": {
      "text/plain": [
       "{'a', 'b', 'c'}"
      ]
     },
     "execution_count": 5,
     "metadata": {},
     "output_type": "execute_result"
    }
   ],
   "source": [
    "set(data)"
   ]
  },
  {
   "cell_type": "code",
   "execution_count": 8,
   "metadata": {
    "collapsed": false
   },
   "outputs": [
    {
     "data": {
      "text/plain": [
       "['c', 'b', 'a']"
      ]
     },
     "execution_count": 8,
     "metadata": {},
     "output_type": "execute_result"
    }
   ],
   "source": [
    "list(set(data))"
   ]
  },
  {
   "cell_type": "code",
   "execution_count": 6,
   "metadata": {
    "collapsed": true
   },
   "outputs": [],
   "source": [
    "# dict \n",
    "# elements O\n",
    "# key, value O\n",
    "# 순서 X\n",
    "# key duplicate X"
   ]
  },
  {
   "cell_type": "code",
   "execution_count": 7,
   "metadata": {
    "collapsed": true
   },
   "outputs": [],
   "source": [
    "animals = [\"dog\", \"cat\", \"cow\"]\n",
    "# 0 => \"dog\"\n",
    "# 1 => \"cat\"\n",
    "# 2 => \"cow\""
   ]
  },
  {
   "cell_type": "code",
   "execution_count": 9,
   "metadata": {
    "collapsed": true
   },
   "outputs": [],
   "source": [
    "student = {\n",
    "    \"name\": \"안수찬\",\n",
    "    \"email\": \"dobestan@gmail.com\",\n",
    "}"
   ]
  },
  {
   "cell_type": "code",
   "execution_count": 10,
   "metadata": {
    "collapsed": false
   },
   "outputs": [],
   "source": [
    "student[\"email\"] = \"dobestan@naver.com\"\n",
    "# email => \"dobestan@gmail.com\"\n",
    "# name => \"안수찬\""
   ]
  },
  {
   "cell_type": "code",
   "execution_count": 10,
   "metadata": {
    "collapsed": false
   },
   "outputs": [
    {
     "data": {
      "text/plain": [
       "{'email': 'dobestan@gmail.com', 'name': '안수찬'}"
      ]
     },
     "execution_count": 10,
     "metadata": {},
     "output_type": "execute_result"
    }
   ],
   "source": [
    "student"
   ]
  },
  {
   "cell_type": "code",
   "execution_count": null,
   "metadata": {
    "collapsed": true
   },
   "outputs": [],
   "source": []
  },
  {
   "cell_type": "code",
   "execution_count": 1,
   "metadata": {
    "collapsed": true
   },
   "outputs": [],
   "source": [
    "# list - elements, order, duplicate\n",
    "# tuple - elements, order, duplicate, 변경 X\n",
    "# set - elements, order X, duplicate X\n",
    "# dict - elements, order X, key, value , key duplicate X"
   ]
  },
  {
   "cell_type": "code",
   "execution_count": 2,
   "metadata": {
    "collapsed": true
   },
   "outputs": [],
   "source": [
    "# 조건문\n",
    "# 반복문 - for "
   ]
  },
  {
   "cell_type": "code",
   "execution_count": 4,
   "metadata": {
    "collapsed": false
   },
   "outputs": [],
   "source": [
    "animals = [\"dog\", \"cat\", \"cow\"]"
   ]
  },
  {
   "cell_type": "code",
   "execution_count": 6,
   "metadata": {
    "collapsed": false
   },
   "outputs": [
    {
     "data": {
      "text/plain": [
       "'dog'"
      ]
     },
     "execution_count": 6,
     "metadata": {},
     "output_type": "execute_result"
    }
   ],
   "source": [
    "animals[0]"
   ]
  },
  {
   "cell_type": "code",
   "execution_count": 8,
   "metadata": {
    "collapsed": false
   },
   "outputs": [
    {
     "name": "stdout",
     "output_type": "stream",
     "text": [
      "dog\n",
      "cat\n",
      "cow\n"
     ]
    }
   ],
   "source": [
    "for i in range(len(animals)):\n",
    "    animal = animals[i]\n",
    "    # print(animal)\n",
    "    \n",
    "# iterator, generator\n",
    "for animal in animals:     # List Class => __iter__ ( iterator )\n",
    "    print(animal)"
   ]
  },
  {
   "cell_type": "code",
   "execution_count": 2,
   "metadata": {
    "collapsed": true
   },
   "outputs": [],
   "source": [
    "student = {\n",
    "    \"name\": \"안수찬\",\n",
    "    \"email\": \"dobestan@gmail.com\",\n",
    "    \"address\": \"서울시 관악구\"\n",
    "}"
   ]
  },
  {
   "cell_type": "code",
   "execution_count": 15,
   "metadata": {
    "collapsed": false
   },
   "outputs": [
    {
     "name": "stdout",
     "output_type": "stream",
     "text": [
      "address ===> 서울시 관악구\n",
      "email ===> dobestan@gmail.com\n",
      "name ===> 안수찬\n"
     ]
    },
    {
     "data": {
      "text/plain": [
       "dict_items([('address', '서울시 관악구'), ('email', 'dobestan@gmail.com'), ('name', '안수찬')])"
      ]
     },
     "execution_count": 15,
     "metadata": {},
     "output_type": "execute_result"
    }
   ],
   "source": [
    "# for key, value in student.items():\n",
    "#     value = student[key]\n",
    "#     print(\"{key} ===> {value}\".format(\n",
    "#         key=key,\n",
    "#         value=value,\n",
    "#     ))\n",
    "\n",
    "\n",
    "width, height = (100, 200)\n",
    "\n",
    "for key, value in student.items():\n",
    "    print(\"{key} ===> {value}\".format(\n",
    "        key=key,\n",
    "        value=value,\n",
    "    ))\n",
    "    \n",
    "student.items()"
   ]
  },
  {
   "cell_type": "code",
   "execution_count": 10,
   "metadata": {
    "collapsed": false
   },
   "outputs": [
    {
     "data": {
      "text/plain": [
       "'안수찬: 안녕하세요, 안수찬'"
      ]
     },
     "execution_count": 10,
     "metadata": {},
     "output_type": "execute_result"
    }
   ],
   "source": [
    "\"{name}: {greeting}, {name}\".format(\n",
    "    greeting=\"안녕하세요\",      # kwargs\n",
    "    name=\"안수찬\",\n",
    ")"
   ]
  },
  {
   "cell_type": "code",
   "execution_count": null,
   "metadata": {
    "collapsed": true
   },
   "outputs": [],
   "source": []
  },
  {
   "cell_type": "code",
   "execution_count": 21,
   "metadata": {
    "collapsed": true
   },
   "outputs": [],
   "source": [
    "# 조건문\n",
    "# 함수\n",
    "# 파일 입출력 \n",
    "\n",
    "# 엑셀 데이터 ( CSV; comma seperated values )"
   ]
  },
  {
   "cell_type": "code",
   "execution_count": 24,
   "metadata": {
    "collapsed": false
   },
   "outputs": [
    {
     "name": "stdout",
     "output_type": "stream",
     "text": [
      "양수다\n"
     ]
    }
   ],
   "source": [
    "a = 30\n",
    "if a > 0:\n",
    "    print(\"양수다\")\n",
    "elif a == 0:\n",
    "    print(\"0이다.\")\n",
    "else:\n",
    "    print(\"음수다.\")\n",
    "    \n",
    "    \n",
    "# else:\n",
    "#     # 0 또는 음수 \n",
    "#     if a == 0:\n",
    "#         print(\"0\")\n",
    "#     else:\n",
    "#         print(\"음수\")\n",
    "        \n",
    "        \n",
    "# if a < 0:\n",
    "#     print(\"음수다\")\n",
    "    \n",
    "# if a == 0:\n",
    "#     print(\"0이다.\")"
   ]
  },
  {
   "cell_type": "code",
   "execution_count": null,
   "metadata": {
    "collapsed": true
   },
   "outputs": [],
   "source": []
  },
  {
   "cell_type": "code",
   "execution_count": 25,
   "metadata": {
    "collapsed": true
   },
   "outputs": [],
   "source": [
    "# 1. def\n",
    "# 2. lambda"
   ]
  },
  {
   "cell_type": "code",
   "execution_count": 26,
   "metadata": {
    "collapsed": true
   },
   "outputs": [],
   "source": [
    "def double(x):            # 함수를 정의할 떄, \"인자\" => Parameter\n",
    "    return x * 2"
   ]
  },
  {
   "cell_type": "code",
   "execution_count": 27,
   "metadata": {
    "collapsed": true
   },
   "outputs": [],
   "source": [
    "# x 라는 argument 를 받아서,\n",
    "# x * 2 라는 결과를 주는 함수 "
   ]
  },
  {
   "cell_type": "code",
   "execution_count": 29,
   "metadata": {
    "collapsed": false
   },
   "outputs": [
    {
     "data": {
      "text/plain": [
       "200"
      ]
     },
     "execution_count": 29,
     "metadata": {},
     "output_type": "execute_result"
    }
   ],
   "source": [
    "double(100)               # 함수를 호출할 때, \"인자\" => Arguments"
   ]
  },
  {
   "cell_type": "code",
   "execution_count": 30,
   "metadata": {
    "collapsed": true
   },
   "outputs": [],
   "source": [
    "def add(a, b):\n",
    "    return a + b"
   ]
  },
  {
   "cell_type": "code",
   "execution_count": 31,
   "metadata": {
    "collapsed": false
   },
   "outputs": [
    {
     "data": {
      "text/plain": [
       "30"
      ]
     },
     "execution_count": 31,
     "metadata": {},
     "output_type": "execute_result"
    }
   ],
   "source": [
    "add(10, 20)"
   ]
  },
  {
   "cell_type": "code",
   "execution_count": 39,
   "metadata": {
    "collapsed": true
   },
   "outputs": [],
   "source": [
    "# add ( 더한다 )\n",
    "\n",
    "# add2(10, 20) => 30           # args(*), kwargs(**) - packing, unpacking\n",
    "# add2(10, 20, 30) => 60\n",
    "\n",
    "# add3([10, 20, 30]) => 60"
   ]
  },
  {
   "cell_type": "code",
   "execution_count": 40,
   "metadata": {
    "collapsed": true
   },
   "outputs": [],
   "source": [
    "# 기본 자료형 \n",
    "def add3(numbers):  # 숫자 리스트 를 받아서 , 합을 리턴하는 함수\n",
    "    result = 0\n",
    "    for number in numbers:\n",
    "        result += number\n",
    "    return result"
   ]
  },
  {
   "cell_type": "code",
   "execution_count": 41,
   "metadata": {
    "collapsed": false
   },
   "outputs": [
    {
     "data": {
      "text/plain": [
       "60"
      ]
     },
     "execution_count": 41,
     "metadata": {},
     "output_type": "execute_result"
    }
   ],
   "source": [
    "add3([10, 20, 30])"
   ]
  },
  {
   "cell_type": "code",
   "execution_count": 42,
   "metadata": {
    "collapsed": false
   },
   "outputs": [
    {
     "data": {
      "text/plain": [
       "30"
      ]
     },
     "execution_count": 42,
     "metadata": {},
     "output_type": "execute_result"
    }
   ],
   "source": [
    "def add(a, b):\n",
    "    return a + b\n",
    "\n",
    "add(10, 20)"
   ]
  },
  {
   "cell_type": "code",
   "execution_count": 44,
   "metadata": {
    "collapsed": true
   },
   "outputs": [],
   "source": [
    "data = (10, 15)  # Tuple\n",
    "# data 를 add 에 넣어서, 25라는 결과를 가지고 싶다."
   ]
  },
  {
   "cell_type": "code",
   "execution_count": 49,
   "metadata": {
    "collapsed": false
   },
   "outputs": [
    {
     "data": {
      "text/plain": [
       "25"
      ]
     },
     "execution_count": 49,
     "metadata": {},
     "output_type": "execute_result"
    }
   ],
   "source": [
    "add(*data)      # unpacking "
   ]
  },
  {
   "cell_type": "code",
   "execution_count": 54,
   "metadata": {
    "collapsed": false
   },
   "outputs": [
    {
     "data": {
      "text/plain": [
       "15"
      ]
     },
     "execution_count": 54,
     "metadata": {},
     "output_type": "execute_result"
    }
   ],
   "source": [
    "def add(*numbers):           # 1, 2, 3, 4 => (1, 2, 3, 4) ( packing )\n",
    "                             #              serialize, deserialize\n",
    "    result = 0\n",
    "    for number in numbers:\n",
    "        result += number\n",
    "    return result\n",
    "\n",
    "add(1, 2, 3, 4, 5)"
   ]
  },
  {
   "cell_type": "code",
   "execution_count": 55,
   "metadata": {
    "collapsed": true
   },
   "outputs": [],
   "source": [
    "# *args\n",
    "# **kwargs\n",
    "\n",
    "def introduce(name, greeting):\n",
    "    return \"{name}님, {greeting}\".format(\n",
    "        name=name,\n",
    "        greeting=greeting,\n",
    "    )"
   ]
  },
  {
   "cell_type": "code",
   "execution_count": 57,
   "metadata": {
    "collapsed": false
   },
   "outputs": [],
   "source": [
    "introduce_dict = {\n",
    "    \"name\": \"안수찬\",\n",
    "    \"greeting\": \"hello\",\n",
    "}"
   ]
  },
  {
   "cell_type": "code",
   "execution_count": 59,
   "metadata": {
    "collapsed": false
   },
   "outputs": [
    {
     "data": {
      "text/plain": [
       "'안수찬님, hello'"
      ]
     },
     "execution_count": 59,
     "metadata": {},
     "output_type": "execute_result"
    }
   ],
   "source": [
    "introduce(**introduce_dict)"
   ]
  },
  {
   "cell_type": "code",
   "execution_count": 60,
   "metadata": {
    "collapsed": true
   },
   "outputs": [],
   "source": [
    "# 파일 입출력 \n",
    "\n",
    "# hello.txt | 파일명\n",
    "# hello world | 본문 "
   ]
  },
  {
   "cell_type": "code",
   "execution_count": 73,
   "metadata": {
    "collapsed": false
   },
   "outputs": [],
   "source": [
    "fp = open(\"./hello.txt\", \"r\")"
   ]
  },
  {
   "cell_type": "code",
   "execution_count": 74,
   "metadata": {
    "collapsed": false
   },
   "outputs": [
    {
     "data": {
      "text/plain": [
       "'hello world'"
      ]
     },
     "execution_count": 74,
     "metadata": {},
     "output_type": "execute_result"
    }
   ],
   "source": [
    "fp.read()"
   ]
  },
  {
   "cell_type": "code",
   "execution_count": 75,
   "metadata": {
    "collapsed": true
   },
   "outputs": [],
   "source": [
    "fp.close()"
   ]
  },
  {
   "cell_type": "code",
   "execution_count": 78,
   "metadata": {
    "collapsed": false
   },
   "outputs": [
    {
     "name": "stdout",
     "output_type": "stream",
     "text": [
      "hello world\n"
     ]
    }
   ],
   "source": [
    "with open(\"./hello.txt\", \"r\") as fp:\n",
    "    data = fp.read()\n",
    "    print(data)\n",
    "    # with block 이 끝난다 ( indent )\n",
    "    \n",
    "# 이 시점으로 넘어오는 시점에 \n",
    "# fp.close()"
   ]
  },
  {
   "cell_type": "code",
   "execution_count": null,
   "metadata": {
    "collapsed": true
   },
   "outputs": [],
   "source": [
    "def read_csv(filepath):\n",
    "    pass\n",
    "\n",
    "    # return [CSV 파일을 읽어서 가능한한 구조화된 형태의 자료형]\n",
    "    # 출석부\n",
    "    # 학생 리스트\n",
    "    #   - 각각의 element => 학생 dict ( id, name, email )\n",
    "    \n",
    "    \n",
    "# \"\"\" students.csv\n",
    "# 1,안수찬1,dobestan1@gmail.com\n",
    "# 2,안수찬2,dobestan2@gmail.com\n",
    "# 3,안수찬3,dobestan3@gmail.com\n",
    "# \"\"\""
   ]
  },
  {
   "cell_type": "code",
   "execution_count": 91,
   "metadata": {
    "collapsed": false
   },
   "outputs": [
    {
     "data": {
      "text/plain": [
       "['dog']"
      ]
     },
     "execution_count": 91,
     "metadata": {},
     "output_type": "execute_result"
    }
   ],
   "source": [
    "# list 에서 새로운 element 를 추가하는 함수 ( .append() )\n",
    "\n",
    "animals = []\n",
    "animals.append(\"dog\")\n",
    "animals"
   ]
  },
  {
   "cell_type": "code",
   "execution_count": 79,
   "metadata": {
    "collapsed": true
   },
   "outputs": [],
   "source": [
    "# Str "
   ]
  },
  {
   "cell_type": "code",
   "execution_count": 80,
   "metadata": {
    "collapsed": true
   },
   "outputs": [],
   "source": [
    "data = \"1,안수찬,dobestan@gmail.com\""
   ]
  },
  {
   "cell_type": "code",
   "execution_count": 83,
   "metadata": {
    "collapsed": false
   },
   "outputs": [
    {
     "data": {
      "text/plain": [
       "['1', '안수찬', 'dobestan@gmail.com']"
      ]
     },
     "execution_count": 83,
     "metadata": {},
     "output_type": "execute_result"
    }
   ],
   "source": [
    "data.split(\",\")   # 줄바꿈 ( newline character \\n )"
   ]
  },
  {
   "cell_type": "code",
   "execution_count": 84,
   "metadata": {
    "collapsed": true
   },
   "outputs": [],
   "source": [
    "# split\n",
    "# join"
   ]
  },
  {
   "cell_type": "code",
   "execution_count": 85,
   "metadata": {
    "collapsed": false
   },
   "outputs": [
    {
     "data": {
      "text/plain": [
       "'1::안수찬::dobestan@gmail.com'"
      ]
     },
     "execution_count": 85,
     "metadata": {},
     "output_type": "execute_result"
    }
   ],
   "source": [
    "\"::\".join([\"1\", \"안수찬\", \"dobestan@gmail.com\"])"
   ]
  },
  {
   "cell_type": "code",
   "execution_count": 87,
   "metadata": {
    "collapsed": false
   },
   "outputs": [],
   "source": [
    "data = \"티아카데미 파이썬을 이용한 데이터 분석\"\n",
    "\n",
    "# \"파이썬\" => \"Python\""
   ]
  },
  {
   "cell_type": "code",
   "execution_count": 90,
   "metadata": {
    "collapsed": false
   },
   "outputs": [
    {
     "data": {
      "text/plain": [
       "'티아카데미 Python을 이용한 데이터 분석'"
      ]
     },
     "execution_count": 90,
     "metadata": {},
     "output_type": "execute_result"
    }
   ],
   "source": [
    "data.replace(\"파이썬\", \"Python\")"
   ]
  },
  {
   "cell_type": "code",
   "execution_count": 99,
   "metadata": {
    "collapsed": false
   },
   "outputs": [
    {
     "data": {
      "text/plain": [
       "[{'email': 'dobestan1@gmail.com', 'id': '1', 'name': '안수찬1'},\n",
       " {'email': 'dobestan2@gmail.com', 'id': '2', 'name': '안수찬2'},\n",
       " {'email': 'dobestan3@gmail.com', 'id': '3', 'name': '안수찬3'}]"
      ]
     },
     "execution_count": 99,
     "metadata": {},
     "output_type": "execute_result"
    }
   ],
   "source": [
    "def read_csv(filepath):         # 어떤 헤더가 있는 CSV 파일이든지 읽을 수 있는 함수\n",
    "    \n",
    "    fp = open(filepath, \"r\")\n",
    "    data = fp.read()\n",
    "    fp.close()\n",
    "    \n",
    "    elements = []\n",
    "    \n",
    "    rows = data.split(\"\\n\")\n",
    "    for row in rows:\n",
    "        fields = row.split(\",\")\n",
    "        element = {                 # 우리가 어떤 칼럼이 있는지 모르는 상태\n",
    "            \"id\": fields[0],\n",
    "            \"name\": fields[1],\n",
    "            \"email\": fields[2],\n",
    "        }\n",
    "        elements.append(element)\n",
    "    return elements\n",
    "        \n",
    "read_csv(\"./contacts.csv\")"
   ]
  },
  {
   "cell_type": "code",
   "execution_count": 114,
   "metadata": {
    "collapsed": false
   },
   "outputs": [
    {
     "name": "stdout",
     "output_type": "stream",
     "text": [
      "1,안수찬1,dobestan1@gmail.com\n",
      "2,안수찬2,dobestan2@gmail.com\n",
      "3,안수찬3,dobestan3@gmail.com\n"
     ]
    },
    {
     "data": {
      "text/plain": [
       "[{'email': 'dobestan1@gmail.com', 'id': '1', 'name': '안수찬1'},\n",
       " {'email': 'dobestan2@gmail.com', 'id': '2', 'name': '안수찬2'},\n",
       " {'email': 'dobestan3@gmail.com', 'id': '3', 'name': '안수찬3'}]"
      ]
     },
     "execution_count": 114,
     "metadata": {},
     "output_type": "execute_result"
    }
   ],
   "source": [
    "def read_csv(filepath):         # 어떤 헤더가 있는 CSV 파일이든지 읽을 수 있는 함수\n",
    "                                # \",\" 말고 다른 어떤 seperator 가 들어가더라도, \n",
    "                                # CSV 읽을 수 있는 함수\n",
    "                                # \"\\t\", \"::\", \"|\" 이 모든 sep 에 대한 함수!\n",
    "    fp = open(filepath, \"r\")\n",
    "    data = fp.read()\n",
    "    fp.close()\n",
    "    \n",
    "    elements = []\n",
    "    \n",
    "    rows = data.split(\"\\n\")\n",
    "    columns = rows[0].split(\",\")    # [\"id\", \"name\", \"email\"]\n",
    "                                    # [\"1\", \"안수찬\", \"dobestan@gmail.com\"]\n",
    "    for row in rows[1:]:\n",
    "        fields = row.split(\",\")\n",
    "        element = {}\n",
    "        \n",
    "        for columnIndex in range(len(columns)):   # index 의 값으로 비교해야 한다.\n",
    "            column = columns[columnIndex]\n",
    "            field = fields[columnIndex]\n",
    "            element[column] = field\n",
    "        \n",
    "        elements.append(element)\n",
    "    return elements\n",
    "        \n",
    "read_csv(\"./contacts.csv\")"
   ]
  },
  {
   "cell_type": "code",
   "execution_count": 115,
   "metadata": {
    "collapsed": false
   },
   "outputs": [
    {
     "name": "stdout",
     "output_type": "stream",
     "text": [
      "사과,Apple,중\n",
      "수박,Watermelon,대\n",
      "딸기,Strawberry,소\n"
     ]
    },
    {
     "data": {
      "text/plain": [
       "[{'사이즈': '중', '영문명': 'Apple', '한글명': '사과'},\n",
       " {'사이즈': '대', '영문명': 'Watermelon', '한글명': '수박'},\n",
       " {'사이즈': '소', '영문명': 'Strawberry', '한글명': '딸기'}]"
      ]
     },
     "execution_count": 115,
     "metadata": {},
     "output_type": "execute_result"
    }
   ],
   "source": [
    "read_csv(\"./fruits.csv\")"
   ]
  },
  {
   "cell_type": "code",
   "execution_count": null,
   "metadata": {
    "collapsed": true
   },
   "outputs": [],
   "source": []
  },
  {
   "cell_type": "code",
   "execution_count": null,
   "metadata": {
    "collapsed": true
   },
   "outputs": [],
   "source": [
    "# 자료형 ( Data Types ) - list, tuple, set, dict\n",
    "# 조건문\n",
    "# 반복문 - dict.items() ( result: [(), (), ])\n",
    "# 함수 ( function ) - def, - unpacking/packing ( *args, **kwargs )\n",
    "# -----------\n",
    "# read_csv ( +++ )\n",
    "# -----------\n",
    "# 함수 ( 익명 함수 ) - Lambda + Lambda Operator(map, filter, reduce)\n",
    "# List Comprehension / Generator Comprehension\n",
    "# ------------"
   ]
  },
  {
   "cell_type": "code",
   "execution_count": 17,
   "metadata": {
    "collapsed": false
   },
   "outputs": [
    {
     "data": {
      "text/plain": [
       "[{'email': 'Email@gmail.com', 'id': '1', 'name': 'Name1'},\n",
       " {'email': 'Emai2@gmail.com', 'id': '2', 'name': 'Name2'},\n",
       " {'email': 'Emai3@gmail.com', 'id': '3', 'name': 'Name3'}]"
      ]
     },
     "execution_count": 17,
     "metadata": {},
     "output_type": "execute_result"
    }
   ],
   "source": [
    "def read_csv(filepath, *args, **kwargs):       \n",
    "    \n",
    "    # sep = kwargs.get(\"sep\") if kwargs.get(\"sep\") else \",\"\n",
    "    sep = kwargs.get(\"sep\", \",\")\n",
    "    # [True 일때의 값] if [condition] else [거짓일때의 값]\n",
    "    \n",
    "    # 1. dict.get\n",
    "    # 2. [True Value] if condition else [False Value]\n",
    "    \n",
    "    fp = open(filepath, \"r\")\n",
    "    data = fp.read()         # fp.read(), readline(), readlines()\n",
    "    fp.close()\n",
    "    \n",
    "    elements = []\n",
    "    \n",
    "    rows = data.split(\"\\n\")\n",
    "    columns = rows[0].split(sep)    # [\"id\", \"name\", \"email\"]\n",
    "                                    # [\"1\", \"안수찬\", \"dobestan@gmail.com\"]\n",
    "    for row in rows[1:]:\n",
    "        fields = row.split(sep)\n",
    "        element = {}\n",
    "        \n",
    "        for columnIndex in range(len(columns)):   # index 의 값으로 비교해야 한다.\n",
    "            column = columns[columnIndex]\n",
    "            field = fields[columnIndex]\n",
    "            element[column] = field\n",
    "        \n",
    "        elements.append(element)\n",
    "    return elements\n",
    "        \n",
    "\n",
    "# read_csv(\"./contacts.csv\")\n",
    "read_csv(\"../../data/students.ssv\", sep=\":\")"
   ]
  },
  {
   "cell_type": "code",
   "execution_count": 18,
   "metadata": {
    "collapsed": true
   },
   "outputs": [],
   "source": [
    "# sep = kwargs[\"sep\"]     # KeyError\n",
    "\n",
    "# read_csv(filename, sep=\",\")\n",
    "# read_csv(filename)"
   ]
  },
  {
   "cell_type": "code",
   "execution_count": 19,
   "metadata": {
    "collapsed": false
   },
   "outputs": [
    {
     "data": {
      "text/plain": [
       "'My Name'"
      ]
     },
     "execution_count": 19,
     "metadata": {},
     "output_type": "execute_result"
    }
   ],
   "source": [
    "student = {\"name\": \"My Name\"}\n",
    "student.get(\"name\", \"이름이 없습니다.\")"
   ]
  },
  {
   "cell_type": "code",
   "execution_count": null,
   "metadata": {
    "collapsed": true
   },
   "outputs": [],
   "source": []
  },
  {
   "cell_type": "code",
   "execution_count": 21,
   "metadata": {
    "collapsed": false
   },
   "outputs": [
    {
     "data": {
      "text/plain": [
       "['id:name:email\\n',\n",
       " '1:Name1:Email@gmail.com\\n',\n",
       " '2:Name2:Emai2@gmail.com\\n',\n",
       " '3:Name3:Emai3@gmail.com']"
      ]
     },
     "execution_count": 21,
     "metadata": {},
     "output_type": "execute_result"
    }
   ],
   "source": [
    "fp = open(\"../../data/students.ssv\")\n",
    "data = fp.readlines()   # 추후에 활용하기 위해서 \\n \n",
    "\n",
    "data"
   ]
  },
  {
   "cell_type": "code",
   "execution_count": 22,
   "metadata": {
    "collapsed": true
   },
   "outputs": [],
   "source": [
    "fp = open(\"../../data/students.ssv\")"
   ]
  },
  {
   "cell_type": "code",
   "execution_count": 30,
   "metadata": {
    "collapsed": false
   },
   "outputs": [
    {
     "data": {
      "text/plain": [
       "''"
      ]
     },
     "execution_count": 30,
     "metadata": {},
     "output_type": "execute_result"
    }
   ],
   "source": [
    "fp.readline()           # fp.read()/readlines() => Memory"
   ]
  },
  {
   "cell_type": "code",
   "execution_count": 31,
   "metadata": {
    "collapsed": true
   },
   "outputs": [],
   "source": [
    "# Lambda + Lambda Operator"
   ]
  },
  {
   "cell_type": "code",
   "execution_count": 41,
   "metadata": {
    "collapsed": false
   },
   "outputs": [],
   "source": [
    "def double(x):\n",
    "    return x * 2"
   ]
  },
  {
   "cell_type": "code",
   "execution_count": 42,
   "metadata": {
    "collapsed": true
   },
   "outputs": [],
   "source": [
    "double2 = lambda x: x * 2"
   ]
  },
  {
   "cell_type": "code",
   "execution_count": 43,
   "metadata": {
    "collapsed": false
   },
   "outputs": [
    {
     "data": {
      "text/plain": [
       "<function __main__.double>"
      ]
     },
     "execution_count": 43,
     "metadata": {},
     "output_type": "execute_result"
    }
   ],
   "source": [
    "double"
   ]
  },
  {
   "cell_type": "code",
   "execution_count": 45,
   "metadata": {
    "collapsed": false
   },
   "outputs": [
    {
     "data": {
      "text/plain": [
       "<function __main__.<lambda>>"
      ]
     },
     "execution_count": 45,
     "metadata": {},
     "output_type": "execute_result"
    }
   ],
   "source": [
    "double2    # 익명 함수를 만들어서, 그 위치를 double 이라는 변수에 저장"
   ]
  },
  {
   "cell_type": "code",
   "execution_count": 47,
   "metadata": {
    "collapsed": false
   },
   "outputs": [
    {
     "data": {
      "text/plain": [
       "400"
      ]
     },
     "execution_count": 47,
     "metadata": {},
     "output_type": "execute_result"
    }
   ],
   "source": [
    "(lambda x: x * 2)(200)\n",
    "\n",
    "# Map, Filter, Reduce"
   ]
  },
  {
   "cell_type": "code",
   "execution_count": 48,
   "metadata": {
    "collapsed": true
   },
   "outputs": [],
   "source": [
    "# 1. 함수: 리스트를 받아서, 제곱수의 리스트 \n",
    "# 예. 1부터 10까지의 자연수의 제곱수 ( 1, 4, 9, ..., 100 ) \n",
    "\n",
    "# 2. 함수: 리스트를 받아서, 양수인 element 만 새로운 리스트 \n",
    "# input: [-1, -2, 3, 4] => [3, 4]"
   ]
  },
  {
   "cell_type": "code",
   "execution_count": 50,
   "metadata": {
    "collapsed": false
   },
   "outputs": [
    {
     "data": {
      "text/plain": [
       "[1, 4, 9, 16, 25]"
      ]
     },
     "execution_count": 50,
     "metadata": {},
     "output_type": "execute_result"
    }
   ],
   "source": [
    "def get_square(number):\n",
    "    return number ** 2\n",
    "\n",
    "def get_square_list(numbers):\n",
    "    elements = []\n",
    "    for number in numbers:\n",
    "        elements.append(get_square(number))\n",
    "    return elements\n",
    "\n",
    "get_square_list([1, 2, 3, 4, 5])"
   ]
  },
  {
   "cell_type": "code",
   "execution_count": 51,
   "metadata": {
    "collapsed": true
   },
   "outputs": [],
   "source": [
    "# 전처리 \n",
    "\n",
    "# 010.2220.5736       => 01022205736\n",
    "# 010-2220-5736       => 01022205736\n",
    "# 010둘둘둘영-5736"
   ]
  },
  {
   "cell_type": "code",
   "execution_count": 62,
   "metadata": {
    "collapsed": false
   },
   "outputs": [
    {
     "name": "stdout",
     "output_type": "stream",
     "text": [
      "1\n",
      "4\n",
      "9\n",
      "16\n",
      "25\n"
     ]
    }
   ],
   "source": [
    "map(                    # generator => 한번에 연산 X\n",
    "    get_square,         \n",
    "    [1, 2, 3, 4, 5],\n",
    ")\n"
   ]
  },
  {
   "cell_type": "code",
   "execution_count": 64,
   "metadata": {
    "collapsed": false
   },
   "outputs": [
    {
     "data": {
      "text/plain": [
       "[1, 4, 9, 16, 25]"
      ]
     },
     "execution_count": 64,
     "metadata": {},
     "output_type": "execute_result"
    }
   ],
   "source": [
    "list(map(\n",
    "    lambda x: x ** 2,\n",
    "    [1, 2, 3, 4, 5]\n",
    "))"
   ]
  },
  {
   "cell_type": "code",
   "execution_count": 65,
   "metadata": {
    "collapsed": false
   },
   "outputs": [
    {
     "data": {
      "text/plain": [
       "[1, 4, 9, 16]"
      ]
     },
     "execution_count": 65,
     "metadata": {},
     "output_type": "execute_result"
    }
   ],
   "source": [
    "def get_square_list(numbers):\n",
    "    return list(map(lambda x: x ** 2, numbers))\n",
    "\n",
    "get_square_list([1, 2, 3, 4])"
   ]
  },
  {
   "cell_type": "code",
   "execution_count": 66,
   "metadata": {
    "collapsed": true
   },
   "outputs": [],
   "source": [
    "# 2. 함수: 리스트를 받아서, 양수인 element 만 새로운 리스트 \n",
    "# input: [-1, -2, 3, 4] => [3, 4]"
   ]
  },
  {
   "cell_type": "code",
   "execution_count": 72,
   "metadata": {
    "collapsed": false
   },
   "outputs": [
    {
     "data": {
      "text/plain": [
       "[3, 4]"
      ]
     },
     "execution_count": 72,
     "metadata": {},
     "output_type": "execute_result"
    }
   ],
   "source": [
    "numbers = [-1, -2, 3, 4]\n",
    "\n",
    "list(map(\n",
    "    lambda x: x > 0,\n",
    "    numbers,\n",
    "))   # Boolean List / Boolean Mask, Filtering Mask\n",
    "\n",
    "list(filter(\n",
    "    lambda x: x > 0,\n",
    "    numbers,\n",
    "))\n",
    "\n",
    "def get_positive_list(numbers):\n",
    "    return list(filter(lambda x: x > 0, numbers))\n",
    "\n",
    "get_positive_list([-1, -2, 3, 4])\n",
    "\n",
    "# map - element func apply\n",
    "# filter - element func apply, filtering when True ( Filtering Mask )"
   ]
  },
  {
   "cell_type": "code",
   "execution_count": 69,
   "metadata": {
    "collapsed": false
   },
   "outputs": [
    {
     "data": {
      "text/plain": [
       "[3, 4]"
      ]
     },
     "execution_count": 69,
     "metadata": {},
     "output_type": "execute_result"
    }
   ],
   "source": [
    "def get_positive_list(numbers):\n",
    "    elements = []\n",
    "    for number in numbers:\n",
    "        if number > 0:               # False, False, True, True\n",
    "            elements.append(number)\n",
    "    return elements\n",
    "\n",
    "get_positive_list(numbers)"
   ]
  },
  {
   "cell_type": "code",
   "execution_count": 74,
   "metadata": {
    "collapsed": false
   },
   "outputs": [],
   "source": [
    "list(filter(\n",
    "    lambda x: x > 0,\n",
    "    numbers,\n",
    "))\n",
    "\n",
    "def get_positive_list(numbers):\n",
    "    return list(filter(lambda x: x > 0, numbers))\n",
    "\n",
    "get_positive_list([-1, -2, 3, 4])\n",
    "\n",
    "\n",
    "get_positive_list = lambda numbers: list(filter(lambda x: x > 0, numbers))"
   ]
  },
  {
   "cell_type": "code",
   "execution_count": 88,
   "metadata": {
    "collapsed": false
   },
   "outputs": [
    {
     "data": {
      "text/plain": [
       "[3, 4]"
      ]
     },
     "execution_count": 88,
     "metadata": {},
     "output_type": "execute_result"
    }
   ],
   "source": [
    "get_positive_list([-1, -2, 3, 4])\n",
    "\n",
    "# 1. 리스트를 받아서, 리스트의 숫자들 의 곱 | [1, 2, 3, 4] => 24\n",
    "# 2. 리스트를 받아서, 리스트 중에서 제일 큰 수 | [-1, 0, 2, 4, 3] => 4"
   ]
  },
  {
   "cell_type": "code",
   "execution_count": 90,
   "metadata": {
    "collapsed": false
   },
   "outputs": [
    {
     "data": {
      "text/plain": [
       "24"
      ]
     },
     "execution_count": 90,
     "metadata": {},
     "output_type": "execute_result"
    }
   ],
   "source": [
    "# 1. 곱 \n",
    "\n",
    "def get_multiply(numbers):\n",
    "    result = 1\n",
    "    for number in numbers:\n",
    "        result *= number\n",
    "    return result\n",
    "\n",
    "get_multiply([1, 2, 3, 4])\n",
    "\n",
    "# 1, 1, 2, 3, 4\n",
    "#    1, 2, 3, 4\n",
    "#       2, 3, 4\n",
    "#          6, 4\n",
    "#            24"
   ]
  },
  {
   "cell_type": "code",
   "execution_count": 92,
   "metadata": {
    "collapsed": false
   },
   "outputs": [
    {
     "data": {
      "text/plain": [
       "5"
      ]
     },
     "execution_count": 92,
     "metadata": {},
     "output_type": "execute_result"
    }
   ],
   "source": [
    "def get_max(numbers):\n",
    "    result = numbers[0]  # 만약에, 0이라고 했을 때 => 음수의 리스트 \n",
    "    for number in numbers:\n",
    "        if result < number:\n",
    "            result = number\n",
    "    return result\n",
    "\n",
    "get_max([3, -1, 5, -6])\n",
    "\n",
    "# 3, -1, 5, -6\n",
    "#     3, 5, -6\n",
    "#        5, -6\n",
    "#            5"
   ]
  },
  {
   "cell_type": "code",
   "execution_count": 93,
   "metadata": {
    "collapsed": true
   },
   "outputs": [],
   "source": [
    "# 최종적인 output \n",
    "# [init, a, b, c, d, e] => result"
   ]
  },
  {
   "cell_type": "code",
   "execution_count": 94,
   "metadata": {
    "collapsed": true
   },
   "outputs": [],
   "source": [
    "# reduce - python 2\n",
    "from functools import reduce"
   ]
  },
  {
   "cell_type": "code",
   "execution_count": 99,
   "metadata": {
    "collapsed": false
   },
   "outputs": [
    {
     "data": {
      "text/plain": [
       "5"
      ]
     },
     "execution_count": 99,
     "metadata": {},
     "output_type": "execute_result"
    }
   ],
   "source": [
    "def get_bigger(a, b):\n",
    "    return a if a > b else b\n",
    "\n",
    "reduce(\n",
    "    get_bigger,\n",
    "    [3, -1, 5, -6],\n",
    ")                     # get_max\n",
    "\n",
    "reduce(\n",
    "    lambda x, y: x if x > y else y,\n",
    "    [3, -1, 5, -6],\n",
    ")\n",
    "\n",
    "def get_max(numbers):\n",
    "    return reduce(lambda x, y: x if x > y else y, numbers)\n",
    "\n",
    "get_max([3, -1, 5, -6])\n",
    "\n",
    "# 1. map      - apply\n",
    "# 2. filter   - apply, True\n",
    "# 3. reduce   - apply(a,b)"
   ]
  },
  {
   "cell_type": "code",
   "execution_count": 100,
   "metadata": {
    "collapsed": true
   },
   "outputs": [],
   "source": [
    "# 리스트를 받아서, 히스토그램을 그리는 함수\n",
    "# [\"dog\", \"dog\", \"dog\", \"dog\", \"cat\", \"cat\", \"bird\", \"bird\", \"bird\"]"
   ]
  },
  {
   "cell_type": "code",
   "execution_count": 101,
   "metadata": {
    "collapsed": false
   },
   "outputs": [
    {
     "data": {
      "text/plain": [
       "'\\ndog   ====\\ncat   ==\\nbird  ===\\n'"
      ]
     },
     "execution_count": 101,
     "metadata": {},
     "output_type": "execute_result"
    }
   ],
   "source": [
    "\"\"\"\n",
    "dog   ====\n",
    "cat   ==\n",
    "bird  ===\n",
    "\"\"\""
   ]
  },
  {
   "cell_type": "code",
   "execution_count": 102,
   "metadata": {
    "collapsed": true
   },
   "outputs": [],
   "source": [
    "# 리스트를 받아서, 모든 엘리먼트를 곱하는 기능\n",
    "\n",
    "# 1, 1, 2, 3, 4, 5 => 120"
   ]
  },
  {
   "cell_type": "code",
   "execution_count": 2,
   "metadata": {
    "collapsed": false
   },
   "outputs": [
    {
     "ename": "NameError",
     "evalue": "name 'reduce' is not defined",
     "output_type": "error",
     "traceback": [
      "\u001b[0;31m---------------------------------------------------------------------------\u001b[0m",
      "\u001b[0;31mNameError\u001b[0m                                 Traceback (most recent call last)",
      "\u001b[0;32m<ipython-input-2-1c919bb2e115>\u001b[0m in \u001b[0;36m<module>\u001b[0;34m()\u001b[0m\n\u001b[1;32m      3\u001b[0m     \u001b[0;32mreturn\u001b[0m \u001b[0ma\u001b[0m \u001b[0;34m*\u001b[0m \u001b[0mb\u001b[0m\u001b[0;34m\u001b[0m\u001b[0m\n\u001b[1;32m      4\u001b[0m \u001b[0;34m\u001b[0m\u001b[0m\n\u001b[0;32m----> 5\u001b[0;31m reduce(\n\u001b[0m\u001b[1;32m      6\u001b[0m     \u001b[0mmultiply\u001b[0m\u001b[0;34m,\u001b[0m\u001b[0;34m\u001b[0m\u001b[0m\n\u001b[1;32m      7\u001b[0m     \u001b[0;34m[\u001b[0m\u001b[0;36m1\u001b[0m\u001b[0;34m,\u001b[0m \u001b[0;36m2\u001b[0m\u001b[0;34m,\u001b[0m \u001b[0;36m3\u001b[0m\u001b[0;34m,\u001b[0m \u001b[0;36m4\u001b[0m\u001b[0;34m,\u001b[0m \u001b[0;36m5\u001b[0m\u001b[0;34m]\u001b[0m\u001b[0;34m,\u001b[0m\u001b[0;34m\u001b[0m\u001b[0m\n",
      "\u001b[0;31mNameError\u001b[0m: name 'reduce' is not defined"
     ]
    }
   ],
   "source": [
    "def multiply(a, b):\n",
    "    print((a, b))\n",
    "    return a * b\n",
    "\n",
    "reduce(\n",
    "    multiply,\n",
    "    [1, 2, 3, 4, 5],\n",
    "    0,               # 기본값!!! (*) => 빈 dict\n",
    ")\n",
    "\n",
    "# 리스트를 받아서, 히스토그램을 그리는 함수\n",
    "# [\"dog\", \"dog\", \"dog\", \"dog\", \"cat\", \"cat\", \"bird\", \"bird\", \"bird\"]\n",
    "# {\"dog\": 4, \"cat\": 2, \"bird\": 3}\n",
    "\n",
    "# {} \"dog\" \"dog\" \"dog\" \"cat\" \"cat\" ..."
   ]
  },
  {
   "cell_type": "code",
   "execution_count": null,
   "metadata": {
    "collapsed": true
   },
   "outputs": [],
   "source": []
  },
  {
   "cell_type": "code",
   "execution_count": 120,
   "metadata": {
    "collapsed": true
   },
   "outputs": [],
   "source": [
    "# 1. 히스토그램을 그리는 함수 \n",
    "# input: {\"dog\": 4, \"cat\": 3} => output: 그림 \n",
    "\n",
    "# 2. 리스트를 받아서, 숫자를 세는 함수\n",
    "# input: list => output: histogram dict"
   ]
  },
  {
   "cell_type": "code",
   "execution_count": 121,
   "metadata": {
    "collapsed": true
   },
   "outputs": [],
   "source": [
    "data = [\"dog\", \"dog\", \"dog\", \"dog\", \"cat\", \"cat\", \"bird\", \"bird\", \"bird\"]"
   ]
  },
  {
   "cell_type": "code",
   "execution_count": 139,
   "metadata": {
    "collapsed": false
   },
   "outputs": [
    {
     "name": "stdout",
     "output_type": "stream",
     "text": [
      "dog       ====\n",
      "cat       ==\n",
      "bird      ===\n"
     ]
    }
   ],
   "source": [
    "def print_histogram(histogram_dict):\n",
    "    rows = []\n",
    "    for key, value in histogram_dict.items():\n",
    "        row = \"{key}{spaces}{value_count}\".format(\n",
    "            key=key,\n",
    "            spaces=\" \" * (10 - len(key)),\n",
    "            value_count=\"=\" * value,\n",
    "        )\n",
    "        rows.append(row)       \n",
    "    print(  \"\\n\".join(rows)  )\n",
    "\n",
    "def get_histogram_dict(data):\n",
    "    def temp_func(result, element):\n",
    "        if result.get(element):\n",
    "            result[element] += 1\n",
    "        else:\n",
    "            result[element] = 1\n",
    "        return result\n",
    "\n",
    "    return reduce(\n",
    "        temp_func,\n",
    "        data,\n",
    "        {},\n",
    "    )\n",
    "\n",
    "histogram_dict = get_histogram_dict([\"dog\", \"dog\", \"dog\", \"dog\", \"cat\", \"cat\", \"bird\", \"bird\", \"bird\"])\n",
    "print_histogram(histogram_dict)"
   ]
  },
  {
   "cell_type": "code",
   "execution_count": null,
   "metadata": {
    "collapsed": true
   },
   "outputs": [],
   "source": []
  },
  {
   "cell_type": "code",
   "execution_count": null,
   "metadata": {
    "collapsed": true
   },
   "outputs": [],
   "source": []
  },
  {
   "cell_type": "code",
   "execution_count": 140,
   "metadata": {
    "collapsed": true
   },
   "outputs": [],
   "source": [
    "# 함수를 리턴하는 함수 \n",
    "\n",
    "def get_multiply_by(n):\n",
    "    def temp_func(x):\n",
    "        return n * x\n",
    "    return temp_func"
   ]
  },
  {
   "cell_type": "code",
   "execution_count": 145,
   "metadata": {
    "collapsed": true
   },
   "outputs": [],
   "source": [
    "# decorator - 함수를 리턴하는 함수 ( @ )"
   ]
  },
  {
   "cell_type": "code",
   "execution_count": 146,
   "metadata": {
    "collapsed": true
   },
   "outputs": [],
   "source": [
    "# 함수의 실행시간을 측정하는 기능 \n",
    "\n",
    "def hello():\n",
    "    print(\"hello world\")\n",
    "    \n",
    "def world():\n",
    "    print(\"world hello\")"
   ]
  },
  {
   "cell_type": "code",
   "execution_count": 148,
   "metadata": {
    "collapsed": false
   },
   "outputs": [],
   "source": [
    "import time"
   ]
  },
  {
   "cell_type": "code",
   "execution_count": 165,
   "metadata": {
    "collapsed": true
   },
   "outputs": [],
   "source": [
    "def track_time(func):\n",
    "    def wrapper(*args, **kwargs):      # packing(함수 정의)\n",
    "        start_time = time.time()\n",
    "        result = func(*args, **kwargs)  # unpacking(호출)\n",
    "        end_time = time.time()\n",
    "        exec_time = end_time - start_time\n",
    "        print(\"Execution Time: {s}s\".format(s=exec_time))\n",
    "        return result\n",
    "    return wrapper"
   ]
  },
  {
   "cell_type": "code",
   "execution_count": 163,
   "metadata": {
    "collapsed": false
   },
   "outputs": [],
   "source": [
    "@track_time               # decorator => 시간 측정, Email, SMS\n",
    "def hello():\n",
    "    print(\"hello world\")\n",
    "    \n",
    "@track_time\n",
    "def world():\n",
    "    print(\"world hello\")\n",
    "    \n",
    "# hello = track_time(hello)\n",
    "# world = track_time(world)"
   ]
  },
  {
   "cell_type": "code",
   "execution_count": 161,
   "metadata": {
    "collapsed": false
   },
   "outputs": [
    {
     "name": "stdout",
     "output_type": "stream",
     "text": [
      "start\n",
      "hello world\n",
      "end\n",
      "7.867813110351562e-06s executed\n"
     ]
    }
   ],
   "source": [
    "hello()"
   ]
  },
  {
   "cell_type": "code",
   "execution_count": 162,
   "metadata": {
    "collapsed": false
   },
   "outputs": [
    {
     "name": "stdout",
     "output_type": "stream",
     "text": [
      "start\n",
      "world hello\n",
      "end\n",
      "7.62939453125e-06s executed\n"
     ]
    }
   ],
   "source": [
    "world()"
   ]
  },
  {
   "cell_type": "code",
   "execution_count": null,
   "metadata": {
    "collapsed": true
   },
   "outputs": [],
   "source": []
  },
  {
   "cell_type": "code",
   "execution_count": 166,
   "metadata": {
    "collapsed": true
   },
   "outputs": [],
   "source": [
    "# Track Time"
   ]
  },
  {
   "cell_type": "code",
   "execution_count": 167,
   "metadata": {
    "collapsed": false
   },
   "outputs": [
    {
     "name": "stdout",
     "output_type": "stream",
     "text": [
      "CPU times: user 0 ns, sys: 0 ns, total: 0 ns\n",
      "Wall time: 5.25 µs\n"
     ]
    },
    {
     "data": {
      "text/plain": [
       "11"
      ]
     },
     "execution_count": 167,
     "metadata": {},
     "output_type": "execute_result"
    }
   ],
   "source": [
    "# Jupyter Notebook Magic Functions\n",
    "\n",
    "%time 1 + 10"
   ]
  },
  {
   "cell_type": "code",
   "execution_count": 168,
   "metadata": {
    "collapsed": false
   },
   "outputs": [
    {
     "name": "stdout",
     "output_type": "stream",
     "text": [
      "100000000 loops, best of 3: 15.4 ns per loop\n"
     ]
    }
   ],
   "source": [
    "%timeit 1 + 10"
   ]
  },
  {
   "cell_type": "code",
   "execution_count": 169,
   "metadata": {
    "collapsed": true
   },
   "outputs": [],
   "source": [
    "# _ ( underscore )\n",
    "\n",
    "# __init__(self, ...), __str__, __add__, __mul__\n",
    "# __ => 파이썬 내부적으로 이미 사용되고 있는 이름이다. \n",
    "#    => 명시적으로 쓰지 마라.\n",
    "\n",
    "# private ( Student Class : _name )"
   ]
  },
  {
   "cell_type": "code",
   "execution_count": 193,
   "metadata": {
    "collapsed": true
   },
   "outputs": [],
   "source": [
    "# 1. interpreter last 연산의 결과 ( _ )\n",
    "# 2. i don't care ( _ )\n",
    "# 3. Class, Method => private, built-in\n",
    "# 4. Localization ( _ )"
   ]
  },
  {
   "cell_type": "code",
   "execution_count": 194,
   "metadata": {
    "collapsed": true
   },
   "outputs": [],
   "source": [
    "# Jupyter _\n",
    "\n",
    "# 1. interpreter last 연산 ( _(직전 연산), __(2번 전 연산) )\n",
    "# 2. 명시적인 input, output ( _N, _iN )"
   ]
  },
  {
   "cell_type": "code",
   "execution_count": 195,
   "metadata": {
    "collapsed": false
   },
   "outputs": [
    {
     "data": {
      "text/plain": [
       "30"
      ]
     },
     "execution_count": 195,
     "metadata": {},
     "output_type": "execute_result"
    }
   ],
   "source": [
    "10 + 20"
   ]
  },
  {
   "cell_type": "code",
   "execution_count": 196,
   "metadata": {
    "collapsed": false
   },
   "outputs": [
    {
     "data": {
      "text/plain": [
       "'10 + 20'"
      ]
     },
     "execution_count": 196,
     "metadata": {},
     "output_type": "execute_result"
    }
   ],
   "source": [
    "_i184"
   ]
  },
  {
   "cell_type": "code",
   "execution_count": 197,
   "metadata": {
    "collapsed": false
   },
   "outputs": [
    {
     "data": {
      "text/plain": [
       "30"
      ]
     },
     "execution_count": 197,
     "metadata": {},
     "output_type": "execute_result"
    }
   ],
   "source": [
    "_184"
   ]
  },
  {
   "cell_type": "code",
   "execution_count": 198,
   "metadata": {
    "collapsed": false
   },
   "outputs": [
    {
     "data": {
      "text/plain": [
       "30"
      ]
     },
     "execution_count": 198,
     "metadata": {},
     "output_type": "execute_result"
    }
   ],
   "source": [
    "# Meta Programming\n",
    "eval(_i184)"
   ]
  },
  {
   "cell_type": "code",
   "execution_count": null,
   "metadata": {
    "collapsed": true
   },
   "outputs": [],
   "source": []
  },
  {
   "cell_type": "code",
   "execution_count": 199,
   "metadata": {
    "collapsed": true
   },
   "outputs": [],
   "source": [
    "# 1. List Literal => \"[]\"\n",
    "# 2. list()"
   ]
  },
  {
   "cell_type": "code",
   "execution_count": 206,
   "metadata": {
    "collapsed": false
   },
   "outputs": [
    {
     "data": {
      "text/plain": [
       "[0, 1, 4, 9, 16, 25, 36, 49, 64, 81]"
      ]
     },
     "execution_count": 206,
     "metadata": {},
     "output_type": "execute_result"
    }
   ],
   "source": [
    "[i ** 2 for i in range(10)]    # iterable 한 객체 ( for 문을 돌릴 수 있는 ) \n",
    "                         # iter/gen, list, set, tuple"
   ]
  },
  {
   "cell_type": "code",
   "execution_count": 204,
   "metadata": {
    "collapsed": false
   },
   "outputs": [
    {
     "data": {
      "text/plain": [
       "[0, 1, 4, 9, 16, 25, 36, 49, 64, 81]"
      ]
     },
     "execution_count": 204,
     "metadata": {},
     "output_type": "execute_result"
    }
   ],
   "source": [
    "list(map(\n",
    "    lambda i: i ** 2,\n",
    "    range(10)\n",
    "))"
   ]
  },
  {
   "cell_type": "code",
   "execution_count": 210,
   "metadata": {
    "collapsed": false
   },
   "outputs": [
    {
     "data": {
      "text/plain": [
       "[64, 81, 100]"
      ]
     },
     "execution_count": 210,
     "metadata": {},
     "output_type": "execute_result"
    }
   ],
   "source": [
    "# 1부터 10까지의 자연수 를 제곱해서 \n",
    "# 제곱한 결과 중에 50+ \n",
    "# [64, 81, 100]\n",
    "\n",
    "[\n",
    "    x ** 2                # Map::Lambda\n",
    "    for x\n",
    "    in range(1, 10 + 1)\n",
    "    if x ** 2 > 50        # Filter::Lambda\n",
    "]"
   ]
  },
  {
   "cell_type": "code",
   "execution_count": 208,
   "metadata": {
    "collapsed": false
   },
   "outputs": [
    {
     "data": {
      "text/plain": [
       "[64, 81, 100]"
      ]
     },
     "execution_count": 208,
     "metadata": {},
     "output_type": "execute_result"
    }
   ],
   "source": [
    "list(filter(\n",
    "    lambda x: x > 50,\n",
    "    map(\n",
    "        lambda x: x ** 2,\n",
    "        range(1, 10 + 1),\n",
    "    )\n",
    "))"
   ]
  },
  {
   "cell_type": "code",
   "execution_count": 211,
   "metadata": {
    "collapsed": true
   },
   "outputs": [],
   "source": [
    "# 1부터 10까지의 자연수 를 제곱해서 \n",
    "# 제곱한 결과 중에 50+ \n",
    "# [64, 81, 100]\n",
    "\n",
    "a = [\n",
    "    x ** 2                # Map::Lambda\n",
    "    for x\n",
    "    in range(1, 10 + 1)\n",
    "    if x ** 2 > 50        # Filter::Lambda\n",
    "]"
   ]
  },
  {
   "cell_type": "code",
   "execution_count": 212,
   "metadata": {
    "collapsed": false
   },
   "outputs": [
    {
     "data": {
      "text/plain": [
       "[64, 81, 100]"
      ]
     },
     "execution_count": 212,
     "metadata": {},
     "output_type": "execute_result"
    }
   ],
   "source": [
    "a"
   ]
  },
  {
   "cell_type": "code",
   "execution_count": 213,
   "metadata": {
    "collapsed": true
   },
   "outputs": [],
   "source": [
    "# 1부터 10까지의 자연수 를 제곱해서 \n",
    "# 제곱한 결과 중에 50+ \n",
    "# [64, 81, 100]\n",
    "\n",
    "b = (\n",
    "    x ** 2                # Map::Lambda\n",
    "    for x\n",
    "    in range(1, 10 + 1)\n",
    "    if x ** 2 > 50        # Filter::Lambda\n",
    ")"
   ]
  },
  {
   "cell_type": "code",
   "execution_count": 219,
   "metadata": {
    "collapsed": false
   },
   "outputs": [
    {
     "ename": "StopIteration",
     "evalue": "",
     "output_type": "error",
     "traceback": [
      "\u001b[0;31m---------------------------------------------------------------------------\u001b[0m",
      "\u001b[0;31mStopIteration\u001b[0m                             Traceback (most recent call last)",
      "\u001b[0;32m<ipython-input-219-641a931447e8>\u001b[0m in \u001b[0;36m<module>\u001b[0;34m()\u001b[0m\n\u001b[0;32m----> 1\u001b[0;31m \u001b[0mnext\u001b[0m\u001b[0;34m(\u001b[0m\u001b[0mb\u001b[0m\u001b[0;34m)\u001b[0m\u001b[0;34m\u001b[0m\u001b[0m\n\u001b[0m",
      "\u001b[0;31mStopIteration\u001b[0m: "
     ]
    }
   ],
   "source": [
    "next(b)"
   ]
  },
  {
   "cell_type": "code",
   "execution_count": null,
   "metadata": {
    "collapsed": true
   },
   "outputs": [],
   "source": []
  },
  {
   "cell_type": "code",
   "execution_count": null,
   "metadata": {
    "collapsed": true
   },
   "outputs": [],
   "source": []
  },
  {
   "cell_type": "code",
   "execution_count": null,
   "metadata": {
    "collapsed": true
   },
   "outputs": [],
   "source": []
  },
  {
   "cell_type": "code",
   "execution_count": null,
   "metadata": {
    "collapsed": true
   },
   "outputs": [],
   "source": []
  },
  {
   "cell_type": "code",
   "execution_count": 226,
   "metadata": {
    "collapsed": true
   },
   "outputs": [],
   "source": [
    "# dobest.io ( 블로그 ) \n",
    "\n",
    "# 크롤링 => 스크래핑(링크), 크롤링(페이지), 파싱(추출)\n",
    "#                     크롤링 = (스크래핑) + 크롤링 + 파싱(*)"
   ]
  },
  {
   "cell_type": "code",
   "execution_count": null,
   "metadata": {
    "collapsed": true
   },
   "outputs": [],
   "source": [
    "# 데이터(리소스)\n",
    "\n",
    "# 데이터베이스 소스 X\n",
    "# 윈도우 프로그램 / 웹 사이트 ( 데스크탑, 모바일 ) / 모바일 어플리케이션"
   ]
  },
  {
   "cell_type": "code",
   "execution_count": 228,
   "metadata": {
    "collapsed": true
   },
   "outputs": [],
   "source": [
    "# 1. 웹사이트 ( HTML(구조), CSS(스타일), Javascript(동적인 기능) )\n",
    "\n",
    "# 1.1. 정적인 사이트 ( Server Rendering )\n",
    "# 1.2. 동적인 사이트 ( Client/Javascript Rendering )\n",
    "# 1.3. iFrame 으로 이루어진 사이트 ( 네이버 카페, 인트라넷, 공공기관 )\n",
    "# 1.4. Javascript 으로만 동작하는 사이트"
   ]
  },
  {
   "cell_type": "code",
   "execution_count": 230,
   "metadata": {
    "collapsed": true
   },
   "outputs": [],
   "source": [
    "# 1. 크롤링\n",
    "#      HTML 파일을 다운로드 ( .html )\n",
    "# 2. 파싱 \n",
    "#      어떻게 추출해야지 가장 쉽게 할 수 있을까?\n",
    "#      html, css, js\n",
    "#      css를 가지고 html element 를 명시하는 방법\n",
    "#      css selector ( div > ul > li, div#realrank > li )"
   ]
  },
  {
   "cell_type": "code",
   "execution_count": 231,
   "metadata": {
    "collapsed": true
   },
   "outputs": [],
   "source": [
    "# https://dobest.io/\n",
    "url = \"https://dobest.io/\""
   ]
  },
  {
   "cell_type": "code",
   "execution_count": 232,
   "metadata": {
    "collapsed": true
   },
   "outputs": [],
   "source": [
    "import requests"
   ]
  },
  {
   "cell_type": "code",
   "execution_count": 234,
   "metadata": {
    "collapsed": false
   },
   "outputs": [],
   "source": [
    "response = requests.get(url)"
   ]
  },
  {
   "cell_type": "code",
   "execution_count": 237,
   "metadata": {
    "collapsed": false
   },
   "outputs": [],
   "source": [
    "# 우리가 찾으려고 하는 것\n",
    "# 제목들만 리스트 형태로 뽑자."
   ]
  },
  {
   "cell_type": "code",
   "execution_count": 239,
   "metadata": {
    "collapsed": false
   },
   "outputs": [],
   "source": [
    "# article ( class = \"post\" \".\" )\n",
    "# header\n",
    "# h1\n",
    "# text\n",
    "\n",
    "# class (\".\"), id (\"#\")\n",
    "\n",
    "css_selector = \"article.post header h1\""
   ]
  },
  {
   "cell_type": "code",
   "execution_count": 243,
   "metadata": {
    "collapsed": false
   },
   "outputs": [],
   "source": [
    "# 파싱을 도와주는 라이브러리 - beautifulsoup, lxml"
   ]
  },
  {
   "cell_type": "code",
   "execution_count": 244,
   "metadata": {
    "collapsed": true
   },
   "outputs": [],
   "source": [
    "from bs4 import BeautifulSoup"
   ]
  },
  {
   "cell_type": "code",
   "execution_count": 246,
   "metadata": {
    "collapsed": true
   },
   "outputs": [],
   "source": [
    "dom = BeautifulSoup(response.text, \"html.parser\")\n",
    "# dom ( document object model )\n",
    "# html > head, body > div, article .. "
   ]
  },
  {
   "cell_type": "code",
   "execution_count": 249,
   "metadata": {
    "collapsed": false
   },
   "outputs": [],
   "source": [
    "title_elements = dom.select(css_selector)"
   ]
  },
  {
   "cell_type": "code",
   "execution_count": 260,
   "metadata": {
    "collapsed": true
   },
   "outputs": [],
   "source": [
    "title_element = title_elements[0]\n",
    "\n",
    "# $ pip install requests ( = web request )\n",
    "# $ pip install beautifulsoup4\n",
    "\n",
    "# 네이버 메인페이지의 실시간 검색어 10개 "
   ]
  },
  {
   "cell_type": "code",
   "execution_count": 261,
   "metadata": {
    "collapsed": false
   },
   "outputs": [
    {
     "data": {
      "text/plain": [
       "['postgresql 에서 한글 정렬 문제 해결하기',\n",
       " '[강의 소개] Node.js 로 시작하는 웹 프로그래밍',\n",
       " '[강의 소개] 업무 자동화를 위한 파이썬',\n",
       " 'Sentry 를 이용한 Node.js 에러 모니터링',\n",
       " '오픈소스 네이밍: 에러 모니터링을 위한 Sentry 와 스타크래프트2',\n",
       " 'autotrack 을 이용한 구글 어낼리틱스 이벤트 트래킹 자동화',\n",
       " 'Node.js 에서 한글 인코딩 문제 해결하기']"
      ]
     },
     "execution_count": 261,
     "metadata": {},
     "output_type": "execute_result"
    }
   ],
   "source": [
    "[\n",
    "    title_element.select_one(\"a\").text\n",
    "    for title_element\n",
    "    in title_elements\n",
    "]"
   ]
  },
  {
   "cell_type": "code",
   "execution_count": 262,
   "metadata": {
    "collapsed": true
   },
   "outputs": [],
   "source": [
    "BeautifulSoup??"
   ]
  },
  {
   "cell_type": "code",
   "execution_count": null,
   "metadata": {
    "collapsed": true
   },
   "outputs": [],
   "source": []
  },
  {
   "cell_type": "code",
   "execution_count": null,
   "metadata": {
    "collapsed": true
   },
   "outputs": [],
   "source": []
  },
  {
   "cell_type": "code",
   "execution_count": null,
   "metadata": {
    "collapsed": true
   },
   "outputs": [],
   "source": []
  },
  {
   "cell_type": "code",
   "execution_count": null,
   "metadata": {
    "collapsed": true
   },
   "outputs": [],
   "source": []
  },
  {
   "cell_type": "code",
   "execution_count": null,
   "metadata": {
    "collapsed": true
   },
   "outputs": [],
   "source": []
  },
  {
   "cell_type": "code",
   "execution_count": null,
   "metadata": {
    "collapsed": true
   },
   "outputs": [],
   "source": []
  },
  {
   "cell_type": "code",
   "execution_count": null,
   "metadata": {
    "collapsed": true
   },
   "outputs": [],
   "source": []
  },
  {
   "cell_type": "code",
   "execution_count": 263,
   "metadata": {
    "collapsed": true
   },
   "outputs": [],
   "source": [
    "response = requests.get(\"http://www.naver.com/\")\n",
    "dom = BeautifulSoup(response.text, \"html.parser\")"
   ]
  },
  {
   "cell_type": "code",
   "execution_count": 267,
   "metadata": {
    "collapsed": false
   },
   "outputs": [],
   "source": [
    "# class => \".\" => page 내에서 공통점이 있는 elements\n",
    "# id => \"#\" => page 내에서 unique 한 element\n",
    "\n",
    "rank_elements = dom.select(\"ol#realrank li\")"
   ]
  },
  {
   "cell_type": "code",
   "execution_count": 269,
   "metadata": {
    "collapsed": false
   },
   "outputs": [],
   "source": [
    "rank_elements = dom.select(\"ol#realrank li\")\n",
    "rank_element = rank_elements[0]"
   ]
  },
  {
   "cell_type": "code",
   "execution_count": 272,
   "metadata": {
    "collapsed": false
   },
   "outputs": [],
   "source": [
    "# rank_element\n",
    "\n",
    "# 문제제기: 네이버 메인페이지에서 봤던 코드랑 살짝 다르다.\n",
    "# 이유: 네이버에서 실검 서버 렌더링 되었다가 클라어인트에서 수정됨.\n",
    "\n",
    "# 방법1: title=\"최홍만\"\n",
    "# 방법2: a 태그 안에 있는 \"최홍만\""
   ]
  },
  {
   "cell_type": "code",
   "execution_count": 278,
   "metadata": {
    "collapsed": false
   },
   "outputs": [],
   "source": [
    "# rank_element.select_one(\"a\").text.split(\"상승\")[0]"
   ]
  },
  {
   "cell_type": "code",
   "execution_count": 284,
   "metadata": {
    "collapsed": false
   },
   "outputs": [
    {
     "data": {
      "text/plain": [
       "'최홍만'"
      ]
     },
     "execution_count": 284,
     "metadata": {},
     "output_type": "execute_result"
    }
   ],
   "source": [
    "rank_elements = dom.select(\"ol#realrank li\")\n",
    "rank_element = rank_elements[0]\n",
    "\n",
    "rank_element.select_one(\"a\").attrs.get(\"title\")"
   ]
  },
  {
   "cell_type": "code",
   "execution_count": 285,
   "metadata": {
    "collapsed": false
   },
   "outputs": [
    {
     "data": {
      "text/plain": [
       "['최홍만', '권아솔', '지소울', '가온', '김수남', '구새봄', '우병우', '라연', '이래나', '마음의소리']"
      ]
     },
     "execution_count": 285,
     "metadata": {},
     "output_type": "execute_result"
    }
   ],
   "source": [
    "[\n",
    "    rank_element.select_one(\"a\").attrs.get(\"title\")\n",
    "    for rank_element\n",
    "    in rank_elements\n",
    "][:-1]"
   ]
  },
  {
   "cell_type": "code",
   "execution_count": 286,
   "metadata": {
    "collapsed": true
   },
   "outputs": [],
   "source": [
    "# 웹 서버 렌더링 \n",
    "# 1. 크롤링 - pagination, auth, 어떤 알 수 없는 이유?\n",
    "# 2. 파싱 \n",
    "\n",
    "# -----------------------------------------------\n",
    "# 다음 블로그 검색결과 를 크롤링하는 함수 \n",
    "# input: keyword, page"
   ]
  },
  {
   "cell_type": "code",
   "execution_count": 293,
   "metadata": {
    "collapsed": false
   },
   "outputs": [
    {
     "name": "stdout",
     "output_type": "stream",
     "text": [
      "10\n"
     ]
    },
    {
     "data": {
      "text/plain": [
       "['파이썬학원 추천! 프로그래밍 교육은 역시 KG아이티뱅크!',\n",
       " '[파이썬] 파이썬 2.7 설치하기',\n",
       " '이클립스로 파이썬 개발환경 구축하기',\n",
       " '파이썬 프로그래밍',\n",
       " '파이썬- 생산성 높은 프로그래밍 언어',\n",
       " '파이썬 공부를 시작했습니다.',\n",
       " '내 맘대로 쓰는 파이썬3 튜토리얼 1 - [Intro]',\n",
       " '파이썬(Python)',\n",
       " '3. 파이썬 변수, 자료형 (2편)',\n",
       " '파이썬 공부 쉽게하기']"
      ]
     },
     "execution_count": 293,
     "metadata": {},
     "output_type": "execute_result"
    }
   ],
   "source": [
    "KEYWORD = \"파이썬\"\n",
    "\n",
    "# URL에 표시되지 않을수도 있습니다.\n",
    "# HTTP Method ( GET, POST )\n",
    "\n",
    "# http://search.daum.net/search?w=blog&nil_search=btn&DA=NTB&enc=utf8&q=파이썬\n",
    "\n",
    "# URL Querysting\n",
    "# http\n",
    "# search.daum.net\n",
    "# /search\n",
    "# data: ?w=blog&q=파이썬\n",
    "\n",
    "def crawl_daum_blog_page(keyword, page=\"1\"):\n",
    "    url = \"http://search.daum.net/search?w=blog&q={keyword}&page={page}\".format(\n",
    "        keyword=keyword,\n",
    "        page=str(page),\n",
    "    )\n",
    "    response = requests.get(url)\n",
    "    dom = BeautifulSoup(response.text, \"html.parser\")\n",
    "    post_elements = dom.select(\"ul#blogResultUl li\")\n",
    "    print(len(post_elements))\n",
    "    titles = [\n",
    "        post_element.select_one(\".wrap_tit a\").text\n",
    "        for post_element\n",
    "        in post_elements\n",
    "    ]\n",
    "    return titles\n",
    "\n",
    "    # 2페이지, 3페이지 ... n 페이지 ( page 정보는 url 에 어떻게 들어갈까? )\n",
    "\n",
    "crawl_daum_blog_page(KEYWORD, 3)"
   ]
  },
  {
   "cell_type": "code",
   "execution_count": null,
   "metadata": {
    "collapsed": true
   },
   "outputs": [],
   "source": []
  },
  {
   "cell_type": "code",
   "execution_count": 294,
   "metadata": {
    "collapsed": true
   },
   "outputs": [],
   "source": [
    "# SelectorGadget ( chrome webstore ) - element, class, id\n",
    "# User-Agent Switcher for Google Chrome\n",
    "\n",
    "# HTTP Request \n",
    "# 1. URL\n",
    "# 2. HTTP Method ( GET, POST, PUT, PATCH, DELETE )\n",
    "# 3. Data\n",
    "# 4. Headers (*) - /search/?q=파이썬\n",
    "#    - User-Agent: \"Mozilla/5.0 (Macintosh; Intel Mac OS X 10_12_1) AppleWebKit/537.36 (KHTML, like Gecko) Chrome/56.0.2910.0 Safari/537.36\"\n",
    "\n",
    "# HTTP Response"
   ]
  },
  {
   "cell_type": "code",
   "execution_count": 295,
   "metadata": {
    "collapsed": true
   },
   "outputs": [],
   "source": [
    "# play.dobest.io ( JAPAN )\n",
    "\n",
    "response = requests.get(\"https://search.naver.com/search.naver?where=post&sm=tab_jum&ie=utf8&query=%ED%8C%8C%EC%9D%B4%EC%8D%AC\")"
   ]
  },
  {
   "cell_type": "code",
   "execution_count": 297,
   "metadata": {
    "collapsed": false
   },
   "outputs": [],
   "source": [
    "# response.text"
   ]
  },
  {
   "cell_type": "code",
   "execution_count": 298,
   "metadata": {
    "collapsed": true
   },
   "outputs": [],
   "source": [
    "IPAD_USER_AGENT = \"Mozilla/5.0(iPad; U; CPU iPhone OS 3_2 like Mac OS X; en-us) AppleWebKit/531.21.10 (KHTML, like Gecko) Version/4.0.4 Mobile/7B314 Safari/531.21.10\""
   ]
  },
  {
   "cell_type": "code",
   "execution_count": 299,
   "metadata": {
    "collapsed": true
   },
   "outputs": [],
   "source": [
    "response = requests.get(\n",
    "    \"https://search.naver.com/search.naver?where=post&sm=tab_jum&ie=utf8&query=%ED%8C%8C%EC%9D%B4%EC%8D%AC\",\n",
    "    headers={\n",
    "        \"User-Agent\": IPAD_USER_AGENT,\n",
    "        # Authentication \n",
    "    }\n",
    ")"
   ]
  },
  {
   "cell_type": "code",
   "execution_count": 301,
   "metadata": {
    "collapsed": true
   },
   "outputs": [],
   "source": [
    "dom = BeautifulSoup(response.text, \"html.parser\")"
   ]
  },
  {
   "cell_type": "code",
   "execution_count": 305,
   "metadata": {
    "collapsed": false
   },
   "outputs": [
    {
     "data": {
      "text/plain": [
       "['파이썬강좌 멀리서 찾지마세요',\n",
       " '파이썬(python) 공부하기 04',\n",
       " '[모두의 파이썬] 나도 코딩하는 여자! ^^',\n",
       " '파이썬 공부 쉽게하기',\n",
       " '파이썬- 생산성 높은 프로그래밍 언어',\n",
       " '파이썬강좌 코드잇에서 공부하세요!',\n",
       " '안랩쌤과 함께하는 맘잡고 코딩 파이썬 기초과정',\n",
       " '마인크래프트로 배우는 파이썬 프로그래밍 리뷰',\n",
       " 'Docker로 파이썬 배포 운영하기',\n",
       " '파이썬 강좌 보면서 독학하기 !!',\n",
       " '데이터 분석 입문, R로 시작할까 파이썬으로 시작할까?',\n",
       " '파이썬으로 프로그래밍 입문하기, 코딩 넌 누구냐!',\n",
       " 'Blender - 파이썬 스트립트 사용에 대한 이해',\n",
       " '파이썬 시작해보기[python, 파이썬]',\n",
       " '인강사이트 컴띵에서 파이썬배우기 시작했어요']"
      ]
     },
     "execution_count": 305,
     "metadata": {},
     "output_type": "execute_result"
    }
   ],
   "source": [
    "[\n",
    "    title_element.text\n",
    "    for title_element\n",
    "    in dom.select(\".total_tit\")\n",
    "]"
   ]
  },
  {
   "cell_type": "code",
   "execution_count": null,
   "metadata": {
    "collapsed": true
   },
   "outputs": [],
   "source": []
  },
  {
   "cell_type": "code",
   "execution_count": 306,
   "metadata": {
    "collapsed": true
   },
   "outputs": [],
   "source": [
    "# Python Object => Serialize/Deserialize\n",
    "# JSON, Pickle"
   ]
  },
  {
   "cell_type": "code",
   "execution_count": 307,
   "metadata": {
    "collapsed": true
   },
   "outputs": [],
   "source": [
    "# 내부적인 연산을 통해서\n",
    "result = {\n",
    "    \"secret\": \"123\",\n",
    "    \"name\": \"안수찬\"\n",
    "}"
   ]
  },
  {
   "cell_type": "code",
   "execution_count": 309,
   "metadata": {
    "collapsed": false
   },
   "outputs": [
    {
     "data": {
      "text/plain": [
       "{'name': '안수찬', 'secret': '123'}"
      ]
     },
     "execution_count": 309,
     "metadata": {},
     "output_type": "execute_result"
    }
   ],
   "source": [
    "result       # => 엑셀, 데이터베이스, CSV, ...\n",
    "             # JSON, Pickle"
   ]
  },
  {
   "cell_type": "code",
   "execution_count": 310,
   "metadata": {
    "collapsed": true
   },
   "outputs": [],
   "source": [
    "# JSON => Javascript Object Notation\n",
    "#         자바스크립트의 객체를 표현하는 방식\n",
    "#        ==> Javascript Object Literal ( 100% )"
   ]
  },
  {
   "cell_type": "code",
   "execution_count": 315,
   "metadata": {
    "collapsed": true
   },
   "outputs": [],
   "source": [
    "import json"
   ]
  },
  {
   "cell_type": "code",
   "execution_count": 316,
   "metadata": {
    "collapsed": false
   },
   "outputs": [
    {
     "data": {
      "text/plain": [
       "'{\"secret\": \"123\", \"name\": \"\\\\uc548\\\\uc218\\\\ucc2c\"}'"
      ]
     },
     "execution_count": 316,
     "metadata": {},
     "output_type": "execute_result"
    }
   ],
   "source": [
    "json.dumps(result)\n",
    "# json.dumps(DICT) => str(json formatted)"
   ]
  },
  {
   "cell_type": "code",
   "execution_count": 317,
   "metadata": {
    "collapsed": true
   },
   "outputs": [],
   "source": [
    "json.dump(result, open(\"result.json\", \"w\"))"
   ]
  },
  {
   "cell_type": "code",
   "execution_count": 319,
   "metadata": {
    "collapsed": true
   },
   "outputs": [],
   "source": [
    "# pickle"
   ]
  },
  {
   "cell_type": "code",
   "execution_count": 320,
   "metadata": {
    "collapsed": true
   },
   "outputs": [],
   "source": [
    "import numpy as np\n",
    "import pandas as pd"
   ]
  },
  {
   "cell_type": "code",
   "execution_count": 324,
   "metadata": {
    "collapsed": false
   },
   "outputs": [
    {
     "data": {
      "text/html": [
       "<div>\n",
       "<table border=\"1\" class=\"dataframe\">\n",
       "  <thead>\n",
       "    <tr style=\"text-align: right;\">\n",
       "      <th></th>\n",
       "      <th>A</th>\n",
       "      <th>B</th>\n",
       "      <th>C</th>\n",
       "      <th>D</th>\n",
       "    </tr>\n",
       "  </thead>\n",
       "  <tbody>\n",
       "    <tr>\n",
       "      <th>0</th>\n",
       "      <td>-0.965849</td>\n",
       "      <td>-0.183065</td>\n",
       "      <td>0.500111</td>\n",
       "      <td>-0.136586</td>\n",
       "    </tr>\n",
       "    <tr>\n",
       "      <th>1</th>\n",
       "      <td>0.635450</td>\n",
       "      <td>1.297709</td>\n",
       "      <td>0.119709</td>\n",
       "      <td>-1.480431</td>\n",
       "    </tr>\n",
       "    <tr>\n",
       "      <th>2</th>\n",
       "      <td>1.260980</td>\n",
       "      <td>-0.043732</td>\n",
       "      <td>0.751884</td>\n",
       "      <td>-1.276172</td>\n",
       "    </tr>\n",
       "    <tr>\n",
       "      <th>3</th>\n",
       "      <td>-0.285660</td>\n",
       "      <td>-0.070227</td>\n",
       "      <td>-0.686933</td>\n",
       "      <td>0.860726</td>\n",
       "    </tr>\n",
       "    <tr>\n",
       "      <th>4</th>\n",
       "      <td>0.264268</td>\n",
       "      <td>1.495995</td>\n",
       "      <td>-1.752738</td>\n",
       "      <td>0.893978</td>\n",
       "    </tr>\n",
       "    <tr>\n",
       "      <th>5</th>\n",
       "      <td>-1.133533</td>\n",
       "      <td>-0.691708</td>\n",
       "      <td>1.116925</td>\n",
       "      <td>-0.221759</td>\n",
       "    </tr>\n",
       "    <tr>\n",
       "      <th>6</th>\n",
       "      <td>-0.748912</td>\n",
       "      <td>-0.607080</td>\n",
       "      <td>1.105989</td>\n",
       "      <td>-1.923319</td>\n",
       "    </tr>\n",
       "    <tr>\n",
       "      <th>7</th>\n",
       "      <td>-0.846650</td>\n",
       "      <td>-0.043945</td>\n",
       "      <td>0.144867</td>\n",
       "      <td>2.512809</td>\n",
       "    </tr>\n",
       "    <tr>\n",
       "      <th>8</th>\n",
       "      <td>1.364584</td>\n",
       "      <td>-1.119194</td>\n",
       "      <td>-1.350750</td>\n",
       "      <td>1.986738</td>\n",
       "    </tr>\n",
       "    <tr>\n",
       "      <th>9</th>\n",
       "      <td>1.763124</td>\n",
       "      <td>0.880208</td>\n",
       "      <td>-1.427784</td>\n",
       "      <td>1.503120</td>\n",
       "    </tr>\n",
       "  </tbody>\n",
       "</table>\n",
       "</div>"
      ],
      "text/plain": [
       "          A         B         C         D\n",
       "0 -0.965849 -0.183065  0.500111 -0.136586\n",
       "1  0.635450  1.297709  0.119709 -1.480431\n",
       "2  1.260980 -0.043732  0.751884 -1.276172\n",
       "3 -0.285660 -0.070227 -0.686933  0.860726\n",
       "4  0.264268  1.495995 -1.752738  0.893978\n",
       "5 -1.133533 -0.691708  1.116925 -0.221759\n",
       "6 -0.748912 -0.607080  1.105989 -1.923319\n",
       "7 -0.846650 -0.043945  0.144867  2.512809\n",
       "8  1.364584 -1.119194 -1.350750  1.986738\n",
       "9  1.763124  0.880208 -1.427784  1.503120"
      ]
     },
     "execution_count": 324,
     "metadata": {},
     "output_type": "execute_result"
    }
   ],
   "source": [
    "pd.DataFrame(\n",
    "    np.random.randn(10, 4),\n",
    "    columns=[\"A\", \"B\", \"C\", \"D\"],\n",
    ")\n",
    "\n",
    "# 파이썬 인터프리터 ===> binary"
   ]
  },
  {
   "cell_type": "code",
   "execution_count": 325,
   "metadata": {
    "collapsed": false
   },
   "outputs": [
    {
     "data": {
      "text/plain": [
       "{'name': '안수찬', 'secret': '123'}"
      ]
     },
     "execution_count": 325,
     "metadata": {},
     "output_type": "execute_result"
    }
   ],
   "source": [
    "result"
   ]
  },
  {
   "cell_type": "code",
   "execution_count": 326,
   "metadata": {
    "collapsed": true
   },
   "outputs": [],
   "source": [
    "import pickle"
   ]
  },
  {
   "cell_type": "code",
   "execution_count": 327,
   "metadata": {
    "collapsed": false
   },
   "outputs": [
    {
     "data": {
      "text/plain": [
       "b'\\x80\\x03}q\\x00(X\\x06\\x00\\x00\\x00secretq\\x01X\\x03\\x00\\x00\\x00123q\\x02X\\x04\\x00\\x00\\x00nameq\\x03X\\t\\x00\\x00\\x00\\xec\\x95\\x88\\xec\\x88\\x98\\xec\\xb0\\xacq\\x04u.'"
      ]
     },
     "execution_count": 327,
     "metadata": {},
     "output_type": "execute_result"
    }
   ],
   "source": [
    "pickle.dumps(result)"
   ]
  },
  {
   "cell_type": "code",
   "execution_count": 328,
   "metadata": {
    "collapsed": true
   },
   "outputs": [],
   "source": [
    "pickle.dump(result, open(\"pickle.pkl\", \"wb\"))"
   ]
  },
  {
   "cell_type": "code",
   "execution_count": 329,
   "metadata": {
    "collapsed": false
   },
   "outputs": [
    {
     "data": {
      "text/plain": [
       "{'name': '안수찬', 'secret': '123'}"
      ]
     },
     "execution_count": 329,
     "metadata": {},
     "output_type": "execute_result"
    }
   ],
   "source": [
    "pickle.load(open(\"pickle.pkl\", \"rb\"))"
   ]
  },
  {
   "cell_type": "code",
   "execution_count": null,
   "metadata": {
    "collapsed": true
   },
   "outputs": [],
   "source": [
    "# Web Developer Chrome Google"
   ]
  }
 ],
 "metadata": {
  "kernelspec": {
   "display_name": "Python 3",
   "language": "python",
   "name": "python3"
  },
  "language_info": {
   "codemirror_mode": {
    "name": "ipython",
    "version": 3
   },
   "file_extension": ".py",
   "mimetype": "text/x-python",
   "name": "python",
   "nbconvert_exporter": "python",
   "pygments_lexer": "ipython3",
   "version": "3.5.1"
  }
 },
 "nbformat": 4,
 "nbformat_minor": 1
}
