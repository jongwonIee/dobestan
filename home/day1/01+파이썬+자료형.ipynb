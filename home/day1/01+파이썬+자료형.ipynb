{
 "cells": [
  {
   "cell_type": "code",
   "execution_count": 3,
   "metadata": {
    "collapsed": true
   },
   "outputs": [],
   "source": [
    "# python \n",
    "# $ python => REPL ( read-eval-print-loop )\n",
    "# $ ipython => i-shell\n",
    "# $ ipython notebook\n",
    "# --------------------\n",
    "# $ jupyter\n",
    "# $ jupyter notebook\n",
    "# $ jupyterhub ( play.dobest.io )\n",
    "\n",
    "# int\n",
    "# str\n",
    "# Boolean\n",
    "# list, tuple, set, dict\n",
    "# function\n",
    "# class\n",
    "\n",
    "# ---------\n",
    "# numpy.ndarray ( array = 배열 = list )\n",
    "# pandas.Series, pandas.DataFrame\n",
    "# matplotlib.figure (matplotlib.subplot)"
   ]
  },
  {
   "cell_type": "code",
   "execution_count": 6,
   "metadata": {
    "collapsed": true
   },
   "outputs": [],
   "source": [
    "# list, tuple, set, dict\n",
    "# 공통점: elements\n",
    "\n",
    "\n",
    "# 1. list - elements O, order O, duplicate O\n",
    "animals = [\"dog\", \"cat\", \"cow\", \"cat\"]\n",
    "\n",
    "# list\n",
    "# str 의 list\n",
    "# list length 3개 \n",
    "# list 0th: \"dog\", 1st: \"cat\", 2nd: \"cow\" ( ==> 순서가 있는 자료형 )"
   ]
  },
  {
   "cell_type": "code",
   "execution_count": 11,
   "metadata": {
    "collapsed": true
   },
   "outputs": [],
   "source": [
    "# 2. tuple - elements O, order O, duplicate O, 변경될 수 있는가? X\n",
    "# 파이썬 내부적으로, 라이브러리 => dict!\n",
    "animals = (\"dog\", \"cat\", \"cow\", \"cat\")"
   ]
  },
  {
   "cell_type": "code",
   "execution_count": 2,
   "metadata": {
    "collapsed": false
   },
   "outputs": [],
   "source": [
    "# 3. set ( 집합 ) - elements O, order X, duplicate X\n",
    "# animals = {\"dog\", \"dog\", \"cat\"}     # Set\n",
    "animals = set([\"dog\", \"dog\", \"cat\"])\n",
    "\n",
    "# # 1. 생성자/클래스 \n",
    "# animals = list(\"abcdef\")\n",
    "\n",
    "# # 2. 리스트를 표현하기 위해서 미리 약속된 표현 방식 ( List Literal => [] )\n",
    "# animals = [\"a\", \"b\", \"c\", \"d\", \"e\", \"f\"]"
   ]
  },
  {
   "cell_type": "code",
   "execution_count": 4,
   "metadata": {
    "collapsed": false
   },
   "outputs": [],
   "source": [
    "# 리스트를 가지고 있을때, 중복된 elements 를 없애고\n",
    "# 새로운 리스트로 만든다."
   ]
  },
  {
   "cell_type": "code",
   "execution_count": 5,
   "metadata": {
    "collapsed": true
   },
   "outputs": [],
   "source": [
    "data = [\"b\", \"b\", \"a\", \"a\", \"a\", \"c\"]\n",
    "\n",
    "# 순서가 보장이 되는,\n",
    "# 유니크한 값들만 뽑고 싶다."
   ]
  },
  {
   "cell_type": "code",
   "execution_count": 7,
   "metadata": {
    "collapsed": false
   },
   "outputs": [
    {
     "data": {
      "text/plain": [
       "{'a', 'b', 'c'}"
      ]
     },
     "execution_count": 7,
     "metadata": {},
     "output_type": "execute_result"
    }
   ],
   "source": [
    "set(data)"
   ]
  },
  {
   "cell_type": "code",
   "execution_count": 8,
   "metadata": {
    "collapsed": false
   },
   "outputs": [
    {
     "data": {
      "text/plain": [
       "['b', 'a', 'c']"
      ]
     },
     "execution_count": 8,
     "metadata": {},
     "output_type": "execute_result"
    }
   ],
   "source": [
    "list(set(data))"
   ]
  },
  {
   "cell_type": "code",
   "execution_count": 6,
   "metadata": {
    "collapsed": true
   },
   "outputs": [],
   "source": [
    "# dict \n",
    "# elements O\n",
    "# key, value O\n",
    "# 순서 X\n",
    "# key duplicate X"
   ]
  },
  {
   "cell_type": "code",
   "execution_count": 7,
   "metadata": {
    "collapsed": true
   },
   "outputs": [],
   "source": [
    "animals = [\"dog\", \"cat\", \"cow\"]\n",
    "# 0 => \"dog\"\n",
    "# 1 => \"cat\"\n",
    "# 2 => \"cow\""
   ]
  },
  {
   "cell_type": "code",
   "execution_count": 8,
   "metadata": {
    "collapsed": true
   },
   "outputs": [],
   "source": [
    "student = {\n",
    "    \"name\": \"안수찬\",\n",
    "    \"email\": \"dobestan@gmail.com\",\n",
    "}"
   ]
  },
  {
   "cell_type": "code",
   "execution_count": 10,
   "metadata": {
    "collapsed": false
   },
   "outputs": [],
   "source": [
    "student[\"email\"] = \"dobestan@naver.com\"\n",
    "# email => \"dobestan@gmail.com\"\n",
    "# name => \"안수찬\""
   ]
  },
  {
   "cell_type": "code",
   "execution_count": 11,
   "metadata": {
    "collapsed": false
   },
   "outputs": [
    {
     "data": {
      "text/plain": [
       "{'email': 'dobestan@naver.com', 'name': '안수찬'}"
      ]
     },
     "execution_count": 11,
     "metadata": {},
     "output_type": "execute_result"
    }
   ],
   "source": [
    "student"
   ]
  },
  {
   "cell_type": "code",
   "execution_count": null,
   "metadata": {
    "collapsed": true
   },
   "outputs": [],
   "source": []
  },
  {
   "cell_type": "code",
   "execution_count": 1,
   "metadata": {
    "collapsed": true
   },
   "outputs": [],
   "source": [
    "# list - elements, order, duplicate\n",
    "# tuple - elements, order, duplicate, 변경 X\n",
    "# set - elements, order X, duplicate X\n",
    "# dict - elements, order X, key, value , key duplicate X"
   ]
  },
  {
   "cell_type": "code",
   "execution_count": 2,
   "metadata": {
    "collapsed": true
   },
   "outputs": [],
   "source": [
    "# 조건문\n",
    "# 반복문 - for "
   ]
  },
  {
   "cell_type": "code",
   "execution_count": 4,
   "metadata": {
    "collapsed": false
   },
   "outputs": [],
   "source": [
    "animals = [\"dog\", \"cat\", \"cow\"]"
   ]
  },
  {
   "cell_type": "code",
   "execution_count": 6,
   "metadata": {
    "collapsed": false
   },
   "outputs": [
    {
     "data": {
      "text/plain": [
       "'dog'"
      ]
     },
     "execution_count": 6,
     "metadata": {},
     "output_type": "execute_result"
    }
   ],
   "source": [
    "animals[0]"
   ]
  },
  {
   "cell_type": "code",
   "execution_count": 8,
   "metadata": {
    "collapsed": false
   },
   "outputs": [
    {
     "name": "stdout",
     "output_type": "stream",
     "text": [
      "dog\n",
      "cat\n",
      "cow\n"
     ]
    }
   ],
   "source": [
    "for i in range(len(animals)):\n",
    "    animal = animals[i]\n",
    "    # print(animal)\n",
    "    \n",
    "# iterator, generator\n",
    "for animal in animals:     # List Class => __iter__ ( iterator )\n",
    "    print(animal)"
   ]
  },
  {
   "cell_type": "code",
   "execution_count": 2,
   "metadata": {
    "collapsed": true
   },
   "outputs": [],
   "source": [
    "student = {\n",
    "    \"name\": \"안수찬\",\n",
    "    \"email\": \"dobestan@gmail.com\",\n",
    "    \"address\": \"서울시 관악구\"\n",
    "}"
   ]
  },
  {
   "cell_type": "code",
   "execution_count": 15,
   "metadata": {
    "collapsed": false
   },
   "outputs": [
    {
     "name": "stdout",
     "output_type": "stream",
     "text": [
      "address ===> 서울시 관악구\n",
      "email ===> dobestan@gmail.com\n",
      "name ===> 안수찬\n"
     ]
    },
    {
     "data": {
      "text/plain": [
       "dict_items([('address', '서울시 관악구'), ('email', 'dobestan@gmail.com'), ('name', '안수찬')])"
      ]
     },
     "execution_count": 15,
     "metadata": {},
     "output_type": "execute_result"
    }
   ],
   "source": [
    "# for key, value in student.items():\n",
    "#     value = student[key]\n",
    "#     print(\"{key} ===> {value}\".format(\n",
    "#         key=key,\n",
    "#         value=value,\n",
    "#     ))\n",
    "\n",
    "\n",
    "width, height = (100, 200)\n",
    "\n",
    "for key, value in student.items():\n",
    "    print(\"{key} ===> {value}\".format(\n",
    "        key=key,\n",
    "        value=value,\n",
    "    ))\n",
    "    \n",
    "student.items()"
   ]
  },
  {
   "cell_type": "code",
   "execution_count": 10,
   "metadata": {
    "collapsed": false
   },
   "outputs": [
    {
     "data": {
      "text/plain": [
       "'안수찬: 안녕하세요, 안수찬'"
      ]
     },
     "execution_count": 10,
     "metadata": {},
     "output_type": "execute_result"
    }
   ],
   "source": [
    "\"{name}: {greeting}, {name}\".format(\n",
    "    greeting=\"안녕하세요\",      # kwargs\n",
    "    name=\"안수찬\",\n",
    ")"
   ]
  },
  {
   "cell_type": "code",
   "execution_count": null,
   "metadata": {
    "collapsed": true
   },
   "outputs": [],
   "source": []
  },
  {
   "cell_type": "code",
   "execution_count": 21,
   "metadata": {
    "collapsed": true
   },
   "outputs": [],
   "source": [
    "# 조건문\n",
    "# 함수\n",
    "# 파일 입출력 \n",
    "\n",
    "# 엑셀 데이터 ( CSV; comma seperated values )"
   ]
  },
  {
   "cell_type": "code",
   "execution_count": 24,
   "metadata": {
    "collapsed": false
   },
   "outputs": [
    {
     "name": "stdout",
     "output_type": "stream",
     "text": [
      "양수다\n"
     ]
    }
   ],
   "source": [
    "a = 30\n",
    "if a > 0:\n",
    "    print(\"양수다\")\n",
    "elif a == 0:\n",
    "    print(\"0이다.\")\n",
    "else:\n",
    "    print(\"음수다.\")\n",
    "    \n",
    "    \n",
    "# else:\n",
    "#     # 0 또는 음수 \n",
    "#     if a == 0:\n",
    "#         print(\"0\")\n",
    "#     else:\n",
    "#         print(\"음수\")\n",
    "        \n",
    "        \n",
    "# if a < 0:\n",
    "#     print(\"음수다\")\n",
    "    \n",
    "# if a == 0:\n",
    "#     print(\"0이다.\")"
   ]
  },
  {
   "cell_type": "code",
   "execution_count": null,
   "metadata": {
    "collapsed": true
   },
   "outputs": [],
   "source": []
  },
  {
   "cell_type": "code",
   "execution_count": 25,
   "metadata": {
    "collapsed": true
   },
   "outputs": [],
   "source": [
    "# 1. def\n",
    "# 2. lambda"
   ]
  },
  {
   "cell_type": "code",
   "execution_count": 26,
   "metadata": {
    "collapsed": true
   },
   "outputs": [],
   "source": [
    "def double(x):            # 함수를 정의할 떄, \"인자\" => Parameter\n",
    "    return x * 2"
   ]
  },
  {
   "cell_type": "code",
   "execution_count": 27,
   "metadata": {
    "collapsed": true
   },
   "outputs": [],
   "source": [
    "# x 라는 argument 를 받아서,\n",
    "# x * 2 라는 결과를 주는 함수 "
   ]
  },
  {
   "cell_type": "code",
   "execution_count": 29,
   "metadata": {
    "collapsed": false
   },
   "outputs": [
    {
     "data": {
      "text/plain": [
       "200"
      ]
     },
     "execution_count": 29,
     "metadata": {},
     "output_type": "execute_result"
    }
   ],
   "source": [
    "double(100)               # 함수를 호출할 때, \"인자\" => Arguments"
   ]
  },
  {
   "cell_type": "code",
   "execution_count": 30,
   "metadata": {
    "collapsed": true
   },
   "outputs": [],
   "source": [
    "def add(a, b):\n",
    "    return a + b"
   ]
  },
  {
   "cell_type": "code",
   "execution_count": 31,
   "metadata": {
    "collapsed": false
   },
   "outputs": [
    {
     "data": {
      "text/plain": [
       "30"
      ]
     },
     "execution_count": 31,
     "metadata": {},
     "output_type": "execute_result"
    }
   ],
   "source": [
    "add(10, 20)"
   ]
  },
  {
   "cell_type": "code",
   "execution_count": 39,
   "metadata": {
    "collapsed": true
   },
   "outputs": [],
   "source": [
    "# add ( 더한다 )\n",
    "\n",
    "# add2(10, 20) => 30           # args(*), kwargs(**) - packing, unpacking\n",
    "# add2(10, 20, 30) => 60\n",
    "\n",
    "# add3([10, 20, 30]) => 60"
   ]
  },
  {
   "cell_type": "code",
   "execution_count": 40,
   "metadata": {
    "collapsed": true
   },
   "outputs": [],
   "source": [
    "# 기본 자료형 \n",
    "def add3(numbers):  # 숫자 리스트 를 받아서 , 합을 리턴하는 함수\n",
    "    result = 0\n",
    "    for number in numbers:\n",
    "        result += number\n",
    "    return result"
   ]
  },
  {
   "cell_type": "code",
   "execution_count": 41,
   "metadata": {
    "collapsed": false
   },
   "outputs": [
    {
     "data": {
      "text/plain": [
       "60"
      ]
     },
     "execution_count": 41,
     "metadata": {},
     "output_type": "execute_result"
    }
   ],
   "source": [
    "add3([10, 20, 30])"
   ]
  },
  {
   "cell_type": "code",
   "execution_count": 42,
   "metadata": {
    "collapsed": false
   },
   "outputs": [
    {
     "data": {
      "text/plain": [
       "30"
      ]
     },
     "execution_count": 42,
     "metadata": {},
     "output_type": "execute_result"
    }
   ],
   "source": [
    "def add(a, b):\n",
    "    return a + b\n",
    "\n",
    "add(10, 20)"
   ]
  },
  {
   "cell_type": "code",
   "execution_count": 44,
   "metadata": {
    "collapsed": true
   },
   "outputs": [],
   "source": [
    "data = (10, 15)  # Tuple\n",
    "# data 를 add 에 넣어서, 25라는 결과를 가지고 싶다."
   ]
  },
  {
   "cell_type": "code",
   "execution_count": 49,
   "metadata": {
    "collapsed": false
   },
   "outputs": [
    {
     "data": {
      "text/plain": [
       "25"
      ]
     },
     "execution_count": 49,
     "metadata": {},
     "output_type": "execute_result"
    }
   ],
   "source": [
    "add(*data)      # unpacking "
   ]
  },
  {
   "cell_type": "code",
   "execution_count": 54,
   "metadata": {
    "collapsed": false
   },
   "outputs": [
    {
     "data": {
      "text/plain": [
       "15"
      ]
     },
     "execution_count": 54,
     "metadata": {},
     "output_type": "execute_result"
    }
   ],
   "source": [
    "def add(*numbers):           # 1, 2, 3, 4 => (1, 2, 3, 4) ( packing )\n",
    "                             #              serialize, deserialize\n",
    "    result = 0\n",
    "    for number in numbers:\n",
    "        result += number\n",
    "    return result\n",
    "\n",
    "add(1, 2, 3, 4, 5)"
   ]
  },
  {
   "cell_type": "code",
   "execution_count": 55,
   "metadata": {
    "collapsed": true
   },
   "outputs": [],
   "source": [
    "# *args\n",
    "# **kwargs\n",
    "\n",
    "def introduce(name, greeting):\n",
    "    return \"{name}님, {greeting}\".format(\n",
    "        name=name,\n",
    "        greeting=greeting,\n",
    "    )"
   ]
  },
  {
   "cell_type": "code",
   "execution_count": 57,
   "metadata": {
    "collapsed": false
   },
   "outputs": [],
   "source": [
    "introduce_dict = {\n",
    "    \"name\": \"안수찬\",\n",
    "    \"greeting\": \"hello\",\n",
    "}"
   ]
  },
  {
   "cell_type": "code",
   "execution_count": 59,
   "metadata": {
    "collapsed": false
   },
   "outputs": [
    {
     "data": {
      "text/plain": [
       "'안수찬님, hello'"
      ]
     },
     "execution_count": 59,
     "metadata": {},
     "output_type": "execute_result"
    }
   ],
   "source": [
    "introduce(**introduce_dict)"
   ]
  },
  {
   "cell_type": "code",
   "execution_count": 60,
   "metadata": {
    "collapsed": true
   },
   "outputs": [],
   "source": [
    "# 파일 입출력 \n",
    "\n",
    "# hello.txt | 파일명\n",
    "# hello world | 본문 "
   ]
  },
  {
   "cell_type": "code",
   "execution_count": 73,
   "metadata": {
    "collapsed": false
   },
   "outputs": [],
   "source": [
    "fp = open(\"./hello.txt\", \"r\")"
   ]
  },
  {
   "cell_type": "code",
   "execution_count": 74,
   "metadata": {
    "collapsed": false
   },
   "outputs": [
    {
     "data": {
      "text/plain": [
       "'hello world'"
      ]
     },
     "execution_count": 74,
     "metadata": {},
     "output_type": "execute_result"
    }
   ],
   "source": [
    "fp.read()"
   ]
  },
  {
   "cell_type": "code",
   "execution_count": 75,
   "metadata": {
    "collapsed": true
   },
   "outputs": [],
   "source": [
    "fp.close()"
   ]
  },
  {
   "cell_type": "code",
   "execution_count": 78,
   "metadata": {
    "collapsed": false
   },
   "outputs": [
    {
     "name": "stdout",
     "output_type": "stream",
     "text": [
      "hello world\n"
     ]
    }
   ],
   "source": [
    "with open(\"./hello.txt\", \"r\") as fp:\n",
    "    data = fp.read()\n",
    "    print(data)\n",
    "    # with block 이 끝난다 ( indent )\n",
    "    \n",
    "# 이 시점으로 넘어오는 시점에 \n",
    "# fp.close()"
   ]
  },
  {
   "cell_type": "code",
   "execution_count": null,
   "metadata": {
    "collapsed": true
   },
   "outputs": [],
   "source": [
    "def read_csv(filepath):\n",
    "    pass\n",
    "\n",
    "    # return [CSV 파일을 읽어서 가능한한 구조화된 형태의 자료형]\n",
    "    # 출석부\n",
    "    # 학생 리스트\n",
    "    #   - 각각의 element => 학생 dict ( id, name, email )\n",
    "    \n",
    "    \n",
    "# \"\"\" students.csv\n",
    "# 1,안수찬1,dobestan1@gmail.com\n",
    "# 2,안수찬2,dobestan2@gmail.com\n",
    "# 3,안수찬3,dobestan3@gmail.com\n",
    "# \"\"\""
   ]
  },
  {
   "cell_type": "code",
   "execution_count": 91,
   "metadata": {
    "collapsed": false
   },
   "outputs": [
    {
     "data": {
      "text/plain": [
       "['dog']"
      ]
     },
     "execution_count": 91,
     "metadata": {},
     "output_type": "execute_result"
    }
   ],
   "source": [
    "# list 에서 새로운 element 를 추가하는 함수 ( .append() )\n",
    "\n",
    "animals = []\n",
    "animals.append(\"dog\")\n",
    "animals"
   ]
  },
  {
   "cell_type": "code",
   "execution_count": 79,
   "metadata": {
    "collapsed": true
   },
   "outputs": [],
   "source": [
    "# Str "
   ]
  },
  {
   "cell_type": "code",
   "execution_count": 80,
   "metadata": {
    "collapsed": true
   },
   "outputs": [],
   "source": [
    "data = \"1,안수찬,dobestan@gmail.com\""
   ]
  },
  {
   "cell_type": "code",
   "execution_count": 83,
   "metadata": {
    "collapsed": false
   },
   "outputs": [
    {
     "data": {
      "text/plain": [
       "['1', '안수찬', 'dobestan@gmail.com']"
      ]
     },
     "execution_count": 83,
     "metadata": {},
     "output_type": "execute_result"
    }
   ],
   "source": [
    "data.split(\",\")   # 줄바꿈 ( newline character \\n )"
   ]
  },
  {
   "cell_type": "code",
   "execution_count": 84,
   "metadata": {
    "collapsed": true
   },
   "outputs": [],
   "source": [
    "# split\n",
    "# join"
   ]
  },
  {
   "cell_type": "code",
   "execution_count": 85,
   "metadata": {
    "collapsed": false
   },
   "outputs": [
    {
     "data": {
      "text/plain": [
       "'1::안수찬::dobestan@gmail.com'"
      ]
     },
     "execution_count": 85,
     "metadata": {},
     "output_type": "execute_result"
    }
   ],
   "source": [
    "\"::\".join([\"1\", \"안수찬\", \"dobestan@gmail.com\"])"
   ]
  },
  {
   "cell_type": "code",
   "execution_count": 87,
   "metadata": {
    "collapsed": false
   },
   "outputs": [],
   "source": [
    "data = \"티아카데미 파이썬을 이용한 데이터 분석\"\n",
    "\n",
    "# \"파이썬\" => \"Python\""
   ]
  },
  {
   "cell_type": "code",
   "execution_count": 90,
   "metadata": {
    "collapsed": false
   },
   "outputs": [
    {
     "data": {
      "text/plain": [
       "'티아카데미 Python을 이용한 데이터 분석'"
      ]
     },
     "execution_count": 90,
     "metadata": {},
     "output_type": "execute_result"
    }
   ],
   "source": [
    "data.replace(\"파이썬\", \"Python\")"
   ]
  },
  {
   "cell_type": "code",
   "execution_count": 99,
   "metadata": {
    "collapsed": false
   },
   "outputs": [
    {
     "data": {
      "text/plain": [
       "[{'email': 'dobestan1@gmail.com', 'id': '1', 'name': '안수찬1'},\n",
       " {'email': 'dobestan2@gmail.com', 'id': '2', 'name': '안수찬2'},\n",
       " {'email': 'dobestan3@gmail.com', 'id': '3', 'name': '안수찬3'}]"
      ]
     },
     "execution_count": 99,
     "metadata": {},
     "output_type": "execute_result"
    }
   ],
   "source": [
    "def read_csv(filepath):         # 어떤 헤더가 있는 CSV 파일이든지 읽을 수 있는 함수\n",
    "    \n",
    "    fp = open(filepath, \"r\")\n",
    "    data = fp.read()\n",
    "    fp.close()\n",
    "    \n",
    "    elements = []\n",
    "    \n",
    "    rows = data.split(\"\\n\")\n",
    "    for row in rows:\n",
    "        fields = row.split(\",\")\n",
    "        element = {                 # 우리가 어떤 칼럼이 있는지 모르는 상태\n",
    "            \"id\": fields[0],\n",
    "            \"name\": fields[1],\n",
    "            \"email\": fields[2],\n",
    "        }\n",
    "        elements.append(element)\n",
    "    return elements\n",
    "        \n",
    "read_csv(\"./contacts.csv\")"
   ]
  },
  {
   "cell_type": "code",
   "execution_count": 114,
   "metadata": {
    "collapsed": false
   },
   "outputs": [
    {
     "name": "stdout",
     "output_type": "stream",
     "text": [
      "1,안수찬1,dobestan1@gmail.com\n",
      "2,안수찬2,dobestan2@gmail.com\n",
      "3,안수찬3,dobestan3@gmail.com\n"
     ]
    },
    {
     "data": {
      "text/plain": [
       "[{'email': 'dobestan1@gmail.com', 'id': '1', 'name': '안수찬1'},\n",
       " {'email': 'dobestan2@gmail.com', 'id': '2', 'name': '안수찬2'},\n",
       " {'email': 'dobestan3@gmail.com', 'id': '3', 'name': '안수찬3'}]"
      ]
     },
     "execution_count": 114,
     "metadata": {},
     "output_type": "execute_result"
    }
   ],
   "source": [
    "def read_csv(filepath):         # 어떤 헤더가 있는 CSV 파일이든지 읽을 수 있는 함수\n",
    "                                # \",\" 말고 다른 어떤 seperator 가 들어가더라도, \n",
    "                                # CSV 읽을 수 있는 함수\n",
    "                                # \"\\t\", \"::\", \"|\" 이 모든 sep 에 대한 함수!\n",
    "    fp = open(filepath, \"r\")\n",
    "    data = fp.read()\n",
    "    fp.close()\n",
    "    \n",
    "    elements = []\n",
    "    \n",
    "    rows = data.split(\"\\n\")\n",
    "    columns = rows[0].split(\",\")    # [\"id\", \"name\", \"email\"]\n",
    "                                    # [\"1\", \"안수찬\", \"dobestan@gmail.com\"]\n",
    "    for row in rows[1:]:\n",
    "        fields = row.split(\",\")\n",
    "        element = {}\n",
    "        \n",
    "        for columnIndex in range(len(columns)):   # index 의 값으로 비교해야 한다.\n",
    "            column = columns[columnIndex]\n",
    "            field = fields[columnIndex]\n",
    "            element[column] = field\n",
    "        \n",
    "        elements.append(element)\n",
    "    return elements\n",
    "        \n",
    "read_csv(\"./contacts.csv\")"
   ]
  },
  {
   "cell_type": "code",
   "execution_count": 115,
   "metadata": {
    "collapsed": false
   },
   "outputs": [
    {
     "name": "stdout",
     "output_type": "stream",
     "text": [
      "사과,Apple,중\n",
      "수박,Watermelon,대\n",
      "딸기,Strawberry,소\n"
     ]
    },
    {
     "data": {
      "text/plain": [
       "[{'사이즈': '중', '영문명': 'Apple', '한글명': '사과'},\n",
       " {'사이즈': '대', '영문명': 'Watermelon', '한글명': '수박'},\n",
       " {'사이즈': '소', '영문명': 'Strawberry', '한글명': '딸기'}]"
      ]
     },
     "execution_count": 115,
     "metadata": {},
     "output_type": "execute_result"
    }
   ],
   "source": [
    "read_csv(\"./fruits.csv\")"
   ]
  },
  {
   "cell_type": "code",
   "execution_count": null,
   "metadata": {
    "collapsed": true
   },
   "outputs": [],
   "source": []
  },
  {
   "cell_type": "code",
   "execution_count": null,
   "metadata": {
    "collapsed": true
   },
   "outputs": [],
   "source": [
    "# 자료형 ( Data Types ) - list, tuple, set, dict\n",
    "# 조건문\n",
    "# 반복문 - dict.items() ( result: [(), (), ])\n",
    "# 함수 ( function ) - def, - unpacking/packing ( *args, **kwargs )\n",
    "# "
   ]
  },
  {
   "cell_type": "code",
   "execution_count": null,
   "metadata": {
    "collapsed": true
   },
   "outputs": [],
   "source": []
  },
  {
   "cell_type": "code",
   "execution_count": null,
   "metadata": {
    "collapsed": true
   },
   "outputs": [],
   "source": []
  },
  {
   "cell_type": "code",
   "execution_count": null,
   "metadata": {
    "collapsed": true
   },
   "outputs": [],
   "source": []
  },
  {
   "cell_type": "code",
   "execution_count": null,
   "metadata": {
    "collapsed": true
   },
   "outputs": [],
   "source": []
  }
 ],
 "metadata": {
  "kernelspec": {
   "display_name": "Python 3",
   "language": "python",
   "name": "python3"
  },
  "language_info": {
   "codemirror_mode": {
    "name": "ipython",
    "version": 3
   },
   "file_extension": ".py",
   "mimetype": "text/x-python",
   "name": "python",
   "nbconvert_exporter": "python",
   "pygments_lexer": "ipython3",
   "version": "3.4.3"
  }
 },
 "nbformat": 4,
 "nbformat_minor": 1
}
