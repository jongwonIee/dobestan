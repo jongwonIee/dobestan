{
 "cells": [
  {
   "cell_type": "code",
   "execution_count": 1,
   "metadata": {
    "collapsed": true
   },
   "outputs": [],
   "source": [
    "# np.array ( init )\n",
    "# np.ndarray ( data type )"
   ]
  },
  {
   "cell_type": "code",
   "execution_count": 2,
   "metadata": {
    "collapsed": true
   },
   "outputs": [],
   "source": [
    "import numpy as np"
   ]
  },
  {
   "cell_type": "code",
   "execution_count": 15,
   "metadata": {
    "collapsed": true
   },
   "outputs": [],
   "source": [
    "np.array?\n",
    "\n",
    "# 파이썬의 기본 array | 1. type(\"l\"), 2. data\n",
    "# np.array         | 1. type ( 타입 추정 ) 데이터를 보고 자동으로 타입을 넣어주는 기능\n",
    "#                  | 2. data ( object == list, tuple, set )\n",
    "\n",
    "# np.array 의 return => ndarray"
   ]
  },
  {
   "cell_type": "code",
   "execution_count": 16,
   "metadata": {
    "collapsed": false
   },
   "outputs": [
    {
     "data": {
      "text/plain": [
       "array([1, 2, 3, 4, 5])"
      ]
     },
     "execution_count": 16,
     "metadata": {},
     "output_type": "execute_result"
    }
   ],
   "source": [
    "arr = np.array([1, 2, 3, 4, 5])   # 함수\n",
    "arr"
   ]
  },
  {
   "cell_type": "code",
   "execution_count": 17,
   "metadata": {
    "collapsed": false
   },
   "outputs": [
    {
     "data": {
      "text/plain": [
       "numpy.ndarray"
      ]
     },
     "execution_count": 17,
     "metadata": {},
     "output_type": "execute_result"
    }
   ],
   "source": [
    "type(arr)   # 자료형"
   ]
  },
  {
   "cell_type": "code",
   "execution_count": 8,
   "metadata": {
    "collapsed": true
   },
   "outputs": [],
   "source": [
    "li = [1, 2, 3, 4, 5]"
   ]
  },
  {
   "cell_type": "code",
   "execution_count": 18,
   "metadata": {
    "collapsed": false
   },
   "outputs": [
    {
     "data": {
      "text/plain": [
       "[1, 2, 3, 4, 5]"
      ]
     },
     "execution_count": 18,
     "metadata": {},
     "output_type": "execute_result"
    }
   ],
   "source": [
    "li"
   ]
  },
  {
   "cell_type": "code",
   "execution_count": 23,
   "metadata": {
    "collapsed": true
   },
   "outputs": [],
   "source": [
    "# arr, li => 동일한 데이터 / 동일한 데이터지만, 자료형 이 다른 두 개의 객체"
   ]
  },
  {
   "cell_type": "code",
   "execution_count": 24,
   "metadata": {
    "collapsed": false
   },
   "outputs": [
    {
     "data": {
      "text/plain": [
       "5"
      ]
     },
     "execution_count": 24,
     "metadata": {},
     "output_type": "execute_result"
    }
   ],
   "source": [
    "len(li)\n",
    "# elements 의 갯수"
   ]
  },
  {
   "cell_type": "code",
   "execution_count": 25,
   "metadata": {
    "collapsed": false
   },
   "outputs": [
    {
     "data": {
      "text/plain": [
       "(5,)"
      ]
     },
     "execution_count": 25,
     "metadata": {},
     "output_type": "execute_result"
    }
   ],
   "source": [
    "arr.shape"
   ]
  },
  {
   "cell_type": "code",
   "execution_count": 26,
   "metadata": {
    "collapsed": false
   },
   "outputs": [
    {
     "data": {
      "text/plain": [
       "1"
      ]
     },
     "execution_count": 26,
     "metadata": {},
     "output_type": "execute_result"
    }
   ],
   "source": [
    "arr.ndim"
   ]
  },
  {
   "cell_type": "code",
   "execution_count": 27,
   "metadata": {
    "collapsed": true
   },
   "outputs": [],
   "source": [
    "# ndim == len(shape)"
   ]
  },
  {
   "cell_type": "code",
   "execution_count": 42,
   "metadata": {
    "collapsed": false
   },
   "outputs": [],
   "source": [
    "arr = np.array([[1, 2], [3, 4]])"
   ]
  },
  {
   "cell_type": "code",
   "execution_count": 43,
   "metadata": {
    "collapsed": false
   },
   "outputs": [
    {
     "data": {
      "text/plain": [
       "(2, 2)"
      ]
     },
     "execution_count": 43,
     "metadata": {},
     "output_type": "execute_result"
    }
   ],
   "source": [
    "arr.shape"
   ]
  },
  {
   "cell_type": "code",
   "execution_count": 44,
   "metadata": {
    "collapsed": false
   },
   "outputs": [
    {
     "data": {
      "text/plain": [
       "2"
      ]
     },
     "execution_count": 44,
     "metadata": {},
     "output_type": "execute_result"
    }
   ],
   "source": [
    "arr.ndim"
   ]
  },
  {
   "cell_type": "code",
   "execution_count": 45,
   "metadata": {
    "collapsed": false
   },
   "outputs": [
    {
     "data": {
      "text/plain": [
       "8"
      ]
     },
     "execution_count": 45,
     "metadata": {},
     "output_type": "execute_result"
    }
   ],
   "source": [
    "arr.itemsize   # Python array type ( \"l\":signed long; 4byte )"
   ]
  },
  {
   "cell_type": "code",
   "execution_count": 50,
   "metadata": {
    "collapsed": false
   },
   "outputs": [
    {
     "data": {
      "text/plain": [
       "array([1, 2, 3, 4, 5], dtype=int32)"
      ]
     },
     "execution_count": 50,
     "metadata": {},
     "output_type": "execute_result"
    }
   ],
   "source": [
    "arr"
   ]
  },
  {
   "cell_type": "code",
   "execution_count": 51,
   "metadata": {
    "collapsed": false
   },
   "outputs": [
    {
     "data": {
      "text/plain": [
       "dtype('int32')"
      ]
     },
     "execution_count": 51,
     "metadata": {},
     "output_type": "execute_result"
    }
   ],
   "source": [
    "arr.dtype   # 어떤 데이터 타입으로 저장할 것인가?\n",
    "            # 데이터 추정/ 타입 추정 "
   ]
  },
  {
   "cell_type": "code",
   "execution_count": 52,
   "metadata": {
    "collapsed": true
   },
   "outputs": [],
   "source": [
    "arr = np.array([1, 2, 3, 4, 5], dtype=np.int32)  # explicit dtype"
   ]
  },
  {
   "cell_type": "code",
   "execution_count": 59,
   "metadata": {
    "collapsed": false
   },
   "outputs": [
    {
     "data": {
      "text/plain": [
       "array([[1, 2],\n",
       "       [3, 4]])"
      ]
     },
     "execution_count": 59,
     "metadata": {},
     "output_type": "execute_result"
    }
   ],
   "source": [
    "arr"
   ]
  },
  {
   "cell_type": "code",
   "execution_count": 60,
   "metadata": {
    "collapsed": false
   },
   "outputs": [
    {
     "data": {
      "text/plain": [
       "array([[1, 2],\n",
       "       [3, 4]])"
      ]
     },
     "execution_count": 60,
     "metadata": {},
     "output_type": "execute_result"
    }
   ],
   "source": [
    "arr[0:2]   # 결과값 : ndarray"
   ]
  },
  {
   "cell_type": "code",
   "execution_count": 61,
   "metadata": {
    "collapsed": true
   },
   "outputs": [],
   "source": [
    "# 2 x 2 | array, list\n",
    "\n",
    "# 1, 2\n",
    "# 3, 4"
   ]
  },
  {
   "cell_type": "code",
   "execution_count": 62,
   "metadata": {
    "collapsed": true
   },
   "outputs": [],
   "source": [
    "li = [[1, 2],\n",
    "      [3, 4],]"
   ]
  },
  {
   "cell_type": "code",
   "execution_count": 63,
   "metadata": {
    "collapsed": true
   },
   "outputs": [],
   "source": [
    "arr = np.array(li)"
   ]
  },
  {
   "cell_type": "code",
   "execution_count": 64,
   "metadata": {
    "collapsed": false
   },
   "outputs": [],
   "source": [
    "# 1. li, arr => [1, 2]  [3, 4] | arr[0], li[0] ( 두 개가 동일하게 indexing )\n",
    "# 2. li, arr => 4              | li[1][1], arr[1][1], arr[1:1]\n",
    "# 3. li, arr => [1, 3], [2, 4] | li (map), arr[:, 0]"
   ]
  },
  {
   "cell_type": "code",
   "execution_count": 65,
   "metadata": {
    "collapsed": false
   },
   "outputs": [],
   "source": [
    "# 4. elements 들에 동일한 연산을 수행하고 싶다. ( 제곱, double )\n",
    "\n",
    "# [[2, 4],\n",
    "# [6, 8]]  # double\n",
    "\n",
    "# [[1, 4],\n",
    "# [9, 16]]\n",
    "\n",
    "# li 의 모양이 변경될 수 있다. ( 2차원; 2 x 3, 5 x 4 )"
   ]
  },
  {
   "cell_type": "code",
   "execution_count": 105,
   "metadata": {
    "collapsed": false
   },
   "outputs": [
    {
     "data": {
      "text/plain": [
       "[[2, 4], [6, 8]]"
      ]
     },
     "execution_count": 105,
     "metadata": {},
     "output_type": "execute_result"
    }
   ],
   "source": [
    "[\n",
    "    [\n",
    "        field * 2\n",
    "        for field\n",
    "        in row\n",
    "    ]\n",
    "    for row\n",
    "    in li\n",
    "]"
   ]
  },
  {
   "cell_type": "code",
   "execution_count": 67,
   "metadata": {
    "collapsed": false
   },
   "outputs": [
    {
     "data": {
      "text/plain": [
       "array([[ 1,  4],\n",
       "       [ 9, 16]])"
      ]
     },
     "execution_count": 67,
     "metadata": {},
     "output_type": "execute_result"
    }
   ],
   "source": [
    "list(map(\n",
    "    lambda row: list(map(lambda field: field * 2, row)),\n",
    "    li,\n",
    "))\n",
    "arr ** 2"
   ]
  },
  {
   "cell_type": "code",
   "execution_count": 139,
   "metadata": {
    "collapsed": false
   },
   "outputs": [],
   "source": [
    "# 0. 전체 => 10\n",
    "# 1. [4, 6]\n",
    "# 2. [3, 7]       # li 에서 한번 구현 "
   ]
  },
  {
   "cell_type": "code",
   "execution_count": 68,
   "metadata": {
    "collapsed": false
   },
   "outputs": [
    {
     "data": {
      "text/plain": [
       "10"
      ]
     },
     "execution_count": 68,
     "metadata": {},
     "output_type": "execute_result"
    }
   ],
   "source": [
    "# 전체 SUM \n",
    "\n",
    "result = 0   # initialize\n",
    "\n",
    "for row in li:\n",
    "    for field in row:\n",
    "        # result += field\n",
    "        result = result + field\n",
    "        \n",
    "result"
   ]
  },
  {
   "cell_type": "code",
   "execution_count": 75,
   "metadata": {
    "collapsed": true
   },
   "outputs": [],
   "source": [
    "from functools import reduce"
   ]
  },
  {
   "cell_type": "code",
   "execution_count": 76,
   "metadata": {
    "collapsed": false
   },
   "outputs": [
    {
     "data": {
      "text/plain": [
       "10"
      ]
     },
     "execution_count": 76,
     "metadata": {},
     "output_type": "execute_result"
    }
   ],
   "source": [
    "reduce(\n",
    "    lambda x,y: reduce(lambda a, b: a + b, x) +\\\n",
    "        reduce(lambda a, b: a + b, y),\n",
    "    li,  # x, y => row 하나하나 \n",
    ")\n",
    "\n",
    "# 2 x 2 => 100 x 300"
   ]
  },
  {
   "cell_type": "code",
   "execution_count": null,
   "metadata": {
    "collapsed": true
   },
   "outputs": [],
   "source": []
  },
  {
   "cell_type": "code",
   "execution_count": null,
   "metadata": {
    "collapsed": true
   },
   "outputs": [],
   "source": []
  },
  {
   "cell_type": "code",
   "execution_count": 77,
   "metadata": {
    "collapsed": false
   },
   "outputs": [
    {
     "ename": "NameError",
     "evalue": "name 'dobestan' is not defined",
     "output_type": "error",
     "traceback": [
      "\u001b[0;31m---------------------------------------------------------------------------\u001b[0m",
      "\u001b[0;31mNameError\u001b[0m                                 Traceback (most recent call last)",
      "\u001b[0;32m<ipython-input-77-04488885711a>\u001b[0m in \u001b[0;36m<module>\u001b[0;34m()\u001b[0m\n\u001b[0;32m----> 1\u001b[0;31m \u001b[0mdobestan\u001b[0m\u001b[0;34m\u001b[0m\u001b[0m\n\u001b[0m",
      "\u001b[0;31mNameError\u001b[0m: name 'dobestan' is not defined"
     ]
    }
   ],
   "source": [
    "dobestan"
   ]
  },
  {
   "cell_type": "code",
   "execution_count": null,
   "metadata": {
    "collapsed": true
   },
   "outputs": [],
   "source": []
  },
  {
   "cell_type": "code",
   "execution_count": 78,
   "metadata": {
    "collapsed": false
   },
   "outputs": [],
   "source": [
    "li = [[1, 2,], [3, 4]]"
   ]
  },
  {
   "cell_type": "code",
   "execution_count": 79,
   "metadata": {
    "collapsed": false
   },
   "outputs": [
    {
     "data": {
      "text/plain": [
       "[[1, 2], [3, 4]]"
      ]
     },
     "execution_count": 79,
     "metadata": {},
     "output_type": "execute_result"
    }
   ],
   "source": [
    "# [3, 7]\n",
    "# [4, 6]\n",
    "li"
   ]
  },
  {
   "cell_type": "code",
   "execution_count": 81,
   "metadata": {
    "collapsed": false
   },
   "outputs": [
    {
     "data": {
      "text/plain": [
       "[3, 7]"
      ]
     },
     "execution_count": 81,
     "metadata": {},
     "output_type": "execute_result"
    }
   ],
   "source": [
    "[\n",
    "    # row[0] + row[1] + row[2] +... + row[n]\n",
    "    reduce(lambda a,b: a + b, row)\n",
    "    for row                            # row 단위로 쉽게 접근이 가능했기 때문에 \n",
    "    in li\n",
    "]"
   ]
  },
  {
   "cell_type": "code",
   "execution_count": 82,
   "metadata": {
    "collapsed": false
   },
   "outputs": [
    {
     "name": "stdout",
     "output_type": "stream",
     "text": [
      "[[1 2]\n",
      " [3 4]]\n"
     ]
    }
   ],
   "source": [
    "print(arr)"
   ]
  },
  {
   "cell_type": "code",
   "execution_count": 161,
   "metadata": {
    "collapsed": false
   },
   "outputs": [
    {
     "data": {
      "text/plain": [
       "[4, 6]"
      ]
     },
     "execution_count": 161,
     "metadata": {},
     "output_type": "execute_result"
    }
   ],
   "source": [
    "# init = [0, 0]      # fields ( 2칸 ; N 칸 )\n",
    "\n",
    "init = [0 for i in range(len(li[0]))]\n",
    "for rowIndex in range(len(li)):\n",
    "    row = li[rowIndex]\n",
    "    \n",
    "    for fieldIndex in range(len(row)):\n",
    "        field = row[fieldIndex]\n",
    "        init[fieldIndex] += field`    \n",
    "init"
   ]
  },
  {
   "cell_type": "code",
   "execution_count": 194,
   "metadata": {
    "collapsed": false
   },
   "outputs": [
    {
     "data": {
      "text/plain": [
       "[4, 6]"
      ]
     },
     "execution_count": 194,
     "metadata": {},
     "output_type": "execute_result"
    }
   ],
   "source": [
    "def temp_func(init, row):\n",
    "    for fieldIndex in range(len(row)):\n",
    "        init[fieldIndex] += row[fieldIndex]\n",
    "    return init\n",
    "\n",
    "reduce(\n",
    "    temp_func,\n",
    "    li,\n",
    "    [0 for i in range(len(li[0]))],    # initialize\n",
    ")"
   ]
  },
  {
   "cell_type": "code",
   "execution_count": null,
   "metadata": {
    "collapsed": false
   },
   "outputs": [],
   "source": []
  },
  {
   "cell_type": "code",
   "execution_count": 206,
   "metadata": {
    "collapsed": false
   },
   "outputs": [
    {
     "name": "stdout",
     "output_type": "stream",
     "text": [
      "[[1 2]\n",
      " [3 4]]\n"
     ]
    }
   ],
   "source": [
    "# 10\n",
    "\n",
    "print(arr)"
   ]
  },
  {
   "cell_type": "code",
   "execution_count": 209,
   "metadata": {
    "collapsed": false
   },
   "outputs": [
    {
     "data": {
      "text/plain": [
       "10"
      ]
     },
     "execution_count": 209,
     "metadata": {},
     "output_type": "execute_result"
    }
   ],
   "source": [
    "arr.sum()  # arr.sum()"
   ]
  },
  {
   "cell_type": "code",
   "execution_count": 211,
   "metadata": {
    "collapsed": false
   },
   "outputs": [
    {
     "name": "stdout",
     "output_type": "stream",
     "text": [
      "[[1 2]\n",
      " [3 4]]\n"
     ]
    }
   ],
   "source": [
    "print(arr)"
   ]
  },
  {
   "cell_type": "code",
   "execution_count": 213,
   "metadata": {
    "collapsed": false
   },
   "outputs": [
    {
     "data": {
      "text/plain": [
       "array([4, 6])"
      ]
     },
     "execution_count": 213,
     "metadata": {},
     "output_type": "execute_result"
    }
   ],
   "source": [
    "arr.sum(axis=0)"
   ]
  },
  {
   "cell_type": "code",
   "execution_count": 214,
   "metadata": {
    "collapsed": false
   },
   "outputs": [
    {
     "data": {
      "text/plain": [
       "array([3, 7])"
      ]
     },
     "execution_count": 214,
     "metadata": {},
     "output_type": "execute_result"
    }
   ],
   "source": [
    "arr.sum(axis=1)"
   ]
  },
  {
   "cell_type": "code",
   "execution_count": 215,
   "metadata": {
    "collapsed": true
   },
   "outputs": [],
   "source": [
    "# Indexing"
   ]
  },
  {
   "cell_type": "code",
   "execution_count": 276,
   "metadata": {
    "collapsed": true
   },
   "outputs": [],
   "source": [
    "# 성적표 ( 학생 4명에 대한 국어, 영어, 수학 )\n",
    "\n",
    "arr = np.array([\n",
    "    [100, 100, 100],\n",
    "    [60, 50, 30],\n",
    "    [100, 90, 80],\n",
    "    [80, 80, 90],\n",
    "])\n",
    "\n",
    "# 1. 학생들의 평균 점수를 구하고 싶다. [80, 70, 60.6, 85]\n",
    "# 2. 평균 점수가 80점 + Filtering"
   ]
  },
  {
   "cell_type": "code",
   "execution_count": 232,
   "metadata": {
    "collapsed": false
   },
   "outputs": [
    {
     "data": {
      "text/plain": [
       "array([[100, 100, 100],\n",
       "       [ 60,  50,  30],\n",
       "       [100,  90,  80]])"
      ]
     },
     "execution_count": 232,
     "metadata": {},
     "output_type": "execute_result"
    }
   ],
   "source": [
    "# 순서를 바꾸는 방법\n",
    "\n",
    "arr[  np.array([True, True, True, False])   ]\n",
    "\n",
    "# map => Boolean Mask, Filtering Mask\n",
    "# filter "
   ]
  },
  {
   "cell_type": "code",
   "execution_count": 257,
   "metadata": {
    "collapsed": false
   },
   "outputs": [],
   "source": [
    "# np.mean(arr, axis=1)\n",
    "mean_arr = arr.mean(axis=1)"
   ]
  },
  {
   "cell_type": "code",
   "execution_count": 83,
   "metadata": {
    "collapsed": false
   },
   "outputs": [
    {
     "ename": "NameError",
     "evalue": "name 'mean_arr' is not defined",
     "output_type": "error",
     "traceback": [
      "\u001b[0;31m---------------------------------------------------------------------------\u001b[0m",
      "\u001b[0;31mNameError\u001b[0m                                 Traceback (most recent call last)",
      "\u001b[0;32m<ipython-input-83-0bbab9d3fb03>\u001b[0m in \u001b[0;36m<module>\u001b[0;34m()\u001b[0m\n\u001b[0;32m----> 1\u001b[0;31m \u001b[0mmean_arr\u001b[0m\u001b[0;34m\u001b[0m\u001b[0m\n\u001b[0m\u001b[1;32m      2\u001b[0m \u001b[0;31m# [True, False, True, True]\u001b[0m\u001b[0;34m\u001b[0m\u001b[0;34m\u001b[0m\u001b[0m\n\u001b[1;32m      3\u001b[0m \u001b[0;34m\u001b[0m\u001b[0m\n\u001b[1;32m      4\u001b[0m \u001b[0;31m# list(map(\u001b[0m\u001b[0;34m\u001b[0m\u001b[0;34m\u001b[0m\u001b[0m\n\u001b[1;32m      5\u001b[0m \u001b[0;31m#     lambda x: x >= 80,\u001b[0m\u001b[0;34m\u001b[0m\u001b[0;34m\u001b[0m\u001b[0m\n",
      "\u001b[0;31mNameError\u001b[0m: name 'mean_arr' is not defined"
     ]
    }
   ],
   "source": [
    "mean_arr\n",
    "# [True, False, True, True]\n",
    "\n",
    "# list(map(\n",
    "#     lambda x: x >= 80,\n",
    "#     mean_arr\n",
    "# ))\n",
    "\n",
    "mean_result = [\n",
    "    x >= 80\n",
    "    for x\n",
    "    in mean_arr\n",
    "]\n",
    "mean_result = np.array(mean_result)"
   ]
  },
  {
   "cell_type": "code",
   "execution_count": 268,
   "metadata": {
    "collapsed": false
   },
   "outputs": [],
   "source": [
    "# mean_arr >= 80\n",
    "# arr[mean_arr >= 80]"
   ]
  },
  {
   "cell_type": "code",
   "execution_count": 269,
   "metadata": {
    "collapsed": false
   },
   "outputs": [
    {
     "data": {
      "text/plain": [
       "array([[100, 100, 100],\n",
       "       [100,  90,  80],\n",
       "       [ 80,  80,  90]])"
      ]
     },
     "execution_count": 269,
     "metadata": {},
     "output_type": "execute_result"
    }
   ],
   "source": [
    "arr[   arr.mean(axis=1) >= 80   ]"
   ]
  },
  {
   "cell_type": "code",
   "execution_count": 290,
   "metadata": {
    "collapsed": true
   },
   "outputs": [],
   "source": [
    "# 성적표 ( 학생 4명에 대한 국어, 영어, 수학 )\n",
    "\n",
    "arr = np.array([\n",
    "    [13, \"안수찬1\", 100, 100, 100],\n",
    "    [14, \"안수찬2\", 60, 50, 30],\n",
    "    [15, \"안수찬3\", 100, 90, 80],\n",
    "    [16, \"안수찬4\", 80, 80, 90],\n",
    "])\n",
    "\n",
    "# 1. 학생들의 평균 점수를 구하고 싶다. [80, 70, 60.6, 85]\n",
    "# 2. 평균 점수가 80점 + Filtering"
   ]
  },
  {
   "cell_type": "code",
   "execution_count": 291,
   "metadata": {
    "collapsed": true
   },
   "outputs": [],
   "source": [
    "# Numpy.ndarray => n-d array object. 동질의 데이터셋 "
   ]
  },
  {
   "cell_type": "code",
   "execution_count": 303,
   "metadata": {
    "collapsed": false
   },
   "outputs": [
    {
     "data": {
      "text/plain": [
       "array([ 100.        ,   46.66666667,   90.        ,   83.33333333])"
      ]
     },
     "execution_count": 303,
     "metadata": {},
     "output_type": "execute_result"
    }
   ],
   "source": [
    "np.array(  arr[:, 2:]  , dtype=np.int64).mean(axis=1)"
   ]
  },
  {
   "cell_type": "code",
   "execution_count": 306,
   "metadata": {
    "collapsed": false
   },
   "outputs": [
    {
     "data": {
      "text/plain": [
       "array([['13', '안수찬1', '100', '100', '100'],\n",
       "       ['15', '안수찬3', '100', '90', '80'],\n",
       "       ['16', '안수찬4', '80', '80', '90']], \n",
       "      dtype='<U21')"
      ]
     },
     "execution_count": 306,
     "metadata": {},
     "output_type": "execute_result"
    }
   ],
   "source": [
    "arr[ np.array(  arr[:, 2:]  , dtype=np.int64).mean(axis=1) >= 80 ]"
   ]
  },
  {
   "cell_type": "code",
   "execution_count": 308,
   "metadata": {
    "collapsed": false
   },
   "outputs": [],
   "source": [
    "arr = np.array(  arr[:, 2:] , dtype=np.int64 )"
   ]
  },
  {
   "cell_type": "code",
   "execution_count": 312,
   "metadata": {
    "collapsed": false
   },
   "outputs": [],
   "source": [
    "np.savetxt(\"arr.txt\", arr, delimiter=\",\")"
   ]
  },
  {
   "cell_type": "code",
   "execution_count": 313,
   "metadata": {
    "collapsed": false
   },
   "outputs": [
    {
     "data": {
      "text/plain": [
       "array([[ 100.,  100.,  100.],\n",
       "       [  60.,   50.,   30.],\n",
       "       [ 100.,   90.,   80.],\n",
       "       [  80.,   80.,   90.]])"
      ]
     },
     "execution_count": 313,
     "metadata": {},
     "output_type": "execute_result"
    }
   ],
   "source": [
    "np.loadtxt(\"arr.txt\", delimiter=\",\")"
   ]
  },
  {
   "cell_type": "code",
   "execution_count": 314,
   "metadata": {
    "collapsed": true
   },
   "outputs": [],
   "source": [
    "# 비디오 예매 서비스 ( netflix )\n",
    "# 사용자(customer), 영화, 영화 actor, 렌탈, )"
   ]
  },
  {
   "cell_type": "code",
   "execution_count": 315,
   "metadata": {
    "collapsed": true
   },
   "outputs": [],
   "source": [
    "# data/payment.csv"
   ]
  },
  {
   "cell_type": "code",
   "execution_count": 316,
   "metadata": {
    "collapsed": true
   },
   "outputs": [],
   "source": [
    "payment_arr = np.loadtxt(\"../../data/payment.csv\", delimiter=\",\")"
   ]
  },
  {
   "cell_type": "code",
   "execution_count": 318,
   "metadata": {
    "collapsed": false
   },
   "outputs": [
    {
     "data": {
      "text/plain": [
       "2"
      ]
     },
     "execution_count": 318,
     "metadata": {},
     "output_type": "execute_result"
    }
   ],
   "source": [
    "payment_arr.ndim"
   ]
  },
  {
   "cell_type": "code",
   "execution_count": 320,
   "metadata": {
    "collapsed": false
   },
   "outputs": [
    {
     "data": {
      "text/plain": [
       "(16049, 2)"
      ]
     },
     "execution_count": 320,
     "metadata": {},
     "output_type": "execute_result"
    }
   ],
   "source": [
    "# column 0: customer_id\n",
    "# column 1: amount ( 매출 ; 결제액 )\n",
    "\n",
    "payment_arr.shape"
   ]
  },
  {
   "cell_type": "code",
   "execution_count": 323,
   "metadata": {
    "collapsed": false
   },
   "outputs": [
    {
     "data": {
      "text/plain": [
       "array([[ 1.  ,  2.99],\n",
       "       [ 1.  ,  0.99],\n",
       "       [ 1.  ,  5.99],\n",
       "       [ 1.  ,  0.99],\n",
       "       [ 1.  ,  9.99]])"
      ]
     },
     "execution_count": 323,
     "metadata": {},
     "output_type": "execute_result"
    }
   ],
   "source": [
    "payment_arr[:5]\n",
    "\n",
    "# 얼마만큼의 사용자가 있는가? 1 ... N번 => Unique 한 customer_id 의 배열 "
   ]
  },
  {
   "cell_type": "code",
   "execution_count": 325,
   "metadata": {
    "collapsed": false
   },
   "outputs": [
    {
     "data": {
      "text/plain": [
       "array([   1.,    2.,    3.,    4.,    5.,    6.,    7.,    8.,    9.,\n",
       "         10.,   11.,   12.,   13.,   14.,   15.,   16.,   17.,   18.,\n",
       "         19.,   20.,   21.,   22.,   23.,   24.,   25.,   26.,   27.,\n",
       "         28.,   29.,   30.,   31.,   32.,   33.,   34.,   35.,   36.,\n",
       "         37.,   38.,   39.,   40.,   41.,   42.,   43.,   44.,   45.,\n",
       "         46.,   47.,   48.,   49.,   50.,   51.,   52.,   53.,   54.,\n",
       "         55.,   56.,   57.,   58.,   59.,   60.,   61.,   62.,   63.,\n",
       "         64.,   65.,   66.,   67.,   68.,   69.,   70.,   71.,   72.,\n",
       "         73.,   74.,   75.,   76.,   77.,   78.,   79.,   80.,   81.,\n",
       "         82.,   83.,   84.,   85.,   86.,   87.,   88.,   89.,   90.,\n",
       "         91.,   92.,   93.,   94.,   95.,   96.,   97.,   98.,   99.,\n",
       "        100.,  101.,  102.,  103.,  104.,  105.,  106.,  107.,  108.,\n",
       "        109.,  110.,  111.,  112.,  113.,  114.,  115.,  116.,  117.,\n",
       "        118.,  119.,  120.,  121.,  122.,  123.,  124.,  125.,  126.,\n",
       "        127.,  128.,  129.,  130.,  131.,  132.,  133.,  134.,  135.,\n",
       "        136.,  137.,  138.,  139.,  140.,  141.,  142.,  143.,  144.,\n",
       "        145.,  146.,  147.,  148.,  149.,  150.,  151.,  152.,  153.,\n",
       "        154.,  155.,  156.,  157.,  158.,  159.,  160.,  161.,  162.,\n",
       "        163.,  164.,  165.,  166.,  167.,  168.,  169.,  170.,  171.,\n",
       "        172.,  173.,  174.,  175.,  176.,  177.,  178.,  179.,  180.,\n",
       "        181.,  182.,  183.,  184.,  185.,  186.,  187.,  188.,  189.,\n",
       "        190.,  191.,  192.,  193.,  194.,  195.,  196.,  197.,  198.,\n",
       "        199.,  200.,  201.,  202.,  203.,  204.,  205.,  206.,  207.,\n",
       "        208.,  209.,  210.,  211.,  212.,  213.,  214.,  215.,  216.,\n",
       "        217.,  218.,  219.,  220.,  221.,  222.,  223.,  224.,  225.,\n",
       "        226.,  227.,  228.,  229.,  230.,  231.,  232.,  233.,  234.,\n",
       "        235.,  236.,  237.,  238.,  239.,  240.,  241.,  242.,  243.,\n",
       "        244.,  245.,  246.,  247.,  248.,  249.,  250.,  251.,  252.,\n",
       "        253.,  254.,  255.,  256.,  257.,  258.,  259.,  260.,  261.,\n",
       "        262.,  263.,  264.,  265.,  266.,  267.,  268.,  269.,  270.,\n",
       "        271.,  272.,  273.,  274.,  275.,  276.,  277.,  278.,  279.,\n",
       "        280.,  281.,  282.,  283.,  284.,  285.,  286.,  287.,  288.,\n",
       "        289.,  290.,  291.,  292.,  293.,  294.,  295.,  296.,  297.,\n",
       "        298.,  299.,  300.,  301.,  302.,  303.,  304.,  305.,  306.,\n",
       "        307.,  308.,  309.,  310.,  311.,  312.,  313.,  314.,  315.,\n",
       "        316.,  317.,  318.,  319.,  320.,  321.,  322.,  323.,  324.,\n",
       "        325.,  326.,  327.,  328.,  329.,  330.,  331.,  332.,  333.,\n",
       "        334.,  335.,  336.,  337.,  338.,  339.,  340.,  341.,  342.,\n",
       "        343.,  344.,  345.,  346.,  347.,  348.,  349.,  350.,  351.,\n",
       "        352.,  353.,  354.,  355.,  356.,  357.,  358.,  359.,  360.,\n",
       "        361.,  362.,  363.,  364.,  365.,  366.,  367.,  368.,  369.,\n",
       "        370.,  371.,  372.,  373.,  374.,  375.,  376.,  377.,  378.,\n",
       "        379.,  380.,  381.,  382.,  383.,  384.,  385.,  386.,  387.,\n",
       "        388.,  389.,  390.,  391.,  392.,  393.,  394.,  395.,  396.,\n",
       "        397.,  398.,  399.,  400.,  401.,  402.,  403.,  404.,  405.,\n",
       "        406.,  407.,  408.,  409.,  410.,  411.,  412.,  413.,  414.,\n",
       "        415.,  416.,  417.,  418.,  419.,  420.,  421.,  422.,  423.,\n",
       "        424.,  425.,  426.,  427.,  428.,  429.,  430.,  431.,  432.,\n",
       "        433.,  434.,  435.,  436.,  437.,  438.,  439.,  440.,  441.,\n",
       "        442.,  443.,  444.,  445.,  446.,  447.,  448.,  449.,  450.,\n",
       "        451.,  452.,  453.,  454.,  455.,  456.,  457.,  458.,  459.,\n",
       "        460.,  461.,  462.,  463.,  464.,  465.,  466.,  467.,  468.,\n",
       "        469.,  470.,  471.,  472.,  473.,  474.,  475.,  476.,  477.,\n",
       "        478.,  479.,  480.,  481.,  482.,  483.,  484.,  485.,  486.,\n",
       "        487.,  488.,  489.,  490.,  491.,  492.,  493.,  494.,  495.,\n",
       "        496.,  497.,  498.,  499.,  500.,  501.,  502.,  503.,  504.,\n",
       "        505.,  506.,  507.,  508.,  509.,  510.,  511.,  512.,  513.,\n",
       "        514.,  515.,  516.,  517.,  518.,  519.,  520.,  521.,  522.,\n",
       "        523.,  524.,  525.,  526.,  527.,  528.,  529.,  530.,  531.,\n",
       "        532.,  533.,  534.,  535.,  536.,  537.,  538.,  539.,  540.,\n",
       "        541.,  542.,  543.,  544.,  545.,  546.,  547.,  548.,  549.,\n",
       "        550.,  551.,  552.,  553.,  554.,  555.,  556.,  557.,  558.,\n",
       "        559.,  560.,  561.,  562.,  563.,  564.,  565.,  566.,  567.,\n",
       "        568.,  569.,  570.,  571.,  572.,  573.,  574.,  575.,  576.,\n",
       "        577.,  578.,  579.,  580.,  581.,  582.,  583.,  584.,  585.,\n",
       "        586.,  587.,  588.,  589.,  590.,  591.,  592.,  593.,  594.,\n",
       "        595.,  596.,  597.,  598.,  599.])"
      ]
     },
     "execution_count": 325,
     "metadata": {},
     "output_type": "execute_result"
    }
   ],
   "source": [
    "np.unique(  payment_arr[:, 0]  )\n",
    "\n",
    "# 이걸 바탕으로 유저별 매출 !\n",
    "# sorting 1: 119$, 2: 150$.... , => 우리 서비스에서 가장 많이 결제한 유저는 13번 \n",
    "\n",
    "# sorting\n",
    "# 1 => ______\n",
    "# 2 => ______\n",
    "# ndarray"
   ]
  },
  {
   "cell_type": "code",
   "execution_count": null,
   "metadata": {
    "collapsed": true
   },
   "outputs": [],
   "source": [
    "# Numpy !\n",
    "# -------\n",
    "# Selenium :: Web Browser\n",
    "# os(Operating System), shutil(High-Level File Operator)\n",
    "# --------\n",
    "# Pandas"
   ]
  },
  {
   "cell_type": "code",
   "execution_count": null,
   "metadata": {
    "collapsed": true
   },
   "outputs": [],
   "source": [
    "# Indexing ( NxM 10:20, 3:5 )\n",
    "# axis=0, 1\n",
    "# Filtering Mask ( Broadcasting : 벡터 x 스칼라 )\n",
    "# -----------------------\n",
    "# For, List Comprehension, Lambda "
   ]
  },
  {
   "cell_type": "code",
   "execution_count": 326,
   "metadata": {
    "collapsed": false
   },
   "outputs": [
    {
     "data": {
      "text/plain": [
       "[[1, 2], [3, 4]]"
      ]
     },
     "execution_count": 326,
     "metadata": {},
     "output_type": "execute_result"
    }
   ],
   "source": [
    "# [\n",
    "#     # row[0] + row[1] + row[2] +... + row[n]\n",
    "#     reduce(lambda a,b: a + b, row)\n",
    "#     for row                            # row 단위로 쉽게 접근이 가능했기 때문에 \n",
    "#     in li\n",
    "# ]"
   ]
  },
  {
   "cell_type": "code",
   "execution_count": 329,
   "metadata": {
    "collapsed": false
   },
   "outputs": [
    {
     "name": "stdout",
     "output_type": "stream",
     "text": [
      "(1, 2)\n",
      "(3, 3)\n",
      "(4, 5)\n",
      "(9, 6)\n"
     ]
    },
    {
     "data": {
      "text/plain": [
       "[6, 15]"
      ]
     },
     "execution_count": 329,
     "metadata": {},
     "output_type": "execute_result"
    }
   ],
   "source": [
    "li = [\n",
    "    [1, 2, 3],\n",
    "    [4, 5, 6],\n",
    "]\n",
    "\n",
    "def temp_func(a, b):\n",
    "    print((a, b))\n",
    "    return a + b\n",
    "\n",
    "[\n",
    "    reduce(temp_func, row)\n",
    "    for row   # [1, 2, 3], [4, 5, 6]                            # row 단위로 쉽게 접근이 가능했기 때문에 \n",
    "    in li\n",
    "]"
   ]
  },
  {
   "cell_type": "code",
   "execution_count": 330,
   "metadata": {
    "collapsed": false
   },
   "outputs": [
    {
     "data": {
      "text/plain": [
       "6"
      ]
     },
     "execution_count": 330,
     "metadata": {},
     "output_type": "execute_result"
    }
   ],
   "source": [
    "reduce(lambda a, b: a + b, [1, 2, 3])"
   ]
  },
  {
   "cell_type": "code",
   "execution_count": null,
   "metadata": {
    "collapsed": true
   },
   "outputs": [],
   "source": []
  },
  {
   "cell_type": "code",
   "execution_count": 349,
   "metadata": {
    "collapsed": true
   },
   "outputs": [],
   "source": [
    "# savetxt, loadtxt , np(.txt) \n",
    "# np.loadtxt, csv\n",
    "payment_arr = np.loadtxt(\"../../data/payment.csv\", delimiter=\",\")"
   ]
  },
  {
   "cell_type": "code",
   "execution_count": 351,
   "metadata": {
    "collapsed": false
   },
   "outputs": [
    {
     "data": {
      "text/plain": [
       "(16049, 2)"
      ]
     },
     "execution_count": 351,
     "metadata": {},
     "output_type": "execute_result"
    }
   ],
   "source": [
    "payment_arr.shape"
   ]
  },
  {
   "cell_type": "code",
   "execution_count": 352,
   "metadata": {
    "collapsed": false
   },
   "outputs": [
    {
     "data": {
      "text/plain": [
       "2"
      ]
     },
     "execution_count": 352,
     "metadata": {},
     "output_type": "execute_result"
    }
   ],
   "source": [
    "payment_arr.ndim"
   ]
  },
  {
   "cell_type": "code",
   "execution_count": 353,
   "metadata": {
    "collapsed": false
   },
   "outputs": [
    {
     "data": {
      "text/plain": [
       "array([[ 1.  ,  2.99],\n",
       "       [ 1.  ,  0.99],\n",
       "       [ 1.  ,  5.99],\n",
       "       [ 1.  ,  0.99],\n",
       "       [ 1.  ,  9.99]])"
      ]
     },
     "execution_count": 353,
     "metadata": {},
     "output_type": "execute_result"
    }
   ],
   "source": [
    "payment_arr[:5]"
   ]
  },
  {
   "cell_type": "code",
   "execution_count": 354,
   "metadata": {
    "collapsed": true
   },
   "outputs": [],
   "source": [
    "# 1번 유저에 대한 그룹 ( Boolean Mask )\n",
    "# [True, True, ...., False]"
   ]
  },
  {
   "cell_type": "code",
   "execution_count": 356,
   "metadata": {
    "collapsed": false
   },
   "outputs": [
    {
     "data": {
      "text/plain": [
       "array([ True,  True,  True, ..., False, False, False], dtype=bool)"
      ]
     },
     "execution_count": 356,
     "metadata": {},
     "output_type": "execute_result"
    }
   ],
   "source": [
    "payment_arr[:, 0] == 1"
   ]
  },
  {
   "cell_type": "code",
   "execution_count": 358,
   "metadata": {
    "collapsed": false
   },
   "outputs": [],
   "source": [
    "# payment_arr[   payment_arr[:, 0] == 1   ]"
   ]
  },
  {
   "cell_type": "code",
   "execution_count": 367,
   "metadata": {
    "collapsed": true
   },
   "outputs": [],
   "source": [
    "result = [\n",
    "    [\n",
    "        customer_id,\n",
    "        payment_arr[   payment_arr[:, 0] == customer_id   ].sum()\n",
    "    ]\n",
    "    for customer_id \n",
    "    in np.unique(   payment_arr[:, 0]    )\n",
    "]"
   ]
  },
  {
   "cell_type": "code",
   "execution_count": 372,
   "metadata": {
    "collapsed": false
   },
   "outputs": [],
   "source": [
    "#np.array(result)"
   ]
  },
  {
   "cell_type": "code",
   "execution_count": null,
   "metadata": {
    "collapsed": true
   },
   "outputs": [],
   "source": []
  },
  {
   "cell_type": "code",
   "execution_count": 373,
   "metadata": {
    "collapsed": true
   },
   "outputs": [],
   "source": [
    "# Numpy: 배열, N차원 배열, 벡터, 행렬"
   ]
  },
  {
   "cell_type": "code",
   "execution_count": 374,
   "metadata": {
    "collapsed": true
   },
   "outputs": [],
   "source": [
    "# 2차원의 배열\n",
    "a = np.array([\n",
    "        [1, 2],\n",
    "        [3, 4]\n",
    "    ])"
   ]
  },
  {
   "cell_type": "code",
   "execution_count": 376,
   "metadata": {
    "collapsed": false
   },
   "outputs": [],
   "source": [
    "b = np.array([\n",
    "        [1, 0],\n",
    "        [0, 1],\n",
    "    ])"
   ]
  },
  {
   "cell_type": "code",
   "execution_count": null,
   "metadata": {
    "collapsed": true
   },
   "outputs": [],
   "source": [
    "# a 라는 행렬, b 라는 행렬 (E; 단위행렬) => a"
   ]
  },
  {
   "cell_type": "code",
   "execution_count": 379,
   "metadata": {
    "collapsed": false
   },
   "outputs": [
    {
     "data": {
      "text/plain": [
       "array([[1, 0],\n",
       "       [0, 4]])"
      ]
     },
     "execution_count": 379,
     "metadata": {},
     "output_type": "execute_result"
    }
   ],
   "source": [
    "a * b                # Np.ndarray 연산 => Element 간의 연산 \n",
    "                     # 행렬 모양 O, 행렬 처럼 쓰는 경우 +++"
   ]
  },
  {
   "cell_type": "code",
   "execution_count": 381,
   "metadata": {
    "collapsed": false
   },
   "outputs": [
    {
     "data": {
      "text/plain": [
       "array([[1, 2],\n",
       "       [3, 4]])"
      ]
     },
     "execution_count": 381,
     "metadata": {},
     "output_type": "execute_result"
    }
   ],
   "source": [
    "np.dot(a, b)         # 행렬 간 연산 == 곱"
   ]
  },
  {
   "cell_type": "code",
   "execution_count": 388,
   "metadata": {
    "collapsed": false
   },
   "outputs": [
    {
     "data": {
      "text/plain": [
       "[0, 2, 4, 6, 8]"
      ]
     },
     "execution_count": 388,
     "metadata": {},
     "output_type": "execute_result"
    }
   ],
   "source": [
    "# 순차적의 숫자들의 리스트 \n",
    "\n",
    "list(range(0, 10, 2))    # return range_generator"
   ]
  },
  {
   "cell_type": "code",
   "execution_count": 390,
   "metadata": {
    "collapsed": false
   },
   "outputs": [
    {
     "data": {
      "text/plain": [
       "array([0, 1, 2, 3, 4, 5, 6, 7, 8, 9])"
      ]
     },
     "execution_count": 390,
     "metadata": {},
     "output_type": "execute_result"
    }
   ],
   "source": [
    "# arange\n",
    "np.arange(0, 10)"
   ]
  },
  {
   "cell_type": "code",
   "execution_count": 393,
   "metadata": {
    "collapsed": false
   },
   "outputs": [
    {
     "data": {
      "text/plain": [
       "[1, 2, 3, 4, 5, 6, 7, 8, 9, 10]"
      ]
     },
     "execution_count": 393,
     "metadata": {},
     "output_type": "execute_result"
    }
   ],
   "source": [
    "# 1부터 10까지의 수 ( 10개 )\n",
    "[i for i in range(1, 10 + 1)]"
   ]
  },
  {
   "cell_type": "code",
   "execution_count": 394,
   "metadata": {
    "collapsed": false
   },
   "outputs": [
    {
     "data": {
      "text/plain": [
       "[1, 2, 3, 4, 5, 6, 7, 8, 9, 10]"
      ]
     },
     "execution_count": 394,
     "metadata": {},
     "output_type": "execute_result"
    }
   ],
   "source": [
    "[i + 1 for i in range(10)]"
   ]
  },
  {
   "cell_type": "code",
   "execution_count": 395,
   "metadata": {
    "collapsed": false
   },
   "outputs": [
    {
     "data": {
      "text/plain": [
       "[1, 2, 3, 4, 5, 6, 7, 8, 9, 10]"
      ]
     },
     "execution_count": 395,
     "metadata": {},
     "output_type": "execute_result"
    }
   ],
   "source": [
    "list(range(1, 10 + 1))"
   ]
  },
  {
   "cell_type": "code",
   "execution_count": 396,
   "metadata": {
    "collapsed": false
   },
   "outputs": [
    {
     "data": {
      "text/plain": [
       "array([ 1,  2,  3,  4,  5,  6,  7,  8,  9, 10])"
      ]
     },
     "execution_count": 396,
     "metadata": {},
     "output_type": "execute_result"
    }
   ],
   "source": [
    "np.arange(1, 10 + 1)"
   ]
  },
  {
   "cell_type": "code",
   "execution_count": 398,
   "metadata": {
    "collapsed": false
   },
   "outputs": [
    {
     "data": {
      "text/plain": [
       "array([ 1,  2,  3,  4,  5,  6,  7,  8,  9, 10])"
      ]
     },
     "execution_count": 398,
     "metadata": {},
     "output_type": "execute_result"
    }
   ],
   "source": [
    "np.arange(10) + 1"
   ]
  },
  {
   "cell_type": "code",
   "execution_count": 399,
   "metadata": {
    "collapsed": true
   },
   "outputs": [],
   "source": [
    "# 배열 ( 1로 초기화된 배열, 0으로 초기화된 배열 )"
   ]
  },
  {
   "cell_type": "code",
   "execution_count": 400,
   "metadata": {
    "collapsed": false
   },
   "outputs": [
    {
     "data": {
      "text/plain": [
       "array([ 1.,  1.,  1.,  1.,  1.,  1.,  1.,  1.,  1.,  1.])"
      ]
     },
     "execution_count": 400,
     "metadata": {},
     "output_type": "execute_result"
    }
   ],
   "source": [
    "np.ones(10)"
   ]
  },
  {
   "cell_type": "code",
   "execution_count": 401,
   "metadata": {
    "collapsed": false
   },
   "outputs": [
    {
     "data": {
      "text/plain": [
       "array([ 0.,  0.,  0.,  0.,  0.,  0.,  0.,  0.,  0.,  0.])"
      ]
     },
     "execution_count": 401,
     "metadata": {},
     "output_type": "execute_result"
    }
   ],
   "source": [
    "np.zeros(10)"
   ]
  },
  {
   "cell_type": "code",
   "execution_count": 407,
   "metadata": {
    "collapsed": false
   },
   "outputs": [],
   "source": [
    "# np.ones((3, 3, 3, 3))"
   ]
  },
  {
   "cell_type": "code",
   "execution_count": 411,
   "metadata": {
    "collapsed": false
   },
   "outputs": [],
   "source": [
    "# 1024 x 1024 x 3 == 1024 x 3072 ( shape )\n",
    "# np.ones(100).reshape(10, 10)"
   ]
  },
  {
   "cell_type": "code",
   "execution_count": 412,
   "metadata": {
    "collapsed": false
   },
   "outputs": [
    {
     "data": {
      "text/plain": [
       "array([[ 1.,  0.,  0.,  0.,  0.,  0.,  0.,  0.,  0.,  0.],\n",
       "       [ 0.,  1.,  0.,  0.,  0.,  0.,  0.,  0.,  0.,  0.],\n",
       "       [ 0.,  0.,  1.,  0.,  0.,  0.,  0.,  0.,  0.,  0.],\n",
       "       [ 0.,  0.,  0.,  1.,  0.,  0.,  0.,  0.,  0.,  0.],\n",
       "       [ 0.,  0.,  0.,  0.,  1.,  0.,  0.,  0.,  0.,  0.],\n",
       "       [ 0.,  0.,  0.,  0.,  0.,  1.,  0.,  0.,  0.,  0.],\n",
       "       [ 0.,  0.,  0.,  0.,  0.,  0.,  1.,  0.,  0.,  0.],\n",
       "       [ 0.,  0.,  0.,  0.,  0.,  0.,  0.,  1.,  0.,  0.],\n",
       "       [ 0.,  0.,  0.,  0.,  0.,  0.,  0.,  0.,  1.,  0.],\n",
       "       [ 0.,  0.,  0.,  0.,  0.,  0.,  0.,  0.,  0.,  1.]])"
      ]
     },
     "execution_count": 412,
     "metadata": {},
     "output_type": "execute_result"
    }
   ],
   "source": [
    "# #\n",
    "# np.eye(10)"
   ]
  },
  {
   "cell_type": "code",
   "execution_count": null,
   "metadata": {
    "collapsed": true
   },
   "outputs": [],
   "source": []
  },
  {
   "cell_type": "code",
   "execution_count": 426,
   "metadata": {
    "collapsed": false
   },
   "outputs": [],
   "source": [
    "# np.random.rand\n",
    "# np.random.randn\n",
    "# np.random.randint(100)"
   ]
  },
  {
   "cell_type": "code",
   "execution_count": 438,
   "metadata": {
    "collapsed": false
   },
   "outputs": [],
   "source": [
    "# 주가에 대한 변화.\n",
    "\n",
    "a = np.random.rand(4, 10) - 0.5\n",
    "\n",
    "# 4개의 종목군에 대한 주가 변화량"
   ]
  },
  {
   "cell_type": "code",
   "execution_count": 442,
   "metadata": {
    "collapsed": false
   },
   "outputs": [
    {
     "data": {
      "text/plain": [
       "array([[-0.26256694,  0.07833463, -0.01245334, -0.00708547,  0.04846546,\n",
       "         0.14984364, -0.37734192, -0.10669961,  0.25359969, -0.37127522],\n",
       "       [-0.17539225, -0.3373188 , -0.42131753, -0.3785626 ,  0.01906029,\n",
       "         0.13895431, -0.22888941, -0.04464853,  0.11478264,  0.46480179],\n",
       "       [-0.00286348, -0.30302647,  0.30195987,  0.15159796,  0.18630796,\n",
       "         0.46139731,  0.22946935, -0.48201167, -0.12352498,  0.16504371],\n",
       "       [ 0.48922918, -0.12910257,  0.16158881,  0.33821903,  0.43113849,\n",
       "        -0.45480674,  0.30890403, -0.29197951, -0.43597871,  0.45447641]])"
      ]
     },
     "execution_count": 442,
     "metadata": {},
     "output_type": "execute_result"
    }
   ],
   "source": [
    "a"
   ]
  },
  {
   "cell_type": "code",
   "execution_count": 446,
   "metadata": {
    "collapsed": false
   },
   "outputs": [],
   "source": [
    "# a.cumsum(axis=1)"
   ]
  },
  {
   "cell_type": "code",
   "execution_count": 447,
   "metadata": {
    "collapsed": true
   },
   "outputs": [],
   "source": [
    "# 주가 => 랜덤한 그래프\n",
    "# 모델링"
   ]
  },
  {
   "cell_type": "code",
   "execution_count": null,
   "metadata": {
    "collapsed": true
   },
   "outputs": [],
   "source": []
  },
  {
   "cell_type": "code",
   "execution_count": null,
   "metadata": {
    "collapsed": true
   },
   "outputs": [],
   "source": []
  },
  {
   "cell_type": "code",
   "execution_count": 448,
   "metadata": {
    "collapsed": true
   },
   "outputs": [],
   "source": [
    "# pandas.Series, pandas.DataFrame"
   ]
  },
  {
   "cell_type": "code",
   "execution_count": 450,
   "metadata": {
    "collapsed": true
   },
   "outputs": [],
   "source": [
    "# os, shutil"
   ]
  },
  {
   "cell_type": "code",
   "execution_count": null,
   "metadata": {
    "collapsed": true
   },
   "outputs": [],
   "source": []
  },
  {
   "cell_type": "code",
   "execution_count": 451,
   "metadata": {
    "collapsed": true
   },
   "outputs": [],
   "source": [
    "import os"
   ]
  },
  {
   "cell_type": "code",
   "execution_count": 453,
   "metadata": {
    "collapsed": true
   },
   "outputs": [],
   "source": [
    "# 1. 폴더 안에 있는 모든 파일의 리스트 보기"
   ]
  },
  {
   "cell_type": "code",
   "execution_count": 455,
   "metadata": {
    "collapsed": false
   },
   "outputs": [
    {
     "data": {
      "text/plain": [
       "['arr.csv',\n",
       " '01 크레딧잡 연봉정보.ipynb',\n",
       " '02 Numpy.ipynb',\n",
       " '.ipynb_checkpoints',\n",
       " 'arr.txt']"
      ]
     },
     "execution_count": 455,
     "metadata": {},
     "output_type": "execute_result"
    }
   ],
   "source": [
    "os.listdir()                  # ls"
   ]
  },
  {
   "cell_type": "code",
   "execution_count": 457,
   "metadata": {
    "collapsed": true
   },
   "outputs": [],
   "source": [
    "# 폴더 안에 있는 모든 엑셀 파일을 읽어서 ( == 모든 엑셀 파일을 찾자! )\n",
    "# 이 데이터를 numpy.ndarray 로 만들자."
   ]
  },
  {
   "cell_type": "code",
   "execution_count": 460,
   "metadata": {
    "collapsed": false
   },
   "outputs": [
    {
     "data": {
      "text/plain": [
       "['01 크레딧잡 연봉정보.ipynb', '02 Numpy.ipynb']"
      ]
     },
     "execution_count": 460,
     "metadata": {},
     "output_type": "execute_result"
    }
   ],
   "source": [
    "[\n",
    "    filename\n",
    "    for filename\n",
    "    in os.listdir()\n",
    "    if filename.endswith(\".ipynb\")\n",
    "]"
   ]
  },
  {
   "cell_type": "code",
   "execution_count": 463,
   "metadata": {
    "collapsed": true
   },
   "outputs": [],
   "source": [
    "# 2. 폴더를 생성하고, 삭제하는 명령"
   ]
  },
  {
   "cell_type": "code",
   "execution_count": 472,
   "metadata": {
    "collapsed": false
   },
   "outputs": [],
   "source": [
    "os.makedirs(\"happy\")              # mkdir "
   ]
  },
  {
   "cell_type": "code",
   "execution_count": 474,
   "metadata": {
    "collapsed": false
   },
   "outputs": [
    {
     "ename": "OSError",
     "evalue": "[Errno 39] Directory not empty: 'happy/'",
     "output_type": "error",
     "traceback": [
      "\u001b[0;31m---------------------------------------------------------------------------\u001b[0m",
      "\u001b[0;31mOSError\u001b[0m                                   Traceback (most recent call last)",
      "\u001b[0;32m<ipython-input-474-e35d8cf5cd3b>\u001b[0m in \u001b[0;36m<module>\u001b[0;34m()\u001b[0m\n\u001b[0;32m----> 1\u001b[0;31m \u001b[0mos\u001b[0m\u001b[0;34m.\u001b[0m\u001b[0mrmdir\u001b[0m\u001b[0;34m(\u001b[0m\u001b[0;34m\"happy/\"\u001b[0m\u001b[0;34m)\u001b[0m\u001b[0;34m\u001b[0m\u001b[0m\n\u001b[0m\u001b[1;32m      2\u001b[0m \u001b[0;34m\u001b[0m\u001b[0m\n\u001b[1;32m      3\u001b[0m \u001b[0;31m# shutil ( == High-level File )\u001b[0m\u001b[0;34m\u001b[0m\u001b[0;34m\u001b[0m\u001b[0m\n",
      "\u001b[0;31mOSError\u001b[0m: [Errno 39] Directory not empty: 'happy/'"
     ]
    }
   ],
   "source": [
    "os.rmdir(\"happy/\")\n",
    "\n",
    "# shutil ( == High-level File )"
   ]
  },
  {
   "cell_type": "code",
   "execution_count": 475,
   "metadata": {
    "collapsed": true
   },
   "outputs": [],
   "source": [
    "# os.makedirs(), os.rmdir() \n",
    "# $ mkdir \n",
    "# $ rm       => 폴더를 recursive 하게 지우는 작업 \n",
    "#             =>  ( rm -r ) 폴더 안에 파일이나 폴더가 있을 때 "
   ]
  },
  {
   "cell_type": "code",
   "execution_count": 476,
   "metadata": {
    "collapsed": true
   },
   "outputs": [],
   "source": [
    "import shutil"
   ]
  },
  {
   "cell_type": "code",
   "execution_count": 479,
   "metadata": {
    "collapsed": false
   },
   "outputs": [],
   "source": [
    "# shutil.rmtree(\"./happy/\")   # rm -r"
   ]
  },
  {
   "cell_type": "code",
   "execution_count": 480,
   "metadata": {
    "collapsed": true
   },
   "outputs": [],
   "source": [
    "# 폴더를 초기화하는 일 ...!\n",
    "\n",
    "\n",
    "# if [ 폴더가 있는가? ]\n",
    "#    [폴더를 삭제]\n",
    "# [폴더를 생성]"
   ]
  },
  {
   "cell_type": "code",
   "execution_count": 483,
   "metadata": {
    "collapsed": true
   },
   "outputs": [],
   "source": [
    "if \"happy\" in os.listdir():\n",
    "    shutil.rmtree(\"happy\")\n",
    "os.makedirs(\"happy\")"
   ]
  },
  {
   "cell_type": "code",
   "execution_count": null,
   "metadata": {
    "collapsed": true
   },
   "outputs": [],
   "source": []
  },
  {
   "cell_type": "code",
   "execution_count": 484,
   "metadata": {
    "collapsed": true
   },
   "outputs": [],
   "source": [
    "# 파일 경로 \n",
    "\n",
    "# .        | Current Dir\n",
    "# ..       | Parent Dir\n",
    "# ./, ../, ../../"
   ]
  },
  {
   "cell_type": "code",
   "execution_count": 487,
   "metadata": {
    "collapsed": false
   },
   "outputs": [],
   "source": [
    "# np.loadtxt(\"../../data/payment.csv\", delimiter=\",\")"
   ]
  },
  {
   "cell_type": "code",
   "execution_count": 489,
   "metadata": {
    "collapsed": false
   },
   "outputs": [
    {
     "data": {
      "text/plain": [
       "'a/b/c/d.csv'"
      ]
     },
     "execution_count": 489,
     "metadata": {},
     "output_type": "execute_result"
    }
   ],
   "source": [
    "os.path.join(\"a\", \"b\", \"c\", \"d.csv\")"
   ]
  },
  {
   "cell_type": "code",
   "execution_count": 491,
   "metadata": {
    "collapsed": false
   },
   "outputs": [
    {
     "data": {
      "text/plain": [
       "'../../data/payment.csv'"
      ]
     },
     "execution_count": 491,
     "metadata": {},
     "output_type": "execute_result"
    }
   ],
   "source": [
    "os.path.join(\"..\", \"..\", \"data\", \"payment.csv\")"
   ]
  },
  {
   "cell_type": "code",
   "execution_count": 493,
   "metadata": {
    "collapsed": false
   },
   "outputs": [
    {
     "data": {
      "text/plain": [
       "array([[   1.  ,    2.99],\n",
       "       [   1.  ,    0.99],\n",
       "       [   1.  ,    5.99],\n",
       "       ..., \n",
       "       [ 599.  ,    8.99],\n",
       "       [ 599.  ,    2.99],\n",
       "       [ 599.  ,    2.99]])"
      ]
     },
     "execution_count": 493,
     "metadata": {},
     "output_type": "execute_result"
    }
   ],
   "source": [
    "np.loadtxt(\n",
    "    os.path.join(\"..\", \"..\", \"data\", \"payment.csv\"),\n",
    "    delimiter=\",\",\n",
    ")"
   ]
  },
  {
   "cell_type": "code",
   "execution_count": 495,
   "metadata": {
    "collapsed": true
   },
   "outputs": [],
   "source": [
    "# Jupyter - 데이터분석 위한 도구"
   ]
  },
  {
   "cell_type": "code",
   "execution_count": 496,
   "metadata": {
    "collapsed": true
   },
   "outputs": [],
   "source": [
    "# %, _"
   ]
  },
  {
   "cell_type": "code",
   "execution_count": 497,
   "metadata": {
    "collapsed": false
   },
   "outputs": [
    {
     "name": "stdout",
     "output_type": "stream",
     "text": [
      "01 크레딧잡 연봉정보.ipynb  02 Numpy.ipynb  arr.csv  arr.txt  happy\r\n"
     ]
    }
   ],
   "source": [
    "!ls"
   ]
  },
  {
   "cell_type": "code",
   "execution_count": 498,
   "metadata": {
    "collapsed": false
   },
   "outputs": [
    {
     "name": "stdout",
     "output_type": "stream",
     "text": [
      "total 100\r\n",
      "drwxrwxr-x 4 tacademy tacademy  4096 Nov  8 04:43 .\r\n",
      "drwxrwxr-x 5 tacademy tacademy  4096 Nov  8 00:02 ..\r\n",
      "-rw-rw-r-- 1 tacademy tacademy 24513 Nov  8 01:03 01 크레딧잡 연봉정보.ipynb\r\n",
      "-rw-rw-r-- 1 tacademy tacademy 52933 Nov  8 04:43 02 Numpy.ipynb\r\n",
      "-rw-rw-r-- 1 tacademy tacademy   300 Nov  8 02:37 arr.csv\r\n",
      "-rw-rw-r-- 1 tacademy tacademy   300 Nov  8 02:43 arr.txt\r\n",
      "drwxrwxr-x 2 tacademy tacademy  4096 Nov  8 04:36 happy\r\n",
      "drwxr-xr-x 2 tacademy tacademy  4096 Nov  8 01:03 .ipynb_checkpoints\r\n"
     ]
    }
   ],
   "source": [
    "!ls -al"
   ]
  },
  {
   "cell_type": "code",
   "execution_count": 499,
   "metadata": {
    "collapsed": true
   },
   "outputs": [],
   "source": [
    "!rm -rf happy/"
   ]
  },
  {
   "cell_type": "code",
   "execution_count": 500,
   "metadata": {
    "collapsed": true
   },
   "outputs": [],
   "source": [
    "!mkdir happy"
   ]
  },
  {
   "cell_type": "code",
   "execution_count": 501,
   "metadata": {
    "collapsed": false
   },
   "outputs": [
    {
     "name": "stdout",
     "output_type": "stream",
     "text": [
      "01 크레딧잡 연봉정보.ipynb  02 Numpy.ipynb  arr.csv  arr.txt  happy\r\n"
     ]
    }
   ],
   "source": [
    "!ls"
   ]
  },
  {
   "cell_type": "code",
   "execution_count": 509,
   "metadata": {
    "collapsed": false
   },
   "outputs": [],
   "source": [
    "# [filename for filename in !!ls]"
   ]
  },
  {
   "cell_type": "code",
   "execution_count": 513,
   "metadata": {
    "collapsed": false
   },
   "outputs": [
    {
     "data": {
      "text/plain": [
       "['01 크레딧잡 연봉정보.ipynb', '02 Numpy.ipynb', 'arr.csv', 'arr.txt', 'happy']"
      ]
     },
     "execution_count": 513,
     "metadata": {},
     "output_type": "execute_result"
    }
   ],
   "source": [
    "!!ls"
   ]
  },
  {
   "cell_type": "code",
   "execution_count": 514,
   "metadata": {
    "collapsed": false
   },
   "outputs": [
    {
     "data": {
      "text/plain": [
       "['arr.csv']"
      ]
     },
     "execution_count": 514,
     "metadata": {},
     "output_type": "execute_result"
    }
   ],
   "source": [
    "[filename for filename in _ if filename.endswith(\".csv\")]"
   ]
  },
  {
   "cell_type": "code",
   "execution_count": 515,
   "metadata": {
    "collapsed": true
   },
   "outputs": [],
   "source": [
    "# Copy(복사), Move(이동)"
   ]
  },
  {
   "cell_type": "code",
   "execution_count": 516,
   "metadata": {
    "collapsed": true
   },
   "outputs": [],
   "source": [
    "# # 복사 ( 파일을 읽어서, 그대로 다른 파일에 쓰는 )\n",
    "# def copy(src, dest):\n",
    "#     src_fp = open(src, \"r\")              # Readable => \"r\" => \"rb\"\n",
    "#     dest_fp = open(dest, \"w\")\n",
    "#     dest_fp.write(src_fp.read())\n",
    "#     src_fp.close()\n",
    "#     dest_fp.close()"
   ]
  },
  {
   "cell_type": "code",
   "execution_count": 518,
   "metadata": {
    "collapsed": true
   },
   "outputs": [],
   "source": [
    "# Move"
   ]
  },
  {
   "cell_type": "code",
   "execution_count": 519,
   "metadata": {
    "collapsed": true
   },
   "outputs": [],
   "source": [
    "# shutil.move"
   ]
  },
  {
   "cell_type": "code",
   "execution_count": 520,
   "metadata": {
    "collapsed": false
   },
   "outputs": [
    {
     "name": "stdout",
     "output_type": "stream",
     "text": [
      "01 크레딧잡 연봉정보.ipynb  02 Numpy.ipynb  arr.csv  arr.txt  happy\r\n"
     ]
    }
   ],
   "source": [
    "!ls"
   ]
  },
  {
   "cell_type": "code",
   "execution_count": 521,
   "metadata": {
    "collapsed": true
   },
   "outputs": [],
   "source": [
    "!cp arr.csv arr2.csv"
   ]
  },
  {
   "cell_type": "code",
   "execution_count": 522,
   "metadata": {
    "collapsed": false
   },
   "outputs": [
    {
     "name": "stdout",
     "output_type": "stream",
     "text": [
      "01 크레딧잡 연봉정보.ipynb  02 Numpy.ipynb  arr2.csv  arr.csv  arr.txt\thappy\r\n"
     ]
    }
   ],
   "source": [
    "!ls"
   ]
  },
  {
   "cell_type": "code",
   "execution_count": 523,
   "metadata": {
    "collapsed": true
   },
   "outputs": [],
   "source": [
    "!mv arr2.csv arr3.csv"
   ]
  },
  {
   "cell_type": "code",
   "execution_count": 524,
   "metadata": {
    "collapsed": false
   },
   "outputs": [
    {
     "name": "stdout",
     "output_type": "stream",
     "text": [
      "01 크레딧잡 연봉정보.ipynb  02 Numpy.ipynb  arr3.csv  arr.csv  arr.txt\thappy\r\n"
     ]
    }
   ],
   "source": [
    "!ls"
   ]
  },
  {
   "cell_type": "code",
   "execution_count": 526,
   "metadata": {
    "collapsed": true
   },
   "outputs": [],
   "source": [
    "# 한번에 주석처리 : Ctrl + \"/\" / CMD + \"/\""
   ]
  },
  {
   "cell_type": "code",
   "execution_count": 527,
   "metadata": {
    "collapsed": true
   },
   "outputs": [],
   "source": [
    "# 페이지에서 크로링/파싱\n",
    "# 로그인 ( 입력폼을 찾아서, 텍스트 입력 )\n",
    "# 클릭\n",
    "# 자바스크립트를 강제적으로 실행"
   ]
  },
  {
   "cell_type": "code",
   "execution_count": 528,
   "metadata": {
    "collapsed": true
   },
   "outputs": [],
   "source": [
    "# Selenium ( Test ) - IE, Firefox, Chrome, ..\n",
    "#                         Firefox"
   ]
  },
  {
   "cell_type": "code",
   "execution_count": 529,
   "metadata": {
    "collapsed": true
   },
   "outputs": [],
   "source": [
    "# 윈도우           = 설치가 안되는 라이브러리 O\n",
    "#                => Python 3.X, 윈도우 사용자명 \"한글\" => \"영어\"\n",
    "#                => virtualbox\n",
    "#                => Numpy, Pandas ( O )\n",
    "\n",
    "# Python 3.X ( + PATH )\n",
    "# Jupyter Notebook\n",
    "# Selenium\n",
    "\n",
    "# 맥 ( 리눅스 )     = 설치가 다 되어야 O\n",
    "\n",
    "# => 1. 소스코드를 받아서, 설치 ( .whl )\n",
    "# => 2. pip install _________________   (O)\n",
    "#     => pypi.., github...\n",
    "# => 3. easy_install                    (X)\n",
    "# => 4. anaconda ( conda install )      (X) - jupyter, numpy, pandas\n",
    "\n",
    "# 리눅스 | pyenv, virtualenv, \n",
    "\n",
    "\n",
    "# 리눅스 ( CentOS, Redhat ) : yum install ______________\n",
    "# 리눅스 ( Ubuntu  )        : apt-get install _____________\n",
    "# 맥                       : brew install pyenv, pyenv-virtualenv"
   ]
  },
  {
   "cell_type": "code",
   "execution_count": null,
   "metadata": {
    "collapsed": true
   },
   "outputs": [],
   "source": []
  },
  {
   "cell_type": "code",
   "execution_count": null,
   "metadata": {
    "collapsed": true
   },
   "outputs": [],
   "source": []
  },
  {
   "cell_type": "code",
   "execution_count": null,
   "metadata": {
    "collapsed": true
   },
   "outputs": [],
   "source": []
  },
  {
   "cell_type": "code",
   "execution_count": null,
   "metadata": {
    "collapsed": true
   },
   "outputs": [],
   "source": []
  }
 ],
 "metadata": {
  "kernelspec": {
   "display_name": "Python 3",
   "language": "python",
   "name": "python3"
  },
  "language_info": {
   "codemirror_mode": {
    "name": "ipython",
    "version": 3
   },
   "file_extension": ".py",
   "mimetype": "text/x-python",
   "name": "python",
   "nbconvert_exporter": "python",
   "pygments_lexer": "ipython3",
   "version": "3.5.1"
  }
 },
 "nbformat": 4,
 "nbformat_minor": 1
}
