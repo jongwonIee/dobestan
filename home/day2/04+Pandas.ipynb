{
 "cells": [
  {
   "cell_type": "code",
   "execution_count": 4,
   "metadata": {
    "collapsed": true
   },
   "outputs": [],
   "source": [
    "import numpy as np\n",
    "import pandas as pd\n",
    "from pandas import Series, DataFrame"
   ]
  },
  {
   "cell_type": "code",
   "execution_count": 4,
   "metadata": {
    "collapsed": true
   },
   "outputs": [],
   "source": [
    "# Numpy => Numerical Python \n",
    "# (Scipy) => Scientific Python\n",
    "# Pandas => Panel Data and Data Analysis ( SpreadSheet )"
   ]
  },
  {
   "cell_type": "code",
   "execution_count": 5,
   "metadata": {
    "collapsed": true
   },
   "outputs": [],
   "source": [
    "# One-dimensional ndarray with axis labels (including time series)."
   ]
  },
  {
   "cell_type": "code",
   "execution_count": 6,
   "metadata": {
    "collapsed": false
   },
   "outputs": [],
   "source": [
    "s = Series([1, 2, 3])\n",
    "\n",
    "# label: 0, 1, 2\n",
    "# data(values): 1, 2, 3\n",
    "\n",
    "# dict\n",
    "# list == ndarray"
   ]
  },
  {
   "cell_type": "code",
   "execution_count": 7,
   "metadata": {
    "collapsed": false
   },
   "outputs": [],
   "source": [
    "# s.values == ndarray type"
   ]
  },
  {
   "cell_type": "code",
   "execution_count": 8,
   "metadata": {
    "collapsed": false
   },
   "outputs": [],
   "source": [
    "# s.index.values == ndarray type"
   ]
  },
  {
   "cell_type": "code",
   "execution_count": 9,
   "metadata": {
    "collapsed": false
   },
   "outputs": [],
   "source": [
    "s = Series(\n",
    "    [100, 200, 300],                 # 1 차원\n",
    "    index=[\"철수\", \"영희\", \"민수\", ]\n",
    ")"
   ]
  },
  {
   "cell_type": "code",
   "execution_count": 10,
   "metadata": {
    "collapsed": false
   },
   "outputs": [],
   "source": [
    "s.index.name = \"이름\""
   ]
  },
  {
   "cell_type": "code",
   "execution_count": 11,
   "metadata": {
    "collapsed": false
   },
   "outputs": [],
   "source": [
    "s.name = \"수학 성적\""
   ]
  },
  {
   "cell_type": "code",
   "execution_count": 12,
   "metadata": {
    "collapsed": false
   },
   "outputs": [
    {
     "data": {
      "text/plain": [
       "이름\n",
       "철수    100\n",
       "영희    200\n",
       "민수    300\n",
       "Name: 수학 성적, dtype: int64"
      ]
     },
     "execution_count": 12,
     "metadata": {},
     "output_type": "execute_result"
    }
   ],
   "source": [
    "s"
   ]
  },
  {
   "cell_type": "code",
   "execution_count": 13,
   "metadata": {
    "collapsed": false
   },
   "outputs": [
    {
     "data": {
      "text/plain": [
       "600"
      ]
     },
     "execution_count": 13,
     "metadata": {},
     "output_type": "execute_result"
    }
   ],
   "source": [
    "s.values.sum()"
   ]
  },
  {
   "cell_type": "code",
   "execution_count": 14,
   "metadata": {
    "collapsed": false
   },
   "outputs": [
    {
     "data": {
      "text/plain": [
       "600"
      ]
     },
     "execution_count": 14,
     "metadata": {},
     "output_type": "execute_result"
    }
   ],
   "source": [
    "np.sum(s.values)"
   ]
  },
  {
   "cell_type": "code",
   "execution_count": 15,
   "metadata": {
    "collapsed": false
   },
   "outputs": [
    {
     "data": {
      "text/plain": [
       "600"
      ]
     },
     "execution_count": 15,
     "metadata": {},
     "output_type": "execute_result"
    }
   ],
   "source": [
    "s.sum()"
   ]
  },
  {
   "cell_type": "code",
   "execution_count": 16,
   "metadata": {
    "collapsed": false
   },
   "outputs": [
    {
     "data": {
      "text/plain": [
       "600"
      ]
     },
     "execution_count": 16,
     "metadata": {},
     "output_type": "execute_result"
    }
   ],
   "source": [
    "np.sum(s)"
   ]
  },
  {
   "cell_type": "code",
   "execution_count": null,
   "metadata": {
    "collapsed": true
   },
   "outputs": [],
   "source": []
  },
  {
   "cell_type": "code",
   "execution_count": 17,
   "metadata": {
    "collapsed": true
   },
   "outputs": [],
   "source": [
    "# DataFrame -- Series "
   ]
  },
  {
   "cell_type": "code",
   "execution_count": 3,
   "metadata": {
    "collapsed": false
   },
   "outputs": [
    {
     "ename": "NameError",
     "evalue": "name 'DataFrame' is not defined",
     "output_type": "error",
     "traceback": [
      "\u001b[0;31m---------------------------------------------------------------------------\u001b[0m",
      "\u001b[0;31mNameError\u001b[0m                                 Traceback (most recent call last)",
      "\u001b[0;32m<ipython-input-3-cedb9ed2c6a6>\u001b[0m in \u001b[0;36m<module>\u001b[0;34m()\u001b[0m\n\u001b[0;32m----> 1\u001b[0;31m DataFrame(\n\u001b[0m\u001b[1;32m      2\u001b[0m     \u001b[0mnp\u001b[0m\u001b[0;34m.\u001b[0m\u001b[0mrandom\u001b[0m\u001b[0;34m.\u001b[0m\u001b[0mrandn\u001b[0m\u001b[0;34m(\u001b[0m\u001b[0;36m5\u001b[0m\u001b[0;34m)\u001b[0m\u001b[0;34m,\u001b[0m\u001b[0;34m\u001b[0m\u001b[0m\n\u001b[1;32m      3\u001b[0m )\n",
      "\u001b[0;31mNameError\u001b[0m: name 'DataFrame' is not defined"
     ]
    }
   ],
   "source": [
    "DataFrame(\n",
    "    np.random.randn(5),\n",
    ")"
   ]
  },
  {
   "cell_type": "code",
   "execution_count": 19,
   "metadata": {
    "collapsed": false
   },
   "outputs": [
    {
     "data": {
      "text/plain": [
       "array([ 1.38142963, -1.20355141,  0.08461845,  0.32129751, -1.37408642])"
      ]
     },
     "execution_count": 19,
     "metadata": {},
     "output_type": "execute_result"
    }
   ],
   "source": [
    "np.random.randn(5)"
   ]
  },
  {
   "cell_type": "code",
   "execution_count": 5,
   "metadata": {
    "collapsed": false
   },
   "outputs": [],
   "source": [
    "df = DataFrame(\n",
    "    np.random.randn(6).reshape(3, 2),\n",
    "    columns=[\"price\", \"price2 values\"],\n",
    "    index=[\"코스맥스\", \"코스맥스비티아이\", \"아모레퍼시픽\"]\n",
    ")"
   ]
  },
  {
   "cell_type": "code",
   "execution_count": 21,
   "metadata": {
    "collapsed": false
   },
   "outputs": [
    {
     "data": {
      "text/plain": [
       "'\\n       one       two       three\\n \\n0      0         0          0\\n1      1         1          1\\n2      2         4          8\\n3      3         9          27\\n\\n...\\n9 .... \\n'"
      ]
     },
     "execution_count": 21,
     "metadata": {},
     "output_type": "execute_result"
    }
   ],
   "source": [
    "# df[\"price\"]\n",
    "# df.price\n",
    "\n",
    "# iloc\n",
    "# loc\n",
    "\n",
    "# DataFrame ( \"one\", \"two\", \"three\" )\n",
    "\"\"\"\n",
    "       one       two       three\n",
    " \n",
    "0      0         0          0\n",
    "1      1         1          1\n",
    "2      2         4          8\n",
    "3      3         9          27\n",
    "\n",
    "...\n",
    "9 .... \n",
    "\"\"\""
   ]
  },
  {
   "cell_type": "code",
   "execution_count": 6,
   "metadata": {
    "collapsed": false
   },
   "outputs": [
    {
     "data": {
      "text/html": [
       "<div>\n",
       "<table border=\"1\" class=\"dataframe\">\n",
       "  <thead>\n",
       "    <tr style=\"text-align: right;\">\n",
       "      <th></th>\n",
       "      <th>price</th>\n",
       "      <th>price2 values</th>\n",
       "    </tr>\n",
       "  </thead>\n",
       "  <tbody>\n",
       "    <tr>\n",
       "      <th>코스맥스</th>\n",
       "      <td>0.310420</td>\n",
       "      <td>-1.294797</td>\n",
       "    </tr>\n",
       "    <tr>\n",
       "      <th>코스맥스비티아이</th>\n",
       "      <td>-0.384954</td>\n",
       "      <td>0.375038</td>\n",
       "    </tr>\n",
       "    <tr>\n",
       "      <th>아모레퍼시픽</th>\n",
       "      <td>-2.041481</td>\n",
       "      <td>1.011644</td>\n",
       "    </tr>\n",
       "  </tbody>\n",
       "</table>\n",
       "</div>"
      ],
      "text/plain": [
       "             price  price2 values\n",
       "코스맥스      0.310420      -1.294797\n",
       "코스맥스비티아이 -0.384954       0.375038\n",
       "아모레퍼시픽   -2.041481       1.011644"
      ]
     },
     "execution_count": 6,
     "metadata": {},
     "output_type": "execute_result"
    }
   ],
   "source": [
    "df.loc[\"코스맥스\":\"아모레퍼시픽\"]          # 리스트 다르게\n",
    "                                      # M:N 까지 전부 포함"
   ]
  },
  {
   "cell_type": "code",
   "execution_count": 23,
   "metadata": {
    "collapsed": false
   },
   "outputs": [
    {
     "data": {
      "text/plain": [
       "코스맥스        1.687894\n",
       "코스맥스비티아이   -0.776236\n",
       "아모레퍼시픽      0.672674\n",
       "Name: price, dtype: float64"
      ]
     },
     "execution_count": 23,
     "metadata": {},
     "output_type": "execute_result"
    }
   ],
   "source": [
    "df[\"price\"]  # Series"
   ]
  },
  {
   "cell_type": "code",
   "execution_count": 7,
   "metadata": {
    "collapsed": false
   },
   "outputs": [
    {
     "data": {
      "text/html": [
       "<div>\n",
       "<table border=\"1\" class=\"dataframe\">\n",
       "  <thead>\n",
       "    <tr style=\"text-align: right;\">\n",
       "      <th></th>\n",
       "      <th>price</th>\n",
       "      <th>price2 values</th>\n",
       "    </tr>\n",
       "  </thead>\n",
       "  <tbody>\n",
       "    <tr>\n",
       "      <th>코스맥스</th>\n",
       "      <td>0.310420</td>\n",
       "      <td>-1.294797</td>\n",
       "    </tr>\n",
       "    <tr>\n",
       "      <th>코스맥스비티아이</th>\n",
       "      <td>-0.384954</td>\n",
       "      <td>0.375038</td>\n",
       "    </tr>\n",
       "    <tr>\n",
       "      <th>아모레퍼시픽</th>\n",
       "      <td>-2.041481</td>\n",
       "      <td>1.011644</td>\n",
       "    </tr>\n",
       "  </tbody>\n",
       "</table>\n",
       "</div>"
      ],
      "text/plain": [
       "             price  price2 values\n",
       "코스맥스      0.310420      -1.294797\n",
       "코스맥스비티아이 -0.384954       0.375038\n",
       "아모레퍼시픽   -2.041481       1.011644"
      ]
     },
     "execution_count": 7,
     "metadata": {},
     "output_type": "execute_result"
    }
   ],
   "source": [
    "df[ [\"price\", \"price2 values\"]  ]"
   ]
  },
  {
   "cell_type": "code",
   "execution_count": 13,
   "metadata": {
    "collapsed": false
   },
   "outputs": [
    {
     "data": {
      "text/html": [
       "<div>\n",
       "<table border=\"1\" class=\"dataframe\">\n",
       "  <thead>\n",
       "    <tr style=\"text-align: right;\">\n",
       "      <th></th>\n",
       "      <th>price</th>\n",
       "    </tr>\n",
       "  </thead>\n",
       "  <tbody>\n",
       "    <tr>\n",
       "      <th>코스맥스</th>\n",
       "      <td>0.310420</td>\n",
       "    </tr>\n",
       "    <tr>\n",
       "      <th>코스맥스비티아이</th>\n",
       "      <td>-0.384954</td>\n",
       "    </tr>\n",
       "  </tbody>\n",
       "</table>\n",
       "</div>"
      ],
      "text/plain": [
       "             price\n",
       "코스맥스      0.310420\n",
       "코스맥스비티아이 -0.384954"
      ]
     },
     "execution_count": 13,
     "metadata": {},
     "output_type": "execute_result"
    }
   ],
   "source": [
    "df.iloc[0:2, 0:1]"
   ]
  },
  {
   "cell_type": "code",
   "execution_count": null,
   "metadata": {
    "collapsed": true
   },
   "outputs": [],
   "source": []
  },
  {
   "cell_type": "code",
   "execution_count": 26,
   "metadata": {
    "collapsed": false
   },
   "outputs": [],
   "source": [
    "df.loc[\"한국콜마\"] = [1.0, 2.0]  # 순서대로 맞춰서 리스트"
   ]
  },
  {
   "cell_type": "code",
   "execution_count": 27,
   "metadata": {
    "collapsed": false
   },
   "outputs": [],
   "source": [
    "df.loc[\"네이처리퍼블릭\"] = {\n",
    "    \"price\": 2.0,\n",
    "    \"price2 values\": 3.0\n",
    "} "
   ]
  },
  {
   "cell_type": "code",
   "execution_count": 28,
   "metadata": {
    "collapsed": false
   },
   "outputs": [
    {
     "data": {
      "text/html": [
       "<div>\n",
       "<table border=\"1\" class=\"dataframe\">\n",
       "  <thead>\n",
       "    <tr style=\"text-align: right;\">\n",
       "      <th></th>\n",
       "      <th>price</th>\n",
       "      <th>price2 values</th>\n",
       "    </tr>\n",
       "  </thead>\n",
       "  <tbody>\n",
       "    <tr>\n",
       "      <th>코스맥스</th>\n",
       "      <td>1.687894</td>\n",
       "      <td>0.961433</td>\n",
       "    </tr>\n",
       "    <tr>\n",
       "      <th>코스맥스비티아이</th>\n",
       "      <td>-0.776236</td>\n",
       "      <td>-0.293424</td>\n",
       "    </tr>\n",
       "    <tr>\n",
       "      <th>아모레퍼시픽</th>\n",
       "      <td>0.672674</td>\n",
       "      <td>-0.173082</td>\n",
       "    </tr>\n",
       "    <tr>\n",
       "      <th>한국콜마</th>\n",
       "      <td>1.000000</td>\n",
       "      <td>2.000000</td>\n",
       "    </tr>\n",
       "    <tr>\n",
       "      <th>네이처리퍼블릭</th>\n",
       "      <td>2.000000</td>\n",
       "      <td>3.000000</td>\n",
       "    </tr>\n",
       "  </tbody>\n",
       "</table>\n",
       "</div>"
      ],
      "text/plain": [
       "             price  price2 values\n",
       "코스맥스      1.687894       0.961433\n",
       "코스맥스비티아이 -0.776236      -0.293424\n",
       "아모레퍼시픽    0.672674      -0.173082\n",
       "한국콜마      1.000000       2.000000\n",
       "네이처리퍼블릭   2.000000       3.000000"
      ]
     },
     "execution_count": 28,
     "metadata": {},
     "output_type": "execute_result"
    }
   ],
   "source": [
    "df"
   ]
  },
  {
   "cell_type": "code",
   "execution_count": 29,
   "metadata": {
    "collapsed": false
   },
   "outputs": [
    {
     "data": {
      "text/plain": [
       "price            1.687894\n",
       "price2 values    0.961433\n",
       "Name: 코스맥스, dtype: float64"
      ]
     },
     "execution_count": 29,
     "metadata": {},
     "output_type": "execute_result"
    }
   ],
   "source": [
    "df.loc[\"코스맥스\", \"price\":\"price2 values\"]"
   ]
  },
  {
   "cell_type": "code",
   "execution_count": 30,
   "metadata": {
    "collapsed": true
   },
   "outputs": [],
   "source": [
    "# 한꺼번에 만드는 방법\n",
    "\n",
    "students = [\n",
    "    {\"name\": \"안수찬\", \"email\": \"dobestan@gmail.com\"},\n",
    "    {\"name\": \"안수찬2\", \"email\": \"dobestan@naver.com\"}\n",
    "]"
   ]
  },
  {
   "cell_type": "code",
   "execution_count": 31,
   "metadata": {
    "collapsed": false
   },
   "outputs": [],
   "source": [
    "a = [\n",
    "    {\n",
    "        \"one\": i ** 1,\n",
    "        \"two\": i ** 2,\n",
    "        \"three\": i ** 3,\n",
    "    }\n",
    "    for i\n",
    "    in range(1, 10 + 1)\n",
    "]"
   ]
  },
  {
   "cell_type": "code",
   "execution_count": 32,
   "metadata": {
    "collapsed": false
   },
   "outputs": [],
   "source": [
    "# DataFrame(a, index=np.arange(1, 10 + 1))"
   ]
  },
  {
   "cell_type": "code",
   "execution_count": 33,
   "metadata": {
    "collapsed": false
   },
   "outputs": [],
   "source": [
    "df = DataFrame(columns=[\"one\", \"two\", \"three\"])"
   ]
  },
  {
   "cell_type": "code",
   "execution_count": 34,
   "metadata": {
    "collapsed": true
   },
   "outputs": [],
   "source": [
    "for i in range(1, 10 + 1):\n",
    "    df.loc[i] = [i ** 1, i ** 2, i ** 3]"
   ]
  },
  {
   "cell_type": "code",
   "execution_count": 35,
   "metadata": {
    "collapsed": false
   },
   "outputs": [],
   "source": [
    "# 직방 데이터 append"
   ]
  },
  {
   "cell_type": "code",
   "execution_count": 36,
   "metadata": {
    "collapsed": false
   },
   "outputs": [],
   "source": [
    "df = DataFrame(columns=[\"one\", \"two\", \"three\"])"
   ]
  },
  {
   "cell_type": "code",
   "execution_count": 37,
   "metadata": {
    "collapsed": true
   },
   "outputs": [],
   "source": [
    "for i in range(10):\n",
    "    df.loc[len(df)] = [i ** 1, i ** 2, i ** 3]"
   ]
  },
  {
   "cell_type": "code",
   "execution_count": 38,
   "metadata": {
    "collapsed": false
   },
   "outputs": [],
   "source": [
    "df.loc[len(df)] = [\"a\", \"b\", \"c\"]"
   ]
  },
  {
   "cell_type": "code",
   "execution_count": 39,
   "metadata": {
    "collapsed": false
   },
   "outputs": [],
   "source": [
    "df.loc[len(df)] = [\"d\", \"e\", \"f\"]"
   ]
  },
  {
   "cell_type": "code",
   "execution_count": null,
   "metadata": {
    "collapsed": false
   },
   "outputs": [],
   "source": []
  },
  {
   "cell_type": "code",
   "execution_count": null,
   "metadata": {
    "collapsed": true
   },
   "outputs": [],
   "source": []
  },
  {
   "cell_type": "code",
   "execution_count": 40,
   "metadata": {
    "collapsed": true
   },
   "outputs": [],
   "source": [
    "# 화장품 관련주 : 한국콜마, 코스맥스, 아모레퍼시픽\n",
    "# 2016년 1/2/3분기 성장률 지표 \n",
    "\n",
    "# 3 x 3"
   ]
  },
  {
   "cell_type": "code",
   "execution_count": 41,
   "metadata": {
    "collapsed": false
   },
   "outputs": [],
   "source": [
    "df = DataFrame(\n",
    "    np.random.randn(3, 3),\n",
    "    columns=[\"한국콜마\", \"코스맥스\", \"아모레퍼시픽\"],\n",
    "    index=[\"1분기\", \"2분기\", \"3분기\"],\n",
    ")"
   ]
  },
  {
   "cell_type": "code",
   "execution_count": 42,
   "metadata": {
    "collapsed": false
   },
   "outputs": [],
   "source": [
    "df.index.name = \"분기별\""
   ]
  },
  {
   "cell_type": "code",
   "execution_count": 43,
   "metadata": {
    "collapsed": false
   },
   "outputs": [],
   "source": [
    "df.columns.name = \"종목명\""
   ]
  },
  {
   "cell_type": "code",
   "execution_count": 44,
   "metadata": {
    "collapsed": false
   },
   "outputs": [],
   "source": [
    "# df.reset_index()"
   ]
  },
  {
   "cell_type": "code",
   "execution_count": 45,
   "metadata": {
    "collapsed": false
   },
   "outputs": [
    {
     "data": {
      "text/html": [
       "<div>\n",
       "<table border=\"1\" class=\"dataframe\">\n",
       "  <thead>\n",
       "    <tr style=\"text-align: right;\">\n",
       "      <th>종목명</th>\n",
       "      <th>분기별</th>\n",
       "      <th>한국콜마</th>\n",
       "      <th>아모레퍼시픽</th>\n",
       "    </tr>\n",
       "    <tr>\n",
       "      <th>코스맥스</th>\n",
       "      <th></th>\n",
       "      <th></th>\n",
       "      <th></th>\n",
       "    </tr>\n",
       "  </thead>\n",
       "  <tbody>\n",
       "    <tr>\n",
       "      <th>-0.969594</th>\n",
       "      <td>1분기</td>\n",
       "      <td>0.578048</td>\n",
       "      <td>-1.035463</td>\n",
       "    </tr>\n",
       "    <tr>\n",
       "      <th>0.881773</th>\n",
       "      <td>2분기</td>\n",
       "      <td>1.002698</td>\n",
       "      <td>0.727873</td>\n",
       "    </tr>\n",
       "    <tr>\n",
       "      <th>-2.919537</th>\n",
       "      <td>3분기</td>\n",
       "      <td>-1.528086</td>\n",
       "      <td>-0.220735</td>\n",
       "    </tr>\n",
       "  </tbody>\n",
       "</table>\n",
       "</div>"
      ],
      "text/plain": [
       "종목명        분기별      한국콜마    아모레퍼시픽\n",
       "코스맥스                              \n",
       "-0.969594  1분기  0.578048 -1.035463\n",
       " 0.881773  2분기  1.002698  0.727873\n",
       "-2.919537  3분기 -1.528086 -0.220735"
      ]
     },
     "execution_count": 45,
     "metadata": {},
     "output_type": "execute_result"
    }
   ],
   "source": [
    "df.reset_index().set_index(\"코스맥스\")\n",
    "# .reset_index(), .set_index()\n",
    "# 원본 DataFrame 변경 X, copy 해서 새로운 Df\n",
    "\n",
    "# df = df.reset_index().set_index(\"코스맥스\")\n",
    "# df.reset_index(inplace=True)"
   ]
  },
  {
   "cell_type": "code",
   "execution_count": 46,
   "metadata": {
    "collapsed": false
   },
   "outputs": [],
   "source": [
    "# df.rename(columns={\"코스맥스\": \"COSMAX\"})"
   ]
  },
  {
   "cell_type": "code",
   "execution_count": 47,
   "metadata": {
    "collapsed": true
   },
   "outputs": [],
   "source": [
    "df = DataFrame(\n",
    "    np.random.randn(3, 4),\n",
    "    columns=[\n",
    "        [\"화장품\", \"화장품\", \"화장품\", \"게임\"],\n",
    "        [\"한국콜마\", \"코스맥스\", \"아모레퍼시픽\", \"썬데이토즈\"],\n",
    "    ],\n",
    "    index=[\"1분기\", \"2분기\", \"3분기\"],\n",
    ")\n",
    "\n",
    "df.columns.names = [\"종목 카테고리\", \"종목명\"]\n",
    "# df.index.names = [\"년도별\", \"분기별\"]"
   ]
  },
  {
   "cell_type": "code",
   "execution_count": 48,
   "metadata": {
    "collapsed": true
   },
   "outputs": [],
   "source": [
    "# 1. 칼럼 <=> 열 \n",
    "# 2. column | 카테고리별 평균 성장률, 종목별 평균 성장률\n",
    "# 3. index | 연도별 평균 성장률, 분기별 평균 성장률 "
   ]
  },
  {
   "cell_type": "code",
   "execution_count": 49,
   "metadata": {
    "collapsed": false
   },
   "outputs": [],
   "source": [
    "# df.unstack(level=0)\n",
    "\n",
    "# 기본 level = 제일 바깥에 있는 index/column\n",
    "\n",
    "# 인덱스 2개 \n",
    "# 칼럼 2개 \n",
    "\n",
    "# ------\n",
    "# 인덱스 년도 1개 \n",
    "# 칼럼 ( 카테고리, 종목명, 분기별 )"
   ]
  },
  {
   "cell_type": "code",
   "execution_count": 50,
   "metadata": {
    "collapsed": false
   },
   "outputs": [],
   "source": [
    "# df.mean(axis=0, level=1)\n",
    "\n",
    "# axis, level\n",
    "\n",
    "# axis, level"
   ]
  },
  {
   "cell_type": "code",
   "execution_count": 268,
   "metadata": {
    "collapsed": false
   },
   "outputs": [
    {
     "data": {
      "text/html": [
       "<div>\n",
       "<table border=\"1\" class=\"dataframe\">\n",
       "  <thead>\n",
       "    <tr style=\"text-align: right;\">\n",
       "      <th></th>\n",
       "      <th>종목 카테고리</th>\n",
       "      <th>게임</th>\n",
       "      <th>화장품</th>\n",
       "    </tr>\n",
       "    <tr>\n",
       "      <th>년도별</th>\n",
       "      <th>분기별</th>\n",
       "      <th></th>\n",
       "      <th></th>\n",
       "    </tr>\n",
       "  </thead>\n",
       "  <tbody>\n",
       "    <tr>\n",
       "      <th rowspan=\"3\" valign=\"top\">2016</th>\n",
       "      <th>1분기</th>\n",
       "      <td>-0.600289</td>\n",
       "      <td>-0.625725</td>\n",
       "    </tr>\n",
       "    <tr>\n",
       "      <th>2분기</th>\n",
       "      <td>-1.246596</td>\n",
       "      <td>-0.230724</td>\n",
       "    </tr>\n",
       "    <tr>\n",
       "      <th>3분기</th>\n",
       "      <td>-1.446302</td>\n",
       "      <td>-0.285768</td>\n",
       "    </tr>\n",
       "  </tbody>\n",
       "</table>\n",
       "</div>"
      ],
      "text/plain": [
       "종목 카테고리         게임       화장품\n",
       "년도별  분기별                    \n",
       "2016 1분기 -0.600289 -0.625725\n",
       "     2분기 -1.246596 -0.230724\n",
       "     3분기 -1.446302 -0.285768"
      ]
     },
     "execution_count": 268,
     "metadata": {},
     "output_type": "execute_result"
    }
   ],
   "source": [
    "df.mean(axis=1, level=0)"
   ]
  },
  {
   "cell_type": "code",
   "execution_count": null,
   "metadata": {
    "collapsed": true
   },
   "outputs": [],
   "source": []
  },
  {
   "cell_type": "code",
   "execution_count": 272,
   "metadata": {
    "collapsed": false
   },
   "outputs": [],
   "source": [
    "df =  DataFrame(\n",
    "    np.random.randn(4, 10),\n",
    ")"
   ]
  },
  {
   "cell_type": "code",
   "execution_count": 275,
   "metadata": {
    "collapsed": true
   },
   "outputs": [],
   "source": [
    "df.to_csv(\n",
    "    \"./first.csv\",\n",
    "    index=False,\n",
    "    header=False,\n",
    ")\n",
    "# index=True,\n",
    "# header=True"
   ]
  },
  {
   "cell_type": "code",
   "execution_count": 280,
   "metadata": {
    "collapsed": false
   },
   "outputs": [],
   "source": [
    "# pd.read_csv(\"./first.csv\", header=None)"
   ]
  },
  {
   "cell_type": "code",
   "execution_count": 284,
   "metadata": {
    "collapsed": false
   },
   "outputs": [],
   "source": [
    "# pd.read_csv(\"./first.csv\", header=False)"
   ]
  },
  {
   "cell_type": "code",
   "execution_count": 288,
   "metadata": {
    "collapsed": false
   },
   "outputs": [
    {
     "data": {
      "text/html": [
       "<div>\n",
       "<table border=\"1\" class=\"dataframe\">\n",
       "  <thead>\n",
       "    <tr>\n",
       "      <th>종목 카테고리</th>\n",
       "      <th colspan=\"3\" halign=\"left\">화장품</th>\n",
       "      <th>게임</th>\n",
       "    </tr>\n",
       "    <tr>\n",
       "      <th>종목명</th>\n",
       "      <th>한국콜마</th>\n",
       "      <th>코스맥스</th>\n",
       "      <th>아모레퍼시픽</th>\n",
       "      <th>썬데이토즈</th>\n",
       "    </tr>\n",
       "  </thead>\n",
       "  <tbody>\n",
       "    <tr>\n",
       "      <th>1분기</th>\n",
       "      <td>0.193707</td>\n",
       "      <td>-0.709888</td>\n",
       "      <td>-0.223959</td>\n",
       "      <td>-1.008255</td>\n",
       "    </tr>\n",
       "    <tr>\n",
       "      <th>2분기</th>\n",
       "      <td>0.196683</td>\n",
       "      <td>0.773043</td>\n",
       "      <td>-0.593886</td>\n",
       "      <td>-1.651100</td>\n",
       "    </tr>\n",
       "    <tr>\n",
       "      <th>3분기</th>\n",
       "      <td>0.278775</td>\n",
       "      <td>-0.289025</td>\n",
       "      <td>0.103315</td>\n",
       "      <td>0.243825</td>\n",
       "    </tr>\n",
       "  </tbody>\n",
       "</table>\n",
       "</div>"
      ],
      "text/plain": [
       "종목 카테고리       화장품                            게임\n",
       "종목명          한국콜마      코스맥스    아모레퍼시픽     썬데이토즈\n",
       "1분기      0.193707 -0.709888 -0.223959 -1.008255\n",
       "2분기      0.196683  0.773043 -0.593886 -1.651100\n",
       "3분기      0.278775 -0.289025  0.103315  0.243825"
      ]
     },
     "execution_count": 288,
     "metadata": {},
     "output_type": "execute_result"
    }
   ],
   "source": [
    "df"
   ]
  },
  {
   "cell_type": "code",
   "execution_count": 289,
   "metadata": {
    "collapsed": true
   },
   "outputs": [],
   "source": [
    "df.to_csv(\"./prices.csv\", index=False)"
   ]
  },
  {
   "cell_type": "code",
   "execution_count": 292,
   "metadata": {
    "collapsed": false
   },
   "outputs": [
    {
     "data": {
      "text/html": [
       "<div>\n",
       "<table border=\"1\" class=\"dataframe\">\n",
       "  <thead>\n",
       "    <tr>\n",
       "      <th></th>\n",
       "      <th colspan=\"3\" halign=\"left\">화장품</th>\n",
       "      <th>게임</th>\n",
       "    </tr>\n",
       "    <tr>\n",
       "      <th></th>\n",
       "      <th>한국콜마</th>\n",
       "      <th>코스맥스</th>\n",
       "      <th>아모레퍼시픽</th>\n",
       "      <th>썬데이토즈</th>\n",
       "    </tr>\n",
       "  </thead>\n",
       "  <tbody>\n",
       "    <tr>\n",
       "      <th>0</th>\n",
       "      <td>0.193707</td>\n",
       "      <td>-0.709888</td>\n",
       "      <td>-0.223959</td>\n",
       "      <td>-1.008255</td>\n",
       "    </tr>\n",
       "    <tr>\n",
       "      <th>1</th>\n",
       "      <td>0.196683</td>\n",
       "      <td>0.773043</td>\n",
       "      <td>-0.593886</td>\n",
       "      <td>-1.651100</td>\n",
       "    </tr>\n",
       "    <tr>\n",
       "      <th>2</th>\n",
       "      <td>0.278775</td>\n",
       "      <td>-0.289025</td>\n",
       "      <td>0.103315</td>\n",
       "      <td>0.243825</td>\n",
       "    </tr>\n",
       "  </tbody>\n",
       "</table>\n",
       "</div>"
      ],
      "text/plain": [
       "        화장품                            게임\n",
       "       한국콜마      코스맥스    아모레퍼시픽     썬데이토즈\n",
       "0  0.193707 -0.709888 -0.223959 -1.008255\n",
       "1  0.196683  0.773043 -0.593886 -1.651100\n",
       "2  0.278775 -0.289025  0.103315  0.243825"
      ]
     },
     "execution_count": 292,
     "metadata": {},
     "output_type": "execute_result"
    }
   ],
   "source": [
    "pd.read_csv(\"./prices.csv\", header=[0, 1])"
   ]
  },
  {
   "cell_type": "code",
   "execution_count": 293,
   "metadata": {
    "collapsed": true
   },
   "outputs": [],
   "source": [
    "# 주식 데이터"
   ]
  },
  {
   "cell_type": "code",
   "execution_count": 295,
   "metadata": {
    "collapsed": true
   },
   "outputs": [],
   "source": [
    "# data/prices.csv ( 코스맥스 )\n",
    "\n",
    "# 사드\n",
    "# 유상증자 "
   ]
  },
  {
   "cell_type": "code",
   "execution_count": 51,
   "metadata": {
    "collapsed": true
   },
   "outputs": [],
   "source": [
    "df = pd.read_csv(\"../../data/prices.csv\")"
   ]
  },
  {
   "cell_type": "code",
   "execution_count": 298,
   "metadata": {
    "collapsed": false
   },
   "outputs": [],
   "source": [
    "# df          # OHLC ( Open High Low Close )\n",
    "            # t-o-h-l-c-volumn"
   ]
  },
  {
   "cell_type": "code",
   "execution_count": 52,
   "metadata": {
    "collapsed": false
   },
   "outputs": [
    {
     "ename": "AttributeError",
     "evalue": "'DataFrame' object has no attribute 'Date'",
     "output_type": "error",
     "traceback": [
      "\u001b[0;31m---------------------------------------------------------------------------\u001b[0m",
      "\u001b[0;31mAttributeError\u001b[0m                            Traceback (most recent call last)",
      "\u001b[0;32m<ipython-input-52-a26d2e7b9baf>\u001b[0m in \u001b[0;36m<module>\u001b[0;34m()\u001b[0m\n\u001b[1;32m      1\u001b[0m \u001b[0;31m# Date !\u001b[0m\u001b[0;34m\u001b[0m\u001b[0;34m\u001b[0m\u001b[0m\n\u001b[1;32m      2\u001b[0m \u001b[0;31m# 11월 4일 ( 11월 3일의 하루 후, 11월 5일의 하루 전 )\u001b[0m\u001b[0;34m\u001b[0m\u001b[0;34m\u001b[0m\u001b[0m\n\u001b[0;32m----> 3\u001b[0;31m \u001b[0mdf\u001b[0m\u001b[0;34m.\u001b[0m\u001b[0mDate\u001b[0m\u001b[0;34m.\u001b[0m\u001b[0mvalues\u001b[0m\u001b[0;34m.\u001b[0m\u001b[0mdtype\u001b[0m\u001b[0;34m\u001b[0m\u001b[0m\n\u001b[0m\u001b[1;32m      4\u001b[0m \u001b[0;34m\u001b[0m\u001b[0m\n\u001b[1;32m      5\u001b[0m \u001b[0;31m# \"O\" ( Object ) ( String )\u001b[0m\u001b[0;34m\u001b[0m\u001b[0;34m\u001b[0m\u001b[0m\n",
      "\u001b[0;32m/usr/local/lib/python3.4/dist-packages/pandas/core/generic.py\u001b[0m in \u001b[0;36m__getattr__\u001b[0;34m(self, name)\u001b[0m\n\u001b[1;32m   2670\u001b[0m             \u001b[0;32mif\u001b[0m \u001b[0mname\u001b[0m \u001b[0;32min\u001b[0m \u001b[0mself\u001b[0m\u001b[0;34m.\u001b[0m\u001b[0m_info_axis\u001b[0m\u001b[0;34m:\u001b[0m\u001b[0;34m\u001b[0m\u001b[0m\n\u001b[1;32m   2671\u001b[0m                 \u001b[0;32mreturn\u001b[0m \u001b[0mself\u001b[0m\u001b[0;34m[\u001b[0m\u001b[0mname\u001b[0m\u001b[0;34m]\u001b[0m\u001b[0;34m\u001b[0m\u001b[0m\n\u001b[0;32m-> 2672\u001b[0;31m             \u001b[0;32mreturn\u001b[0m \u001b[0mobject\u001b[0m\u001b[0;34m.\u001b[0m\u001b[0m__getattribute__\u001b[0m\u001b[0;34m(\u001b[0m\u001b[0mself\u001b[0m\u001b[0;34m,\u001b[0m \u001b[0mname\u001b[0m\u001b[0;34m)\u001b[0m\u001b[0;34m\u001b[0m\u001b[0m\n\u001b[0m\u001b[1;32m   2673\u001b[0m \u001b[0;34m\u001b[0m\u001b[0m\n\u001b[1;32m   2674\u001b[0m     \u001b[0;32mdef\u001b[0m \u001b[0m__setattr__\u001b[0m\u001b[0;34m(\u001b[0m\u001b[0mself\u001b[0m\u001b[0;34m,\u001b[0m \u001b[0mname\u001b[0m\u001b[0;34m,\u001b[0m \u001b[0mvalue\u001b[0m\u001b[0;34m)\u001b[0m\u001b[0;34m:\u001b[0m\u001b[0;34m\u001b[0m\u001b[0m\n",
      "\u001b[0;31mAttributeError\u001b[0m: 'DataFrame' object has no attribute 'Date'"
     ]
    }
   ],
   "source": [
    "# Date !\n",
    "# 11월 4일 ( 11월 3일의 하루 후, 11월 5일의 하루 전 )\n",
    "df.Date.values.dtype\n",
    "\n",
    "# \"O\" ( Object ) ( String )"
   ]
  },
  {
   "cell_type": "code",
   "execution_count": 308,
   "metadata": {
    "collapsed": false
   },
   "outputs": [
    {
     "data": {
      "text/plain": [
       "'4-Nov-16'"
      ]
     },
     "execution_count": 308,
     "metadata": {},
     "output_type": "execute_result"
    }
   ],
   "source": [
    "df.Date.values[0]\n",
    "# \"금요일은 외인들이 보수적으로 매수한다.\""
   ]
  },
  {
   "cell_type": "code",
   "execution_count": 315,
   "metadata": {
    "collapsed": false
   },
   "outputs": [],
   "source": [
    "# pd.to_datetime(\"15년 10월 31일\")"
   ]
  },
  {
   "cell_type": "code",
   "execution_count": 317,
   "metadata": {
    "collapsed": false
   },
   "outputs": [
    {
     "data": {
      "text/plain": [
       "0    4-Nov-16\n",
       "1    3-Nov-16\n",
       "2    2-Nov-16\n",
       "Name: Date, dtype: object"
      ]
     },
     "execution_count": 317,
     "metadata": {},
     "output_type": "execute_result"
    }
   ],
   "source": [
    "df.Date[:3]"
   ]
  },
  {
   "cell_type": "code",
   "execution_count": 321,
   "metadata": {
    "collapsed": false
   },
   "outputs": [],
   "source": [
    "df[\"Comment\"] = \"\"  # df[\"Comment\"] : Getter"
   ]
  },
  {
   "cell_type": "code",
   "execution_count": 330,
   "metadata": {
    "collapsed": false
   },
   "outputs": [],
   "source": [
    "# df[\"Date\"] = pd.to_datetime(df.Date)\n",
    "# df.set_index(\"Date\")\n",
    "pd.read_csv?"
   ]
  },
  {
   "cell_type": "code",
   "execution_count": 331,
   "metadata": {
    "collapsed": false
   },
   "outputs": [
    {
     "data": {
      "text/html": [
       "<div>\n",
       "<table border=\"1\" class=\"dataframe\">\n",
       "  <thead>\n",
       "    <tr style=\"text-align: right;\">\n",
       "      <th></th>\n",
       "      <th>Open</th>\n",
       "      <th>High</th>\n",
       "      <th>Low</th>\n",
       "      <th>Close</th>\n",
       "      <th>Volume</th>\n",
       "    </tr>\n",
       "    <tr>\n",
       "      <th>Date</th>\n",
       "      <th></th>\n",
       "      <th></th>\n",
       "      <th></th>\n",
       "      <th></th>\n",
       "      <th></th>\n",
       "    </tr>\n",
       "  </thead>\n",
       "  <tbody>\n",
       "    <tr>\n",
       "      <th>2016-11-04</th>\n",
       "      <td>119000.0</td>\n",
       "      <td>123500.0</td>\n",
       "      <td>118000.0</td>\n",
       "      <td>119000.0</td>\n",
       "      <td>96227</td>\n",
       "    </tr>\n",
       "    <tr>\n",
       "      <th>2016-11-03</th>\n",
       "      <td>113000.0</td>\n",
       "      <td>118500.0</td>\n",
       "      <td>111500.0</td>\n",
       "      <td>118000.0</td>\n",
       "      <td>78996</td>\n",
       "    </tr>\n",
       "    <tr>\n",
       "      <th>2016-11-02</th>\n",
       "      <td>117500.0</td>\n",
       "      <td>117500.0</td>\n",
       "      <td>113000.0</td>\n",
       "      <td>113500.0</td>\n",
       "      <td>59968</td>\n",
       "    </tr>\n",
       "    <tr>\n",
       "      <th>2016-11-01</th>\n",
       "      <td>116500.0</td>\n",
       "      <td>119000.0</td>\n",
       "      <td>114000.0</td>\n",
       "      <td>116500.0</td>\n",
       "      <td>58975</td>\n",
       "    </tr>\n",
       "    <tr>\n",
       "      <th>2016-10-31</th>\n",
       "      <td>120000.0</td>\n",
       "      <td>122000.0</td>\n",
       "      <td>115000.0</td>\n",
       "      <td>115500.0</td>\n",
       "      <td>87792</td>\n",
       "    </tr>\n",
       "  </tbody>\n",
       "</table>\n",
       "</div>"
      ],
      "text/plain": [
       "                Open      High       Low     Close  Volume\n",
       "Date                                                      \n",
       "2016-11-04  119000.0  123500.0  118000.0  119000.0   96227\n",
       "2016-11-03  113000.0  118500.0  111500.0  118000.0   78996\n",
       "2016-11-02  117500.0  117500.0  113000.0  113500.0   59968\n",
       "2016-11-01  116500.0  119000.0  114000.0  116500.0   58975\n",
       "2016-10-31  120000.0  122000.0  115000.0  115500.0   87792"
      ]
     },
     "execution_count": 331,
     "metadata": {},
     "output_type": "execute_result"
    }
   ],
   "source": [
    "df = pd.read_csv(\n",
    "    \"../../data/prices.csv\",\n",
    "    parse_dates=[0],\n",
    "    index_col=0,\n",
    ")\n",
    "df.head(5)"
   ]
  },
  {
   "cell_type": "code",
   "execution_count": 332,
   "metadata": {
    "collapsed": true
   },
   "outputs": [],
   "source": [
    "%matplotlib inline\n",
    "# nbagg\n",
    "\n",
    "# \"Matplotlib\" backend::inline"
   ]
  },
  {
   "cell_type": "code",
   "execution_count": 334,
   "metadata": {
    "collapsed": false
   },
   "outputs": [],
   "source": [
    "# df.Close.plot(title=\"COSMAX 2016\")"
   ]
  },
  {
   "cell_type": "code",
   "execution_count": 335,
   "metadata": {
    "collapsed": false
   },
   "outputs": [
    {
     "data": {
      "text/plain": [
       "<matplotlib.axes._subplots.AxesSubplot at 0x7f10157d5390>"
      ]
     },
     "execution_count": 335,
     "metadata": {},
     "output_type": "execute_result"
    },
    {
     "data": {
      "image/png": "[encoded data removed]",
      "text/plain": [
       "<matplotlib.figure.Figure at 0x7f101839e0b8>"
      ]
     },
     "metadata": {},
     "output_type": "display_data"
    }
   ],
   "source": [
    "df.Volume.plot(kind=\"bar\", title=\"COSMAX 2016 Volume\")"
   ]
  },
  {
   "cell_type": "code",
   "execution_count": null,
   "metadata": {
    "collapsed": true
   },
   "outputs": [],
   "source": []
  },
  {
   "cell_type": "code",
   "execution_count": 336,
   "metadata": {
    "collapsed": true
   },
   "outputs": [],
   "source": [
    "# 데이터베이스 에서 하던 작업 == 엑셀에서 하던 작업 \n",
    "\n",
    "# GROUP_BY ( CrossTable, Pivot Table, )\n",
    "# JOIN ( Table )\n",
    "\n",
    "# Python, SQL, 엑셀, 자동화 ( Python API, Linux Commands )"
   ]
  },
  {
   "cell_type": "code",
   "execution_count": null,
   "metadata": {
    "collapsed": true
   },
   "outputs": [],
   "source": []
  },
  {
   "cell_type": "code",
   "execution_count": 338,
   "metadata": {
    "collapsed": false
   },
   "outputs": [],
   "source": [
    "import pandas as pd\n",
    "import MySQLdb\n",
    "\n",
    "\n",
    "db = MySQLdb.connect(\n",
    "    \"db.fastcamp.us\",  # DATABASE_HOST\n",
    "    \"root\",  # DATABASE_USERNAME\n",
    "    \"dkstncks\",  # DATABASE_PASSWORD\n",
    "    \"sakila\",  # DATABASE_NAME\n",
    "    charset='utf8',\n",
    ")# \n",
    "\n",
    "SQL_QUERY = \"\"\"\n",
    "    SELECT *\n",
    "    FROM payment\n",
    "    ;\n",
    "\"\"\"\n",
    "\n",
    "df = pd.read_sql(SQL_QUERY, db)"
   ]
  },
  {
   "cell_type": "code",
   "execution_count": 339,
   "metadata": {
    "collapsed": true
   },
   "outputs": [],
   "source": [
    "df.to_csv(\"../../data/payment.csv\", index=False)"
   ]
  },
  {
   "cell_type": "code",
   "execution_count": 342,
   "metadata": {
    "collapsed": false
   },
   "outputs": [],
   "source": [
    "df = pd.read_csv(\"../../data/payment.csv\")"
   ]
  },
  {
   "cell_type": "code",
   "execution_count": 343,
   "metadata": {
    "collapsed": false
   },
   "outputs": [
    {
     "data": {
      "text/plain": [
       "(16049, 7)"
      ]
     },
     "execution_count": 343,
     "metadata": {},
     "output_type": "execute_result"
    }
   ],
   "source": [
    "df.shape"
   ]
  },
  {
   "cell_type": "code",
   "execution_count": 344,
   "metadata": {
    "collapsed": true
   },
   "outputs": [],
   "source": [
    "# 전체 매출 구하기\n",
    "# 유저별 매출 구하기"
   ]
  },
  {
   "cell_type": "code",
   "execution_count": 351,
   "metadata": {
    "collapsed": false
   },
   "outputs": [],
   "source": [
    "df.customer_id   # Series\n",
    "                 # index, values(\"customer_id\" column)\n",
    "    \n",
    "df.customer_id == 1    # Series\n",
    "\n",
    "customer_1_df = df[   df.customer_id == 1   ]"
   ]
  },
  {
   "cell_type": "code",
   "execution_count": 356,
   "metadata": {
    "collapsed": false
   },
   "outputs": [],
   "source": [
    "customer_groups = df.groupby(\"customer_id\")"
   ]
  },
  {
   "cell_type": "code",
   "execution_count": 358,
   "metadata": {
    "collapsed": false
   },
   "outputs": [
    {
     "data": {
      "text/html": [
       "<div>\n",
       "<table border=\"1\" class=\"dataframe\">\n",
       "  <thead>\n",
       "    <tr style=\"text-align: right;\">\n",
       "      <th></th>\n",
       "      <th>payment_id</th>\n",
       "      <th>customer_id</th>\n",
       "      <th>staff_id</th>\n",
       "      <th>rental_id</th>\n",
       "      <th>amount</th>\n",
       "      <th>payment_date</th>\n",
       "      <th>last_update</th>\n",
       "    </tr>\n",
       "  </thead>\n",
       "  <tbody>\n",
       "    <tr>\n",
       "      <th>32</th>\n",
       "      <td>33</td>\n",
       "      <td>2</td>\n",
       "      <td>1</td>\n",
       "      <td>320.0</td>\n",
       "      <td>4.99</td>\n",
       "      <td>2005-05-27 00:09:24</td>\n",
       "      <td>2006-02-15 22:12:30</td>\n",
       "    </tr>\n",
       "    <tr>\n",
       "      <th>33</th>\n",
       "      <td>34</td>\n",
       "      <td>2</td>\n",
       "      <td>1</td>\n",
       "      <td>2128.0</td>\n",
       "      <td>2.99</td>\n",
       "      <td>2005-06-17 20:54:58</td>\n",
       "      <td>2006-02-15 22:12:30</td>\n",
       "    </tr>\n",
       "    <tr>\n",
       "      <th>34</th>\n",
       "      <td>35</td>\n",
       "      <td>2</td>\n",
       "      <td>1</td>\n",
       "      <td>5636.0</td>\n",
       "      <td>2.99</td>\n",
       "      <td>2005-07-10 06:31:24</td>\n",
       "      <td>2006-02-15 22:12:30</td>\n",
       "    </tr>\n",
       "    <tr>\n",
       "      <th>35</th>\n",
       "      <td>36</td>\n",
       "      <td>2</td>\n",
       "      <td>1</td>\n",
       "      <td>5755.0</td>\n",
       "      <td>6.99</td>\n",
       "      <td>2005-07-10 12:38:56</td>\n",
       "      <td>2006-02-15 22:12:30</td>\n",
       "    </tr>\n",
       "    <tr>\n",
       "      <th>36</th>\n",
       "      <td>37</td>\n",
       "      <td>2</td>\n",
       "      <td>2</td>\n",
       "      <td>7346.0</td>\n",
       "      <td>4.99</td>\n",
       "      <td>2005-07-27 14:30:42</td>\n",
       "      <td>2006-02-15 22:12:30</td>\n",
       "    </tr>\n",
       "    <tr>\n",
       "      <th>37</th>\n",
       "      <td>38</td>\n",
       "      <td>2</td>\n",
       "      <td>1</td>\n",
       "      <td>7376.0</td>\n",
       "      <td>5.99</td>\n",
       "      <td>2005-07-27 15:23:02</td>\n",
       "      <td>2006-02-15 22:12:30</td>\n",
       "    </tr>\n",
       "    <tr>\n",
       "      <th>38</th>\n",
       "      <td>39</td>\n",
       "      <td>2</td>\n",
       "      <td>2</td>\n",
       "      <td>7459.0</td>\n",
       "      <td>5.99</td>\n",
       "      <td>2005-07-27 18:40:20</td>\n",
       "      <td>2006-02-15 22:12:30</td>\n",
       "    </tr>\n",
       "    <tr>\n",
       "      <th>39</th>\n",
       "      <td>40</td>\n",
       "      <td>2</td>\n",
       "      <td>2</td>\n",
       "      <td>8230.0</td>\n",
       "      <td>5.99</td>\n",
       "      <td>2005-07-29 00:12:59</td>\n",
       "      <td>2006-02-15 22:12:30</td>\n",
       "    </tr>\n",
       "    <tr>\n",
       "      <th>40</th>\n",
       "      <td>41</td>\n",
       "      <td>2</td>\n",
       "      <td>1</td>\n",
       "      <td>8598.0</td>\n",
       "      <td>2.99</td>\n",
       "      <td>2005-07-29 12:56:59</td>\n",
       "      <td>2006-02-15 22:12:30</td>\n",
       "    </tr>\n",
       "    <tr>\n",
       "      <th>41</th>\n",
       "      <td>42</td>\n",
       "      <td>2</td>\n",
       "      <td>2</td>\n",
       "      <td>8705.0</td>\n",
       "      <td>5.99</td>\n",
       "      <td>2005-07-29 17:14:29</td>\n",
       "      <td>2006-02-15 22:12:30</td>\n",
       "    </tr>\n",
       "    <tr>\n",
       "      <th>42</th>\n",
       "      <td>43</td>\n",
       "      <td>2</td>\n",
       "      <td>1</td>\n",
       "      <td>9031.0</td>\n",
       "      <td>4.99</td>\n",
       "      <td>2005-07-30 06:06:10</td>\n",
       "      <td>2006-02-15 22:12:30</td>\n",
       "    </tr>\n",
       "    <tr>\n",
       "      <th>43</th>\n",
       "      <td>44</td>\n",
       "      <td>2</td>\n",
       "      <td>2</td>\n",
       "      <td>9236.0</td>\n",
       "      <td>10.99</td>\n",
       "      <td>2005-07-30 13:47:43</td>\n",
       "      <td>2006-02-15 22:12:30</td>\n",
       "    </tr>\n",
       "    <tr>\n",
       "      <th>44</th>\n",
       "      <td>45</td>\n",
       "      <td>2</td>\n",
       "      <td>2</td>\n",
       "      <td>9248.0</td>\n",
       "      <td>0.99</td>\n",
       "      <td>2005-07-30 14:14:11</td>\n",
       "      <td>2006-02-15 22:12:30</td>\n",
       "    </tr>\n",
       "    <tr>\n",
       "      <th>45</th>\n",
       "      <td>46</td>\n",
       "      <td>2</td>\n",
       "      <td>2</td>\n",
       "      <td>9296.0</td>\n",
       "      <td>6.99</td>\n",
       "      <td>2005-07-30 16:21:13</td>\n",
       "      <td>2006-02-15 22:12:30</td>\n",
       "    </tr>\n",
       "    <tr>\n",
       "      <th>46</th>\n",
       "      <td>47</td>\n",
       "      <td>2</td>\n",
       "      <td>2</td>\n",
       "      <td>9465.0</td>\n",
       "      <td>6.99</td>\n",
       "      <td>2005-07-30 22:39:53</td>\n",
       "      <td>2006-02-15 22:12:30</td>\n",
       "    </tr>\n",
       "    <tr>\n",
       "      <th>47</th>\n",
       "      <td>48</td>\n",
       "      <td>2</td>\n",
       "      <td>1</td>\n",
       "      <td>10136.0</td>\n",
       "      <td>2.99</td>\n",
       "      <td>2005-07-31 21:58:56</td>\n",
       "      <td>2006-02-15 22:12:30</td>\n",
       "    </tr>\n",
       "    <tr>\n",
       "      <th>48</th>\n",
       "      <td>49</td>\n",
       "      <td>2</td>\n",
       "      <td>1</td>\n",
       "      <td>10466.0</td>\n",
       "      <td>0.99</td>\n",
       "      <td>2005-08-01 09:45:26</td>\n",
       "      <td>2006-02-15 22:12:30</td>\n",
       "    </tr>\n",
       "    <tr>\n",
       "      <th>49</th>\n",
       "      <td>50</td>\n",
       "      <td>2</td>\n",
       "      <td>1</td>\n",
       "      <td>10918.0</td>\n",
       "      <td>0.99</td>\n",
       "      <td>2005-08-02 02:10:56</td>\n",
       "      <td>2006-02-15 22:12:30</td>\n",
       "    </tr>\n",
       "    <tr>\n",
       "      <th>50</th>\n",
       "      <td>51</td>\n",
       "      <td>2</td>\n",
       "      <td>1</td>\n",
       "      <td>11087.0</td>\n",
       "      <td>5.99</td>\n",
       "      <td>2005-08-02 07:41:41</td>\n",
       "      <td>2006-02-15 22:12:30</td>\n",
       "    </tr>\n",
       "    <tr>\n",
       "      <th>51</th>\n",
       "      <td>52</td>\n",
       "      <td>2</td>\n",
       "      <td>1</td>\n",
       "      <td>11177.0</td>\n",
       "      <td>6.99</td>\n",
       "      <td>2005-08-02 10:43:48</td>\n",
       "      <td>2006-02-15 22:12:30</td>\n",
       "    </tr>\n",
       "    <tr>\n",
       "      <th>52</th>\n",
       "      <td>53</td>\n",
       "      <td>2</td>\n",
       "      <td>2</td>\n",
       "      <td>11256.0</td>\n",
       "      <td>2.99</td>\n",
       "      <td>2005-08-02 13:44:53</td>\n",
       "      <td>2006-02-15 22:12:30</td>\n",
       "    </tr>\n",
       "    <tr>\n",
       "      <th>53</th>\n",
       "      <td>54</td>\n",
       "      <td>2</td>\n",
       "      <td>1</td>\n",
       "      <td>11614.0</td>\n",
       "      <td>2.99</td>\n",
       "      <td>2005-08-17 03:52:18</td>\n",
       "      <td>2006-02-15 22:12:30</td>\n",
       "    </tr>\n",
       "    <tr>\n",
       "      <th>54</th>\n",
       "      <td>55</td>\n",
       "      <td>2</td>\n",
       "      <td>1</td>\n",
       "      <td>12963.0</td>\n",
       "      <td>2.99</td>\n",
       "      <td>2005-08-19 06:26:04</td>\n",
       "      <td>2006-02-15 22:12:30</td>\n",
       "    </tr>\n",
       "    <tr>\n",
       "      <th>55</th>\n",
       "      <td>56</td>\n",
       "      <td>2</td>\n",
       "      <td>1</td>\n",
       "      <td>14475.0</td>\n",
       "      <td>4.99</td>\n",
       "      <td>2005-08-21 13:24:32</td>\n",
       "      <td>2006-02-15 22:12:30</td>\n",
       "    </tr>\n",
       "    <tr>\n",
       "      <th>56</th>\n",
       "      <td>57</td>\n",
       "      <td>2</td>\n",
       "      <td>2</td>\n",
       "      <td>14743.0</td>\n",
       "      <td>5.99</td>\n",
       "      <td>2005-08-21 22:41:56</td>\n",
       "      <td>2006-02-15 22:12:30</td>\n",
       "    </tr>\n",
       "    <tr>\n",
       "      <th>57</th>\n",
       "      <td>58</td>\n",
       "      <td>2</td>\n",
       "      <td>2</td>\n",
       "      <td>15145.0</td>\n",
       "      <td>4.99</td>\n",
       "      <td>2005-08-22 13:53:04</td>\n",
       "      <td>2006-02-15 22:12:30</td>\n",
       "    </tr>\n",
       "    <tr>\n",
       "      <th>58</th>\n",
       "      <td>59</td>\n",
       "      <td>2</td>\n",
       "      <td>2</td>\n",
       "      <td>15907.0</td>\n",
       "      <td>4.99</td>\n",
       "      <td>2005-08-23 17:39:35</td>\n",
       "      <td>2006-02-15 22:12:30</td>\n",
       "    </tr>\n",
       "  </tbody>\n",
       "</table>\n",
       "</div>"
      ],
      "text/plain": [
       "    payment_id  customer_id  staff_id  rental_id  amount         payment_date  \\\n",
       "32          33            2         1      320.0    4.99  2005-05-27 00:09:24   \n",
       "33          34            2         1     2128.0    2.99  2005-06-17 20:54:58   \n",
       "34          35            2         1     5636.0    2.99  2005-07-10 06:31:24   \n",
       "35          36            2         1     5755.0    6.99  2005-07-10 12:38:56   \n",
       "36          37            2         2     7346.0    4.99  2005-07-27 14:30:42   \n",
       "37          38            2         1     7376.0    5.99  2005-07-27 15:23:02   \n",
       "38          39            2         2     7459.0    5.99  2005-07-27 18:40:20   \n",
       "39          40            2         2     8230.0    5.99  2005-07-29 00:12:59   \n",
       "40          41            2         1     8598.0    2.99  2005-07-29 12:56:59   \n",
       "41          42            2         2     8705.0    5.99  2005-07-29 17:14:29   \n",
       "42          43            2         1     9031.0    4.99  2005-07-30 06:06:10   \n",
       "43          44            2         2     9236.0   10.99  2005-07-30 13:47:43   \n",
       "44          45            2         2     9248.0    0.99  2005-07-30 14:14:11   \n",
       "45          46            2         2     9296.0    6.99  2005-07-30 16:21:13   \n",
       "46          47            2         2     9465.0    6.99  2005-07-30 22:39:53   \n",
       "47          48            2         1    10136.0    2.99  2005-07-31 21:58:56   \n",
       "48          49            2         1    10466.0    0.99  2005-08-01 09:45:26   \n",
       "49          50            2         1    10918.0    0.99  2005-08-02 02:10:56   \n",
       "50          51            2         1    11087.0    5.99  2005-08-02 07:41:41   \n",
       "51          52            2         1    11177.0    6.99  2005-08-02 10:43:48   \n",
       "52          53            2         2    11256.0    2.99  2005-08-02 13:44:53   \n",
       "53          54            2         1    11614.0    2.99  2005-08-17 03:52:18   \n",
       "54          55            2         1    12963.0    2.99  2005-08-19 06:26:04   \n",
       "55          56            2         1    14475.0    4.99  2005-08-21 13:24:32   \n",
       "56          57            2         2    14743.0    5.99  2005-08-21 22:41:56   \n",
       "57          58            2         2    15145.0    4.99  2005-08-22 13:53:04   \n",
       "58          59            2         2    15907.0    4.99  2005-08-23 17:39:35   \n",
       "\n",
       "            last_update  \n",
       "32  2006-02-15 22:12:30  \n",
       "33  2006-02-15 22:12:30  \n",
       "34  2006-02-15 22:12:30  \n",
       "35  2006-02-15 22:12:30  \n",
       "36  2006-02-15 22:12:30  \n",
       "37  2006-02-15 22:12:30  \n",
       "38  2006-02-15 22:12:30  \n",
       "39  2006-02-15 22:12:30  \n",
       "40  2006-02-15 22:12:30  \n",
       "41  2006-02-15 22:12:30  \n",
       "42  2006-02-15 22:12:30  \n",
       "43  2006-02-15 22:12:30  \n",
       "44  2006-02-15 22:12:30  \n",
       "45  2006-02-15 22:12:30  \n",
       "46  2006-02-15 22:12:30  \n",
       "47  2006-02-15 22:12:30  \n",
       "48  2006-02-15 22:12:30  \n",
       "49  2006-02-15 22:12:30  \n",
       "50  2006-02-15 22:12:30  \n",
       "51  2006-02-15 22:12:30  \n",
       "52  2006-02-15 22:12:30  \n",
       "53  2006-02-15 22:12:30  \n",
       "54  2006-02-15 22:12:30  \n",
       "55  2006-02-15 22:12:30  \n",
       "56  2006-02-15 22:12:30  \n",
       "57  2006-02-15 22:12:30  \n",
       "58  2006-02-15 22:12:30  "
      ]
     },
     "execution_count": 358,
     "metadata": {},
     "output_type": "execute_result"
    }
   ],
   "source": [
    "customer_groups.get_group(2)\n",
    "\n",
    "# 유저별 매출 => DataFrame ( columns: [\"customer_id\", \"revenue\" ])"
   ]
  },
  {
   "cell_type": "code",
   "execution_count": null,
   "metadata": {
    "collapsed": true
   },
   "outputs": [],
   "source": []
  },
  {
   "cell_type": "code",
   "execution_count": null,
   "metadata": {
    "collapsed": true
   },
   "outputs": [],
   "source": []
  },
  {
   "cell_type": "code",
   "execution_count": 362,
   "metadata": {
    "collapsed": true
   },
   "outputs": [],
   "source": [
    "# 1. DataFrame(columns=[\"customer_id\", \"revenue\"])\n",
    "#    df.loc[len(df)] ...\n",
    "# 2. [{}, {}, {}, ...] => DataFrame"
   ]
  },
  {
   "cell_type": "code",
   "execution_count": 365,
   "metadata": {
    "collapsed": false
   },
   "outputs": [],
   "source": [
    "unique_customer_ids = np.unique(df.customer_id)"
   ]
  },
  {
   "cell_type": "code",
   "execution_count": 369,
   "metadata": {
    "collapsed": false
   },
   "outputs": [],
   "source": [
    "revenue_per_customer_df = DataFrame([\n",
    "    {\n",
    "        \"customer_id\": customer_id,\n",
    "        \"count\": len(customer_groups.get_group(customer_id)),\n",
    "        \"revenue\": customer_groups.get_group(customer_id).amount.sum()\n",
    "    }\n",
    "    for customer_id\n",
    "    in unique_customer_ids\n",
    "])"
   ]
  },
  {
   "cell_type": "code",
   "execution_count": 371,
   "metadata": {
    "collapsed": false
   },
   "outputs": [],
   "source": [
    "# split-apply-combine\n",
    "# -     -     -\n",
    "#       ----            : pivot_table, crosstab"
   ]
  },
  {
   "cell_type": "code",
   "execution_count": 372,
   "metadata": {
    "collapsed": true
   },
   "outputs": [],
   "source": [
    "# 무슨 일을 하고 있는지?"
   ]
  },
  {
   "cell_type": "code",
   "execution_count": 379,
   "metadata": {
    "collapsed": false
   },
   "outputs": [],
   "source": [
    "# apply: amount => sum\n",
    "# combine: customer_id \n",
    "# ======================= aggregate ( = 집계하다 )\n",
    "# df.groupby(\"customer_id\").aggregate({\"amount\": \"sum\"})"
   ]
  },
  {
   "cell_type": "code",
   "execution_count": 380,
   "metadata": {
    "collapsed": true
   },
   "outputs": [],
   "source": [
    "# 1. numpy.ndarray\n",
    "# 2. pandas.Series\n",
    "# 3. pandas.DataFrame"
   ]
  },
  {
   "cell_type": "code",
   "execution_count": 383,
   "metadata": {
    "collapsed": false
   },
   "outputs": [],
   "source": [
    "# 일별 매출\n",
    "# 월별 매출 \n",
    "\n",
    "# payment_date -> group_by (*)"
   ]
  },
  {
   "cell_type": "code",
   "execution_count": 384,
   "metadata": {
    "collapsed": true
   },
   "outputs": [],
   "source": [
    "import requests"
   ]
  },
  {
   "cell_type": "code",
   "execution_count": 385,
   "metadata": {
    "collapsed": true
   },
   "outputs": [],
   "source": [
    "response = requests.get(\"https://api.zigbang.com/v1/items?detail=true&item_ids=6423394&item_ids=6395815&item_ids=5995433&item_ids=6424758&item_ids=6211301&item_ids=6285114&item_ids=6426548&item_ids=6410702&item_ids=6305853&item_ids=6256852&item_ids=6396121&item_ids=6424508&item_ids=6393377&item_ids=6415633&item_ids=6338386&item_ids=6422447&item_ids=6167680&item_ids=6424804&item_ids=6400219&item_ids=6235949&item_ids=6312690&item_ids=6394232&item_ids=6188763&item_ids=6289652&item_ids=6389364&item_ids=6425232&item_ids=6323511&item_ids=6322440&item_ids=6254050&item_ids=6339438&item_ids=6398176&item_ids=6254961&item_ids=6124173&item_ids=6387858&item_ids=6322281&item_ids=6421010&item_ids=6238499&item_ids=6367887&item_ids=6354071&item_ids=6417467&item_ids=6427351&item_ids=6425246&item_ids=6424318&item_ids=6335211&item_ids=6113664&item_ids=6275936&item_ids=6413574&item_ids=6384007&item_ids=6222912&item_ids=6422507&item_ids=6293543&item_ids=6405725&item_ids=6413261&item_ids=6424746&item_ids=6350223&item_ids=6401349&item_ids=6390306&item_ids=6276404&item_ids=6323525&item_ids=6394144\")"
   ]
  },
  {
   "cell_type": "code",
   "execution_count": 386,
   "metadata": {
    "collapsed": true
   },
   "outputs": [],
   "source": [
    "data = response.json()"
   ]
  },
  {
   "cell_type": "code",
   "execution_count": 389,
   "metadata": {
    "collapsed": false
   },
   "outputs": [],
   "source": [
    "data = [\n",
    "    item.get(\"item\")\n",
    "    for item\n",
    "    in data.get(\"items\")\n",
    "]"
   ]
  },
  {
   "cell_type": "code",
   "execution_count": 391,
   "metadata": {
    "collapsed": false
   },
   "outputs": [],
   "source": [
    "df = pd.DataFrame(data)"
   ]
  },
  {
   "cell_type": "code",
   "execution_count": 394,
   "metadata": {
    "collapsed": false
   },
   "outputs": [],
   "source": [
    "df = df[[ \"deposit\", \"rent\", \"id\", ] ]"
   ]
  },
  {
   "cell_type": "code",
   "execution_count": 402,
   "metadata": {
    "collapsed": false
   },
   "outputs": [
    {
     "name": "stderr",
     "output_type": "stream",
     "text": [
      "/usr/local/lib/python3.4/dist-packages/pandas/core/generic.py:2701: SettingWithCopyWarning: \n",
      "A value is trying to be set on a copy of a slice from a DataFrame.\n",
      "Try using .loc[row_indexer,col_indexer] = value instead\n",
      "\n",
      "See the caveats in the documentation: http://pandas.pydata.org/pandas-docs/stable/indexing.html#indexing-view-versus-copy\n",
      "  self[name] = value\n"
     ]
    },
    {
     "data": {
      "text/html": [
       "<div>\n",
       "<table border=\"1\" class=\"dataframe\">\n",
       "  <thead>\n",
       "    <tr style=\"text-align: right;\">\n",
       "      <th></th>\n",
       "      <th>deposit</th>\n",
       "      <th>rent</th>\n",
       "      <th>id</th>\n",
       "      <th>standard</th>\n",
       "    </tr>\n",
       "  </thead>\n",
       "  <tbody>\n",
       "    <tr>\n",
       "      <th>0</th>\n",
       "      <td>2000</td>\n",
       "      <td>60</td>\n",
       "      <td>6423394</td>\n",
       "      <td>8000</td>\n",
       "    </tr>\n",
       "    <tr>\n",
       "      <th>1</th>\n",
       "      <td>23000</td>\n",
       "      <td>0</td>\n",
       "      <td>5995433</td>\n",
       "      <td>23000</td>\n",
       "    </tr>\n",
       "    <tr>\n",
       "      <th>2</th>\n",
       "      <td>500</td>\n",
       "      <td>55</td>\n",
       "      <td>6424758</td>\n",
       "      <td>6000</td>\n",
       "    </tr>\n",
       "    <tr>\n",
       "      <th>3</th>\n",
       "      <td>1000</td>\n",
       "      <td>44</td>\n",
       "      <td>6211301</td>\n",
       "      <td>5400</td>\n",
       "    </tr>\n",
       "    <tr>\n",
       "      <th>4</th>\n",
       "      <td>7000</td>\n",
       "      <td>0</td>\n",
       "      <td>6426548</td>\n",
       "      <td>7000</td>\n",
       "    </tr>\n",
       "    <tr>\n",
       "      <th>5</th>\n",
       "      <td>400</td>\n",
       "      <td>32</td>\n",
       "      <td>6410702</td>\n",
       "      <td>3600</td>\n",
       "    </tr>\n",
       "    <tr>\n",
       "      <th>6</th>\n",
       "      <td>300</td>\n",
       "      <td>29</td>\n",
       "      <td>6305853</td>\n",
       "      <td>3200</td>\n",
       "    </tr>\n",
       "    <tr>\n",
       "      <th>7</th>\n",
       "      <td>3000</td>\n",
       "      <td>35</td>\n",
       "      <td>6256852</td>\n",
       "      <td>6500</td>\n",
       "    </tr>\n",
       "    <tr>\n",
       "      <th>8</th>\n",
       "      <td>3000</td>\n",
       "      <td>20</td>\n",
       "      <td>6396121</td>\n",
       "      <td>5000</td>\n",
       "    </tr>\n",
       "    <tr>\n",
       "      <th>9</th>\n",
       "      <td>500</td>\n",
       "      <td>30</td>\n",
       "      <td>6424508</td>\n",
       "      <td>3500</td>\n",
       "    </tr>\n",
       "    <tr>\n",
       "      <th>10</th>\n",
       "      <td>11000</td>\n",
       "      <td>0</td>\n",
       "      <td>6393377</td>\n",
       "      <td>11000</td>\n",
       "    </tr>\n",
       "    <tr>\n",
       "      <th>11</th>\n",
       "      <td>200</td>\n",
       "      <td>32</td>\n",
       "      <td>6415633</td>\n",
       "      <td>3400</td>\n",
       "    </tr>\n",
       "    <tr>\n",
       "      <th>12</th>\n",
       "      <td>500</td>\n",
       "      <td>40</td>\n",
       "      <td>6338386</td>\n",
       "      <td>4500</td>\n",
       "    </tr>\n",
       "    <tr>\n",
       "      <th>13</th>\n",
       "      <td>500</td>\n",
       "      <td>35</td>\n",
       "      <td>6422447</td>\n",
       "      <td>4000</td>\n",
       "    </tr>\n",
       "    <tr>\n",
       "      <th>14</th>\n",
       "      <td>200</td>\n",
       "      <td>29</td>\n",
       "      <td>6167680</td>\n",
       "      <td>3100</td>\n",
       "    </tr>\n",
       "    <tr>\n",
       "      <th>15</th>\n",
       "      <td>100</td>\n",
       "      <td>30</td>\n",
       "      <td>6424804</td>\n",
       "      <td>3100</td>\n",
       "    </tr>\n",
       "    <tr>\n",
       "      <th>16</th>\n",
       "      <td>2000</td>\n",
       "      <td>37</td>\n",
       "      <td>6400219</td>\n",
       "      <td>5700</td>\n",
       "    </tr>\n",
       "    <tr>\n",
       "      <th>17</th>\n",
       "      <td>2000</td>\n",
       "      <td>55</td>\n",
       "      <td>6235949</td>\n",
       "      <td>7500</td>\n",
       "    </tr>\n",
       "    <tr>\n",
       "      <th>18</th>\n",
       "      <td>8000</td>\n",
       "      <td>0</td>\n",
       "      <td>6312690</td>\n",
       "      <td>8000</td>\n",
       "    </tr>\n",
       "    <tr>\n",
       "      <th>19</th>\n",
       "      <td>1000</td>\n",
       "      <td>37</td>\n",
       "      <td>6394232</td>\n",
       "      <td>4700</td>\n",
       "    </tr>\n",
       "    <tr>\n",
       "      <th>20</th>\n",
       "      <td>6000</td>\n",
       "      <td>10</td>\n",
       "      <td>6188763</td>\n",
       "      <td>7000</td>\n",
       "    </tr>\n",
       "    <tr>\n",
       "      <th>21</th>\n",
       "      <td>23500</td>\n",
       "      <td>0</td>\n",
       "      <td>6289652</td>\n",
       "      <td>23500</td>\n",
       "    </tr>\n",
       "    <tr>\n",
       "      <th>22</th>\n",
       "      <td>8500</td>\n",
       "      <td>15</td>\n",
       "      <td>6389364</td>\n",
       "      <td>10000</td>\n",
       "    </tr>\n",
       "    <tr>\n",
       "      <th>23</th>\n",
       "      <td>6700</td>\n",
       "      <td>0</td>\n",
       "      <td>6425232</td>\n",
       "      <td>6700</td>\n",
       "    </tr>\n",
       "    <tr>\n",
       "      <th>24</th>\n",
       "      <td>14000</td>\n",
       "      <td>10</td>\n",
       "      <td>6323511</td>\n",
       "      <td>15000</td>\n",
       "    </tr>\n",
       "    <tr>\n",
       "      <th>25</th>\n",
       "      <td>9000</td>\n",
       "      <td>0</td>\n",
       "      <td>6322440</td>\n",
       "      <td>9000</td>\n",
       "    </tr>\n",
       "    <tr>\n",
       "      <th>26</th>\n",
       "      <td>300</td>\n",
       "      <td>52</td>\n",
       "      <td>6254050</td>\n",
       "      <td>5500</td>\n",
       "    </tr>\n",
       "    <tr>\n",
       "      <th>27</th>\n",
       "      <td>6500</td>\n",
       "      <td>0</td>\n",
       "      <td>6339438</td>\n",
       "      <td>6500</td>\n",
       "    </tr>\n",
       "    <tr>\n",
       "      <th>28</th>\n",
       "      <td>20000</td>\n",
       "      <td>0</td>\n",
       "      <td>6398176</td>\n",
       "      <td>20000</td>\n",
       "    </tr>\n",
       "    <tr>\n",
       "      <th>29</th>\n",
       "      <td>1000</td>\n",
       "      <td>48</td>\n",
       "      <td>6254961</td>\n",
       "      <td>5800</td>\n",
       "    </tr>\n",
       "    <tr>\n",
       "      <th>30</th>\n",
       "      <td>29000</td>\n",
       "      <td>0</td>\n",
       "      <td>6124173</td>\n",
       "      <td>29000</td>\n",
       "    </tr>\n",
       "    <tr>\n",
       "      <th>31</th>\n",
       "      <td>11000</td>\n",
       "      <td>0</td>\n",
       "      <td>6387858</td>\n",
       "      <td>11000</td>\n",
       "    </tr>\n",
       "    <tr>\n",
       "      <th>32</th>\n",
       "      <td>15500</td>\n",
       "      <td>0</td>\n",
       "      <td>6322281</td>\n",
       "      <td>15500</td>\n",
       "    </tr>\n",
       "    <tr>\n",
       "      <th>33</th>\n",
       "      <td>19000</td>\n",
       "      <td>0</td>\n",
       "      <td>6421010</td>\n",
       "      <td>19000</td>\n",
       "    </tr>\n",
       "    <tr>\n",
       "      <th>34</th>\n",
       "      <td>2000</td>\n",
       "      <td>45</td>\n",
       "      <td>6238499</td>\n",
       "      <td>6500</td>\n",
       "    </tr>\n",
       "    <tr>\n",
       "      <th>35</th>\n",
       "      <td>19000</td>\n",
       "      <td>0</td>\n",
       "      <td>6367887</td>\n",
       "      <td>19000</td>\n",
       "    </tr>\n",
       "    <tr>\n",
       "      <th>36</th>\n",
       "      <td>500</td>\n",
       "      <td>40</td>\n",
       "      <td>6354071</td>\n",
       "      <td>4500</td>\n",
       "    </tr>\n",
       "    <tr>\n",
       "      <th>37</th>\n",
       "      <td>500</td>\n",
       "      <td>35</td>\n",
       "      <td>6417467</td>\n",
       "      <td>4000</td>\n",
       "    </tr>\n",
       "    <tr>\n",
       "      <th>38</th>\n",
       "      <td>3000</td>\n",
       "      <td>100</td>\n",
       "      <td>6427351</td>\n",
       "      <td>13000</td>\n",
       "    </tr>\n",
       "    <tr>\n",
       "      <th>39</th>\n",
       "      <td>4300</td>\n",
       "      <td>0</td>\n",
       "      <td>6425246</td>\n",
       "      <td>4300</td>\n",
       "    </tr>\n",
       "    <tr>\n",
       "      <th>40</th>\n",
       "      <td>100</td>\n",
       "      <td>29</td>\n",
       "      <td>6424318</td>\n",
       "      <td>3000</td>\n",
       "    </tr>\n",
       "    <tr>\n",
       "      <th>41</th>\n",
       "      <td>8400</td>\n",
       "      <td>0</td>\n",
       "      <td>6335211</td>\n",
       "      <td>8400</td>\n",
       "    </tr>\n",
       "    <tr>\n",
       "      <th>42</th>\n",
       "      <td>12000</td>\n",
       "      <td>0</td>\n",
       "      <td>6113664</td>\n",
       "      <td>12000</td>\n",
       "    </tr>\n",
       "    <tr>\n",
       "      <th>43</th>\n",
       "      <td>1000</td>\n",
       "      <td>55</td>\n",
       "      <td>6275936</td>\n",
       "      <td>6500</td>\n",
       "    </tr>\n",
       "    <tr>\n",
       "      <th>44</th>\n",
       "      <td>1000</td>\n",
       "      <td>55</td>\n",
       "      <td>6413574</td>\n",
       "      <td>6500</td>\n",
       "    </tr>\n",
       "    <tr>\n",
       "      <th>45</th>\n",
       "      <td>1000</td>\n",
       "      <td>40</td>\n",
       "      <td>6384007</td>\n",
       "      <td>5000</td>\n",
       "    </tr>\n",
       "    <tr>\n",
       "      <th>46</th>\n",
       "      <td>300</td>\n",
       "      <td>42</td>\n",
       "      <td>6222912</td>\n",
       "      <td>4500</td>\n",
       "    </tr>\n",
       "    <tr>\n",
       "      <th>47</th>\n",
       "      <td>1000</td>\n",
       "      <td>50</td>\n",
       "      <td>6422507</td>\n",
       "      <td>6000</td>\n",
       "    </tr>\n",
       "    <tr>\n",
       "      <th>48</th>\n",
       "      <td>1000</td>\n",
       "      <td>55</td>\n",
       "      <td>6293543</td>\n",
       "      <td>6500</td>\n",
       "    </tr>\n",
       "    <tr>\n",
       "      <th>49</th>\n",
       "      <td>500</td>\n",
       "      <td>45</td>\n",
       "      <td>6405725</td>\n",
       "      <td>5000</td>\n",
       "    </tr>\n",
       "    <tr>\n",
       "      <th>50</th>\n",
       "      <td>11000</td>\n",
       "      <td>0</td>\n",
       "      <td>6413261</td>\n",
       "      <td>11000</td>\n",
       "    </tr>\n",
       "    <tr>\n",
       "      <th>51</th>\n",
       "      <td>13000</td>\n",
       "      <td>0</td>\n",
       "      <td>6424746</td>\n",
       "      <td>13000</td>\n",
       "    </tr>\n",
       "    <tr>\n",
       "      <th>52</th>\n",
       "      <td>5000</td>\n",
       "      <td>20</td>\n",
       "      <td>6350223</td>\n",
       "      <td>7000</td>\n",
       "    </tr>\n",
       "    <tr>\n",
       "      <th>53</th>\n",
       "      <td>300</td>\n",
       "      <td>32</td>\n",
       "      <td>6401349</td>\n",
       "      <td>3500</td>\n",
       "    </tr>\n",
       "    <tr>\n",
       "      <th>54</th>\n",
       "      <td>100</td>\n",
       "      <td>27</td>\n",
       "      <td>6390306</td>\n",
       "      <td>2800</td>\n",
       "    </tr>\n",
       "    <tr>\n",
       "      <th>55</th>\n",
       "      <td>2000</td>\n",
       "      <td>95</td>\n",
       "      <td>6276404</td>\n",
       "      <td>11500</td>\n",
       "    </tr>\n",
       "    <tr>\n",
       "      <th>56</th>\n",
       "      <td>5000</td>\n",
       "      <td>20</td>\n",
       "      <td>6323525</td>\n",
       "      <td>7000</td>\n",
       "    </tr>\n",
       "    <tr>\n",
       "      <th>57</th>\n",
       "      <td>500</td>\n",
       "      <td>50</td>\n",
       "      <td>6394144</td>\n",
       "      <td>5500</td>\n",
       "    </tr>\n",
       "  </tbody>\n",
       "</table>\n",
       "</div>"
      ],
      "text/plain": [
       "    deposit  rent       id  standard\n",
       "0      2000    60  6423394      8000\n",
       "1     23000     0  5995433     23000\n",
       "2       500    55  6424758      6000\n",
       "3      1000    44  6211301      5400\n",
       "4      7000     0  6426548      7000\n",
       "5       400    32  6410702      3600\n",
       "6       300    29  6305853      3200\n",
       "7      3000    35  6256852      6500\n",
       "8      3000    20  6396121      5000\n",
       "9       500    30  6424508      3500\n",
       "10    11000     0  6393377     11000\n",
       "11      200    32  6415633      3400\n",
       "12      500    40  6338386      4500\n",
       "13      500    35  6422447      4000\n",
       "14      200    29  6167680      3100\n",
       "15      100    30  6424804      3100\n",
       "16     2000    37  6400219      5700\n",
       "17     2000    55  6235949      7500\n",
       "18     8000     0  6312690      8000\n",
       "19     1000    37  6394232      4700\n",
       "20     6000    10  6188763      7000\n",
       "21    23500     0  6289652     23500\n",
       "22     8500    15  6389364     10000\n",
       "23     6700     0  6425232      6700\n",
       "24    14000    10  6323511     15000\n",
       "25     9000     0  6322440      9000\n",
       "26      300    52  6254050      5500\n",
       "27     6500     0  6339438      6500\n",
       "28    20000     0  6398176     20000\n",
       "29     1000    48  6254961      5800\n",
       "30    29000     0  6124173     29000\n",
       "31    11000     0  6387858     11000\n",
       "32    15500     0  6322281     15500\n",
       "33    19000     0  6421010     19000\n",
       "34     2000    45  6238499      6500\n",
       "35    19000     0  6367887     19000\n",
       "36      500    40  6354071      4500\n",
       "37      500    35  6417467      4000\n",
       "38     3000   100  6427351     13000\n",
       "39     4300     0  6425246      4300\n",
       "40      100    29  6424318      3000\n",
       "41     8400     0  6335211      8400\n",
       "42    12000     0  6113664     12000\n",
       "43     1000    55  6275936      6500\n",
       "44     1000    55  6413574      6500\n",
       "45     1000    40  6384007      5000\n",
       "46      300    42  6222912      4500\n",
       "47     1000    50  6422507      6000\n",
       "48     1000    55  6293543      6500\n",
       "49      500    45  6405725      5000\n",
       "50    11000     0  6413261     11000\n",
       "51    13000     0  6424746     13000\n",
       "52     5000    20  6350223      7000\n",
       "53      300    32  6401349      3500\n",
       "54      100    27  6390306      2800\n",
       "55     2000    95  6276404     11500\n",
       "56     5000    20  6323525      7000\n",
       "57      500    50  6394144      5500"
      ]
     },
     "execution_count": 402,
     "metadata": {},
     "output_type": "execute_result"
    }
   ],
   "source": [
    "df\n",
    "# 보증금, 월세 => 표준 가격 \n",
    "# df[\"standard\"] = 0       # 보증금 + 월세 * 100\n",
    "df.standard = df.deposit + 100 * df.rent\n",
    "df"
   ]
  },
  {
   "cell_type": "code",
   "execution_count": null,
   "metadata": {
    "collapsed": true
   },
   "outputs": [],
   "source": []
  },
  {
   "cell_type": "code",
   "execution_count": 404,
   "metadata": {
    "collapsed": false
   },
   "outputs": [
    {
     "data": {
      "text/html": [
       "<div>\n",
       "<table border=\"1\" class=\"dataframe\">\n",
       "  <thead>\n",
       "    <tr style=\"text-align: right;\">\n",
       "      <th></th>\n",
       "      <th>deposit</th>\n",
       "      <th>rent</th>\n",
       "      <th>id</th>\n",
       "      <th>standard</th>\n",
       "    </tr>\n",
       "  </thead>\n",
       "  <tbody>\n",
       "    <tr>\n",
       "      <th>0</th>\n",
       "      <td>2000</td>\n",
       "      <td>60</td>\n",
       "      <td>6423394</td>\n",
       "      <td>8000</td>\n",
       "    </tr>\n",
       "    <tr>\n",
       "      <th>1</th>\n",
       "      <td>23000</td>\n",
       "      <td>0</td>\n",
       "      <td>5995433</td>\n",
       "      <td>23000</td>\n",
       "    </tr>\n",
       "    <tr>\n",
       "      <th>2</th>\n",
       "      <td>500</td>\n",
       "      <td>55</td>\n",
       "      <td>6424758</td>\n",
       "      <td>6000</td>\n",
       "    </tr>\n",
       "    <tr>\n",
       "      <th>3</th>\n",
       "      <td>1000</td>\n",
       "      <td>44</td>\n",
       "      <td>6211301</td>\n",
       "      <td>5400</td>\n",
       "    </tr>\n",
       "    <tr>\n",
       "      <th>4</th>\n",
       "      <td>7000</td>\n",
       "      <td>0</td>\n",
       "      <td>6426548</td>\n",
       "      <td>7000</td>\n",
       "    </tr>\n",
       "  </tbody>\n",
       "</table>\n",
       "</div>"
      ],
      "text/plain": [
       "   deposit  rent       id  standard\n",
       "0     2000    60  6423394      8000\n",
       "1    23000     0  5995433     23000\n",
       "2      500    55  6424758      6000\n",
       "3     1000    44  6211301      5400\n",
       "4     7000     0  6426548      7000"
      ]
     },
     "execution_count": 404,
     "metadata": {},
     "output_type": "execute_result"
    }
   ],
   "source": [
    "df.head()\n",
    "\n",
    "# \"보증금은 2000만원 입니다.\"\n",
    "# \"보증급은 23000만원 입니다.\""
   ]
  },
  {
   "cell_type": "code",
   "execution_count": 408,
   "metadata": {
    "collapsed": false
   },
   "outputs": [
    {
     "data": {
      "text/plain": [
       "0      2000만원 입니다.\n",
       "1     23000만원 입니다.\n",
       "2       500만원 입니다.\n",
       "3      1000만원 입니다.\n",
       "4      7000만원 입니다.\n",
       "5       400만원 입니다.\n",
       "6       300만원 입니다.\n",
       "7      3000만원 입니다.\n",
       "8      3000만원 입니다.\n",
       "9       500만원 입니다.\n",
       "10    11000만원 입니다.\n",
       "11      200만원 입니다.\n",
       "12      500만원 입니다.\n",
       "13      500만원 입니다.\n",
       "14      200만원 입니다.\n",
       "15      100만원 입니다.\n",
       "16     2000만원 입니다.\n",
       "17     2000만원 입니다.\n",
       "18     8000만원 입니다.\n",
       "19     1000만원 입니다.\n",
       "20     6000만원 입니다.\n",
       "21    23500만원 입니다.\n",
       "22     8500만원 입니다.\n",
       "23     6700만원 입니다.\n",
       "24    14000만원 입니다.\n",
       "25     9000만원 입니다.\n",
       "26      300만원 입니다.\n",
       "27     6500만원 입니다.\n",
       "28    20000만원 입니다.\n",
       "29     1000만원 입니다.\n",
       "30    29000만원 입니다.\n",
       "31    11000만원 입니다.\n",
       "32    15500만원 입니다.\n",
       "33    19000만원 입니다.\n",
       "34     2000만원 입니다.\n",
       "35    19000만원 입니다.\n",
       "36      500만원 입니다.\n",
       "37      500만원 입니다.\n",
       "38     3000만원 입니다.\n",
       "39     4300만원 입니다.\n",
       "40      100만원 입니다.\n",
       "41     8400만원 입니다.\n",
       "42    12000만원 입니다.\n",
       "43     1000만원 입니다.\n",
       "44     1000만원 입니다.\n",
       "45     1000만원 입니다.\n",
       "46      300만원 입니다.\n",
       "47     1000만원 입니다.\n",
       "48     1000만원 입니다.\n",
       "49      500만원 입니다.\n",
       "50    11000만원 입니다.\n",
       "51    13000만원 입니다.\n",
       "52     5000만원 입니다.\n",
       "53      300만원 입니다.\n",
       "54      100만원 입니다.\n",
       "55     2000만원 입니다.\n",
       "56     5000만원 입니다.\n",
       "57      500만원 입니다.\n",
       "Name: deposit, dtype: object"
      ]
     },
     "execution_count": 408,
     "metadata": {},
     "output_type": "execute_result"
    }
   ],
   "source": [
    "# split-apply-combine\n",
    "#       .apply ( 가장 일반화된 형태의 apply 함수 ) => pivot_table, crosstab\n",
    "df.deposit.apply(lambda x: str(x) + \"만원 입니다.\")"
   ]
  },
  {
   "cell_type": "code",
   "execution_count": null,
   "metadata": {
    "collapsed": true
   },
   "outputs": [],
   "source": []
  },
  {
   "cell_type": "code",
   "execution_count": null,
   "metadata": {
    "collapsed": true
   },
   "outputs": [],
   "source": []
  }
 ],
 "metadata": {
  "kernelspec": {
   "display_name": "Python 3",
   "language": "python",
   "name": "python3"
  },
  "language_info": {
   "codemirror_mode": {
    "name": "ipython",
    "version": 3
   },
   "file_extension": ".py",
   "mimetype": "text/x-python",
   "name": "python",
   "nbconvert_exporter": "python",
   "pygments_lexer": "ipython3",
   "version": "3.5.1"
  }
 },
 "nbformat": 4,
 "nbformat_minor": 1
}
